{
 "cells": [
  {
   "cell_type": "code",
   "execution_count": 1,
   "id": "f123ec74-0782-47e6-8865-3465e7b16c9e",
   "metadata": {},
   "outputs": [
    {
     "name": "stdout",
     "output_type": "stream",
     "text": [
      "['.ipynb_checkpoints', 'GM01.mat', 'GM02.mat', 'GM03.mat', 'GM04.mat', 'GM05.mat', 'GM06.mat', 'GM07.mat', 'GM08.mat', 'GM09.mat', 'GM10.mat', 'GM11.mat', 'GM12.mat', 'GM13.mat', 'GM14.mat', 'GM15.mat', 'GM16.mat', 'GM17.mat', 'GM18.mat']\n",
      "Processing file: Hyperspectral oil spill detection datasets/GM01.mat\n",
      "Processing file: Hyperspectral oil spill detection datasets/GM02.mat\n",
      "Processing file: Hyperspectral oil spill detection datasets/GM03.mat\n",
      "Processing file: Hyperspectral oil spill detection datasets/GM04.mat\n",
      "Processing file: Hyperspectral oil spill detection datasets/GM05.mat\n",
      "Processing file: Hyperspectral oil spill detection datasets/GM06.mat\n",
      "Processing file: Hyperspectral oil spill detection datasets/GM07.mat\n",
      "Processing file: Hyperspectral oil spill detection datasets/GM08.mat\n",
      "Processing file: Hyperspectral oil spill detection datasets/GM09.mat\n",
      "Processing file: Hyperspectral oil spill detection datasets/GM10.mat\n",
      "Processing file: Hyperspectral oil spill detection datasets/GM11.mat\n",
      "Processing file: Hyperspectral oil spill detection datasets/GM12.mat\n",
      "Processing file: Hyperspectral oil spill detection datasets/GM13.mat\n",
      "Processing file: Hyperspectral oil spill detection datasets/GM14.mat\n",
      "Processing file: Hyperspectral oil spill detection datasets/GM15.mat\n",
      "Processing file: Hyperspectral oil spill detection datasets/GM16.mat\n",
      "Processing file: Hyperspectral oil spill detection datasets/GM17.mat\n",
      "Processing file: Hyperspectral oil spill detection datasets/GM18.mat\n"
     ]
    }
   ],
   "source": [
    "from scipy.io import loadmat\n",
    "import os\n",
    "from HSI_class import HSI\n",
    "\n",
    "dataset_path = \"Hyperspectral oil spill detection datasets\"\n",
    "\n",
    "files = sorted(os.listdir(dataset_path))\n",
    "print(files)\n",
    "\n",
    "dataset = []\n",
    "\n",
    "for filename in files:\n",
    "    file_path = os.path.join(dataset_path, filename)\n",
    "    # print(file_path)\n",
    "    if os.path.isfile(file_path):  # Check if it's a file\n",
    "        print(f\"Processing file: {file_path}\")\n",
    "        hsi = HSI(file_path)\n",
    "        dataset.append(hsi)\n"
   ]
  },
  {
   "cell_type": "code",
   "execution_count": null,
   "id": "a3ac665e-f774-420f-a816-1b4461265062",
   "metadata": {},
   "outputs": [],
   "source": []
  }
 ],
 "metadata": {
  "kernelspec": {
   "display_name": "Python Conda (TAFathan)",
   "language": "python",
   "name": "tafathan"
  },
  "language_info": {
   "codemirror_mode": {
    "name": "ipython",
    "version": 3
   },
   "file_extension": ".py",
   "mimetype": "text/x-python",
   "name": "python",
   "nbconvert_exporter": "python",
   "pygments_lexer": "ipython3",
   "version": "3.13.2"
  }
 },
 "nbformat": 4,
 "nbformat_minor": 5
}
