{
 "cells": [
  {
   "cell_type": "code",
   "execution_count": 1,
   "id": "8ab9c9cc",
   "metadata": {},
   "outputs": [],
   "source": [
    "import os\n",
    "import numpy as np\n",
    "import pandas as pd\n",
    "from tqdm import tqdm\n",
    "import torch\n",
    "import torch.nn as nn\n",
    "from torchvision.models import vgg16\n",
    "from HSI_class import HSI\n",
    "import matplotlib.pyplot as plt\n",
    "from sklearn.metrics import precision_score, recall_score, f1_score, accuracy_score, confusion_matrix\n",
    "from sklearn.metrics import roc_curve, auc\n",
    "import zeroPadding\n",
    "\n",
    "import time\n",
    "start_time = time.time()"
   ]
  },
  {
   "cell_type": "code",
   "execution_count": 2,
   "id": "c6f79fe5",
   "metadata": {},
   "outputs": [
    {
     "name": "stdout",
     "output_type": "stream",
     "text": [
      "Processing file: C:\\Users\\Asus TUF\\Documents\\code\\TA\\Hyperspectral oil spill detection datasets\\GM01.mat\n",
      "Processing file: C:\\Users\\Asus TUF\\Documents\\code\\TA\\Hyperspectral oil spill detection datasets\\GM02.mat\n",
      "Processing file: C:\\Users\\Asus TUF\\Documents\\code\\TA\\Hyperspectral oil spill detection datasets\\GM03.mat\n",
      "Processing file: C:\\Users\\Asus TUF\\Documents\\code\\TA\\Hyperspectral oil spill detection datasets\\GM04.mat\n",
      "Processing file: C:\\Users\\Asus TUF\\Documents\\code\\TA\\Hyperspectral oil spill detection datasets\\GM05.mat\n",
      "Processing file: C:\\Users\\Asus TUF\\Documents\\code\\TA\\Hyperspectral oil spill detection datasets\\GM06.mat\n",
      "Processing file: C:\\Users\\Asus TUF\\Documents\\code\\TA\\Hyperspectral oil spill detection datasets\\GM07.mat\n",
      "Processing file: C:\\Users\\Asus TUF\\Documents\\code\\TA\\Hyperspectral oil spill detection datasets\\GM08.mat\n",
      "Processing file: C:\\Users\\Asus TUF\\Documents\\code\\TA\\Hyperspectral oil spill detection datasets\\GM09.mat\n",
      "Processing file: C:\\Users\\Asus TUF\\Documents\\code\\TA\\Hyperspectral oil spill detection datasets\\GM10.mat\n",
      "Processing file: C:\\Users\\Asus TUF\\Documents\\code\\TA\\Hyperspectral oil spill detection datasets\\GM11.mat\n"
     ]
    }
   ],
   "source": [
    "dataset_path = r\"C:\\Users\\Asus TUF\\Documents\\code\\TA\\Hyperspectral oil spill detection datasets\"\n",
    "\n",
    "datasets = []\n",
    "\n",
    "i = 0\n",
    "for filename in os.listdir(dataset_path):\n",
    "    if i>10:\n",
    "        break\n",
    "    file_path = os.path.join(dataset_path, filename)\n",
    "    if os.path.isfile(file_path):  # Check if it's a file\n",
    "        print(f\"Processing file: {file_path}\")\n",
    "        hsi = HSI(file_path)\n",
    "        datasets.append(hsi)\n",
    "    i += 1"
   ]
  },
  {
   "cell_type": "code",
   "execution_count": 3,
   "id": "31d40bd0",
   "metadata": {},
   "outputs": [],
   "source": [
    "def testWithDataset(n): \n",
    "    hsi_test = datasets[n]\n",
    "\n",
    "    test_img = hsi_test.img\n",
    "    test_gt = hsi_test.gt\n",
    "\n",
    "    patch_size = 9\n",
    "    half_patch = patch_size // 2\n",
    "\n",
    "    height = test_img.shape[0]\n",
    "    width = test_img.shape[1]\n",
    "\n",
    "    matrix=zeroPadding.zeroPadding_3D(test_img,half_patch) #add 0 in every side of the data\n",
    "    print(f\"img shape: {test_img.shape}\")\n",
    "    print(f\"img shape after padding {matrix.shape}\")\n",
    "    print(f\"number of pixel {width * height}\")\n",
    "\n",
    "    print(f\"ground truth shape: {test_gt.shape}\")\n",
    "\n",
    "    indices0 = np.argwhere(test_gt == 0)\n",
    "    indices1 = np.argwhere(test_gt == 1)\n",
    "\n",
    "    print(f\"indices = 0 shape: {indices0.shape}\")\n",
    "    print(f\"indices = 1 shape: {indices1.shape}\")\n",
    "\n",
    "    num_samples = 5000\n",
    "\n",
    "    random_indices0 = indices0[np.random.choice(len(indices0), num_samples, replace=False)]\n",
    "    random_indices1 = indices1[np.random.choice(len(indices1), num_samples, replace=False)]\n",
    "\n",
    "    test_indices = np.vstack((random_indices0, random_indices1))\n",
    "\n",
    "    print(test_indices.shape)\n",
    "\n",
    "    return test_indices, test_gt, matrix"
   ]
  },
  {
   "cell_type": "code",
   "execution_count": 4,
   "id": "af1b2bd4",
   "metadata": {},
   "outputs": [],
   "source": [
    "class VGG16_HSI(nn.Module):\n",
    "    def __init__(self, num_classes=2):\n",
    "        super(VGG16_HSI, self).__init__()\n",
    "\n",
    "         # Custom Convolutional Layer: Process 9x9x224 input\n",
    "        self.pre_conv = nn.Sequential(\n",
    "            nn.Conv2d(in_channels=224, out_channels=128, kernel_size=3, stride=1, padding=1),\n",
    "            nn.ReLU(),\n",
    "            nn.BatchNorm2d(128),\n",
    "            nn.Conv2d(in_channels=128, out_channels=256, kernel_size=3, stride=1, padding=1),\n",
    "            nn.ReLU(),\n",
    "            nn.BatchNorm2d(256),\n",
    "            nn.AdaptiveAvgPool2d((1, 1))  # Reduce to (256, 1, 1)\n",
    "        )\n",
    "\n",
    "        # Fully Connected Layer to reshape to (64, 56, 56)\n",
    "        self.fc = nn.Linear(256 * 1 * 1, 64 * 56 * 56)\n",
    "\n",
    "        # Load VGG-16 Model\n",
    "        self.encoder = vgg16(pretrained=False)\n",
    "\n",
    "        # Remove first VGG-16 conv layer\n",
    "        self.encoder.features = nn.Sequential(*list(self.encoder.features.children())[1:])\n",
    "\n",
    "        # Modify classifier to output 2 classes\n",
    "        self.encoder.classifier[6] = nn.Linear(4096, 2)\n",
    "\n",
    "    def forward(self, x):\n",
    "        # print(f'before {x.shape}')\n",
    "        x = self.pre_conv(x)  # Process hyperspectral input\n",
    "        x = x.view(x.size(0), -1)  # Flatten\n",
    "\n",
    "        # print(f'after preconv {x.shape}')\n",
    "        x = self.fc(x)  # Fully connected layer\n",
    "        # print(f'after fc {x.shape}')\n",
    "        # Reshape to (batch_size, 64, 56, 56) before passing to VGG\n",
    "        x = x.view(x.size(0), 64, 56, 56)\n",
    "        # print(f'after reshape, before vgg second layer {x.shape}')\n",
    "\n",
    "        x = self.encoder.features(x)  # Pass to VGG-16\n",
    "        x = self.encoder.avgpool(x)\n",
    "        x = torch.flatten(x, 1)\n",
    "        x = self.encoder.classifier(x)  # Final classification layer\n",
    "\n",
    "        return x"
   ]
  },
  {
   "cell_type": "code",
   "execution_count": 5,
   "id": "e908e9cd",
   "metadata": {},
   "outputs": [],
   "source": [
    "def predict_batch(model, batch_input, device):\n",
    "    model.eval()\n",
    "    batch_input = batch_input.to(device)\n",
    "\n",
    "    with torch.no_grad():\n",
    "        output = model(batch_input)\n",
    "        # Apply softmax to get class probabilities\n",
    "        probabilities = torch.nn.functional.softmax(output, dim=1)\n",
    "\n",
    "        # Get predicted class (0 or 1)\n",
    "        predicted_classes = torch.argmax(probabilities, dim=1).cpu().numpy()\n",
    "\n",
    "        # Get probability of class 1 (positive class) — required for ROC\n",
    "        positive_class_probs = probabilities[:, 1].cpu().numpy()\n",
    "\n",
    "    \n",
    "\n",
    "    return predicted_classes, positive_class_probs\n"
   ]
  },
  {
   "cell_type": "code",
   "execution_count": 6,
   "id": "f8d26ca6",
   "metadata": {},
   "outputs": [
    {
     "name": "stdout",
     "output_type": "stream",
     "text": [
      "Creating model 20250531_190213_model.pth.tar...\n"
     ]
    },
    {
     "name": "stderr",
     "output_type": "stream",
     "text": [
      "c:\\Users\\Asus TUF\\Documents\\code\\TA\\myenv\\Lib\\site-packages\\torchvision\\models\\_utils.py:208: UserWarning: The parameter 'pretrained' is deprecated since 0.13 and may be removed in the future, please use 'weights' instead.\n",
      "  warnings.warn(\n",
      "c:\\Users\\Asus TUF\\Documents\\code\\TA\\myenv\\Lib\\site-packages\\torchvision\\models\\_utils.py:223: UserWarning: Arguments other than a weight enum or `None` for 'weights' are deprecated since 0.13 and may be removed in the future. The current behavior is equivalent to passing `weights=None`.\n",
      "  warnings.warn(msg)\n",
      "C:\\Users\\Asus TUF\\AppData\\Local\\Temp\\ipykernel_6100\\296734165.py:9: FutureWarning: You are using `torch.load` with `weights_only=False` (the current default value), which uses the default pickle module implicitly. It is possible to construct malicious pickle data which will execute arbitrary code during unpickling (See https://github.com/pytorch/pytorch/blob/main/SECURITY.md#untrusted-models for more details). In a future release, the default value for `weights_only` will be flipped to `True`. This limits the functions that could be executed during unpickling. Arbitrary objects will no longer be allowed to be loaded via this mode unless they are explicitly allowlisted by the user via `torch.serialization.add_safe_globals`. We recommend you start setting `weights_only=True` for any use case where you don't have full control of the loaded file. Please open an issue on GitHub for any issues related to this experimental feature.\n",
      "  checkpoint = torch.load(model_path, map_location=device)\n"
     ]
    },
    {
     "name": "stdout",
     "output_type": "stream",
     "text": [
      "Model loaded and moved to device\n"
     ]
    }
   ],
   "source": [
    "device = torch.device(\"cuda\" if torch.cuda.is_available() else \"cpu\")\n",
    "batch_size = 64  # You can change this depending on your GPU capacity\n",
    "\n",
    "model_path = r\"C:\\Users\\Asus TUF\\Documents\\code\\TA\\simsiam\\simsiam\\models\\finetune\\20250531_190213_model.pth.tar\"\n",
    "model_name = model_path.split('\\\\')[-1]\n",
    "\n",
    "print(f\"Creating model {model_name}...\")\n",
    "saved_model = VGG16_HSI().to(device)\n",
    "checkpoint = torch.load(model_path, map_location=device)\n",
    "saved_model.load_state_dict(checkpoint['state_dict'])\n",
    "print(\"Model loaded and moved to device\")"
   ]
  },
  {
   "cell_type": "code",
   "execution_count": 7,
   "id": "e707b287",
   "metadata": {},
   "outputs": [
    {
     "name": "stdout",
     "output_type": "stream",
     "text": [
      "tes: 0\n",
      "img shape: (1243, 684, 224)\n",
      "img shape after padding (1251, 692, 224)\n",
      "number of pixel 850212\n",
      "ground truth shape: (1243, 684)\n",
      "indices = 0 shape: (820876, 2)\n",
      "indices = 1 shape: (29336, 2)\n",
      "(10000, 2)\n"
     ]
    },
    {
     "name": "stderr",
     "output_type": "stream",
     "text": [
      "Predicting: 100%|██████████| 157/157 [00:10<00:00, 14.77it/s]\n"
     ]
    },
    {
     "name": "stdout",
     "output_type": "stream",
     "text": [
      "Score: 9346/10000\n",
      "tes: 1\n",
      "img shape: (1786, 699, 224)\n",
      "img shape after padding (1794, 707, 224)\n",
      "number of pixel 1248414\n",
      "ground truth shape: (1786, 699)\n",
      "indices = 0 shape: (1236269, 2)\n",
      "indices = 1 shape: (12145, 2)\n",
      "(10000, 2)\n"
     ]
    },
    {
     "name": "stderr",
     "output_type": "stream",
     "text": [
      "Predicting: 100%|██████████| 157/157 [00:10<00:00, 15.08it/s]\n"
     ]
    },
    {
     "name": "stdout",
     "output_type": "stream",
     "text": [
      "Score: 5844/10000\n",
      "tes: 2\n",
      "img shape: (1386, 690, 224)\n",
      "img shape after padding (1394, 698, 224)\n",
      "number of pixel 956340\n",
      "ground truth shape: (1386, 690)\n",
      "indices = 0 shape: (916980, 2)\n",
      "indices = 1 shape: (39360, 2)\n",
      "(10000, 2)\n"
     ]
    },
    {
     "name": "stderr",
     "output_type": "stream",
     "text": [
      "Predicting: 100%|██████████| 157/157 [00:10<00:00, 14.61it/s]\n"
     ]
    },
    {
     "name": "stdout",
     "output_type": "stream",
     "text": [
      "Score: 8688/10000\n",
      "tes: 3\n",
      "img shape: (1466, 676, 224)\n",
      "img shape after padding (1474, 684, 224)\n",
      "number of pixel 991016\n",
      "ground truth shape: (1466, 676)\n",
      "indices = 0 shape: (959167, 2)\n",
      "indices = 1 shape: (31849, 2)\n",
      "(10000, 2)\n"
     ]
    },
    {
     "name": "stderr",
     "output_type": "stream",
     "text": [
      "Predicting: 100%|██████████| 157/157 [00:10<00:00, 14.81it/s]\n"
     ]
    },
    {
     "name": "stdout",
     "output_type": "stream",
     "text": [
      "Score: 8697/10000\n",
      "tes: 4\n",
      "img shape: (2085, 682, 224)\n",
      "img shape after padding (2093, 690, 224)\n",
      "number of pixel 1421970\n",
      "ground truth shape: (2085, 682)\n",
      "indices = 0 shape: (1363408, 2)\n",
      "indices = 1 shape: (58562, 2)\n",
      "(10000, 2)\n"
     ]
    },
    {
     "name": "stderr",
     "output_type": "stream",
     "text": [
      "Predicting: 100%|██████████| 157/157 [00:10<00:00, 15.05it/s]\n"
     ]
    },
    {
     "name": "stdout",
     "output_type": "stream",
     "text": [
      "Score: 8780/10000\n",
      "tes: 5\n",
      "img shape: (2088, 691, 224)\n",
      "img shape after padding (2096, 699, 224)\n",
      "number of pixel 1442808\n",
      "ground truth shape: (2088, 691)\n",
      "indices = 0 shape: (1389552, 2)\n",
      "indices = 1 shape: (53256, 2)\n",
      "(10000, 2)\n"
     ]
    },
    {
     "name": "stderr",
     "output_type": "stream",
     "text": [
      "Predicting: 100%|██████████| 157/157 [00:10<00:00, 15.10it/s]\n"
     ]
    },
    {
     "name": "stdout",
     "output_type": "stream",
     "text": [
      "Score: 9099/10000\n",
      "tes: 6\n",
      "img shape: (1965, 492, 224)\n",
      "img shape after padding (1973, 500, 224)\n",
      "number of pixel 966780\n",
      "ground truth shape: (1965, 492)\n",
      "indices = 0 shape: (873365, 2)\n",
      "indices = 1 shape: (93415, 2)\n",
      "(10000, 2)\n"
     ]
    },
    {
     "name": "stderr",
     "output_type": "stream",
     "text": [
      "Predicting: 100%|██████████| 157/157 [00:10<00:00, 15.06it/s]\n"
     ]
    },
    {
     "name": "stdout",
     "output_type": "stream",
     "text": [
      "Score: 5000/10000\n",
      "tes: 7\n",
      "img shape: (1532, 567, 224)\n",
      "img shape after padding (1540, 575, 224)\n",
      "number of pixel 868644\n",
      "ground truth shape: (1532, 567)\n",
      "indices = 0 shape: (824964, 2)\n",
      "indices = 1 shape: (43680, 2)\n",
      "(10000, 2)\n"
     ]
    },
    {
     "name": "stderr",
     "output_type": "stream",
     "text": [
      "Predicting: 100%|██████████| 157/157 [00:10<00:00, 14.63it/s]\n"
     ]
    },
    {
     "name": "stdout",
     "output_type": "stream",
     "text": [
      "Score: 5000/10000\n",
      "tes: 8\n",
      "img shape: (1569, 517, 224)\n",
      "img shape after padding (1577, 525, 224)\n",
      "number of pixel 811173\n",
      "ground truth shape: (1569, 517)\n",
      "indices = 0 shape: (742935, 2)\n",
      "indices = 1 shape: (68238, 2)\n",
      "(10000, 2)\n"
     ]
    },
    {
     "name": "stderr",
     "output_type": "stream",
     "text": [
      "Predicting: 100%|██████████| 157/157 [00:10<00:00, 15.20it/s]\n"
     ]
    },
    {
     "name": "stdout",
     "output_type": "stream",
     "text": [
      "Score: 5000/10000\n",
      "tes: 9\n",
      "img shape: (1084, 680, 224)\n",
      "img shape after padding (1092, 688, 224)\n",
      "number of pixel 737120\n",
      "ground truth shape: (1084, 680)\n",
      "indices = 0 shape: (691437, 2)\n",
      "indices = 1 shape: (45683, 2)\n",
      "(10000, 2)\n"
     ]
    },
    {
     "name": "stderr",
     "output_type": "stream",
     "text": [
      "Predicting: 100%|██████████| 157/157 [00:10<00:00, 14.72it/s]\n"
     ]
    },
    {
     "name": "stdout",
     "output_type": "stream",
     "text": [
      "Score: 5000/10000\n",
      "tes: 10\n",
      "img shape: (1185, 682, 224)\n",
      "img shape after padding (1193, 690, 224)\n",
      "number of pixel 808170\n",
      "ground truth shape: (1185, 682)\n",
      "indices = 0 shape: (770065, 2)\n",
      "indices = 1 shape: (38105, 2)\n",
      "(10000, 2)\n"
     ]
    },
    {
     "name": "stderr",
     "output_type": "stream",
     "text": [
      "Predicting: 100%|██████████| 157/157 [00:10<00:00, 14.76it/s]"
     ]
    },
    {
     "name": "stdout",
     "output_type": "stream",
     "text": [
      "Score: 5000/10000\n"
     ]
    },
    {
     "name": "stderr",
     "output_type": "stream",
     "text": [
      "\n"
     ]
    }
   ],
   "source": [
    "\n",
    "\n",
    "patch_size = 9\n",
    "half_patch = patch_size // 2\n",
    "\n",
    "scores = []\n",
    "\n",
    "groundtruth = []\n",
    "prediction = []\n",
    "y_probs = []\n",
    "\n",
    "\n",
    "for dataset in range(len(datasets)):\n",
    "    print(f\"tes: {dataset}\")\n",
    "    test_indices, test_gt, matrix = testWithDataset(dataset)\n",
    "\n",
    "    total = len(test_indices)\n",
    "    correct0 = 0\n",
    "    correct1 = 0\n",
    "\n",
    "    input_patches = []\n",
    "    true_labels = []\n",
    "\n",
    "    # Prepare all patches\n",
    "    for x_pos, y_pos in test_indices:\n",
    "        true_label = test_gt[x_pos][y_pos]\n",
    "\n",
    "        selected_rows = matrix[x_pos:x_pos + 2*half_patch + 1, :]\n",
    "        testing_patch = selected_rows[:, y_pos:y_pos + 2*half_patch + 1]\n",
    "\n",
    "        patch_tensor = torch.tensor(testing_patch, dtype=torch.float32)\n",
    "        patch_tensor = patch_tensor.unsqueeze(0).permute(0, 3, 1, 2)\n",
    "\n",
    "        input_patches.append(patch_tensor)\n",
    "        true_labels.append(true_label)\n",
    "\n",
    "    input_patches = torch.cat(input_patches, dim=0)  # Shape: (N, C, H, W)\n",
    "    true_labels = torch.tensor(true_labels)\n",
    "\n",
    "    # Process in batches\n",
    "    for i in tqdm(range(0, total, batch_size), desc=\"Predicting\"):\n",
    "        batch = input_patches[i:i+batch_size]\n",
    "        labels = true_labels[i:i+batch_size]\n",
    "\n",
    "        groundtruth.append(labels)\n",
    "\n",
    "        preds, postive_class_probs = predict_batch(saved_model, batch, device)\n",
    "\n",
    "        prediction.append(preds)\n",
    "        y_probs.append(postive_class_probs)\n",
    "\n",
    "        for j in range(len(preds)):\n",
    "            index = i + j\n",
    "            # print(f\"{index+1}: prediction = {preds[j]}, confidence: {confs[j]:.4f}, expected: {labels[j].item()}\")\n",
    "            if preds[j] == labels[j].item():\n",
    "                if labels[j].item() == 0:\n",
    "                    correct0 += 1\n",
    "                elif labels[j] == 1:\n",
    "                    correct1 += 1\n",
    "\n",
    "    correct = correct0 + correct1\n",
    "    print(f\"Score: {correct}/{total}\")\n",
    "    \n",
    "    score = {\n",
    "        'dataset': dataset,\n",
    "        'correct_0': correct0,\n",
    "        'correct_1': correct1,\n",
    "        'correct_total': correct,\n",
    "        'total': total\n",
    "    }\n",
    "    scores.append(score)\n",
    "    # scores.append((f\"dataset{dataset}\", f'{correct0}/{total/2}', f'{correct1}/{total/2}', f'{correct}/{total}'))"
   ]
  },
  {
   "cell_type": "code",
   "execution_count": 8,
   "id": "1f93559e",
   "metadata": {},
   "outputs": [
    {
     "name": "stdout",
     "output_type": "stream",
     "text": [
      "dataset: 0\t 4653/5000.0\t 4693/5000.0\t 9346/10000\t\n",
      "dataset: 1\t 844/5000.0\t 5000/5000.0\t 5844/10000\t\n",
      "dataset: 2\t 3700/5000.0\t 4988/5000.0\t 8688/10000\t\n",
      "dataset: 3\t 3698/5000.0\t 4999/5000.0\t 8697/10000\t\n",
      "dataset: 4\t 3860/5000.0\t 4920/5000.0\t 8780/10000\t\n",
      "dataset: 5\t 4130/5000.0\t 4969/5000.0\t 9099/10000\t\n",
      "dataset: 6\t 0/5000.0\t 5000/5000.0\t 5000/10000\t\n",
      "dataset: 7\t 0/5000.0\t 5000/5000.0\t 5000/10000\t\n",
      "dataset: 8\t 0/5000.0\t 5000/5000.0\t 5000/10000\t\n",
      "dataset: 9\t 0/5000.0\t 5000/5000.0\t 5000/10000\t\n",
      "dataset: 10\t 0/5000.0\t 5000/5000.0\t 5000/10000\t\n",
      "total: \t\t 20885/55000.0 \t 54569/55000.0 \t 75454/110000\n",
      "acc: 0.6859454545454545\n"
     ]
    }
   ],
   "source": [
    "all_correct = 0\n",
    "all_total = 0\n",
    "all_correct0 = 0\n",
    "all_correct1 = 0\n",
    "\n",
    "for score in scores:\n",
    "    dataset = score['dataset']\n",
    "    correct0 = score['correct_0']\n",
    "    correct1 = score['correct_1']\n",
    "    correct = score['correct_total']\n",
    "    total = score['total']\n",
    "    print(f\"dataset: {dataset}\\t\", f'{correct0}/{total/2}\\t', f'{correct1}/{total/2}\\t', f'{correct}/{total}\\t')\n",
    "\n",
    "    all_correct += correct\n",
    "    all_total += total\n",
    "    all_correct0 += correct0\n",
    "    all_correct1 += correct1\n",
    "\n",
    "\n",
    "print(f\"total: \\t\\t {all_correct0}/{all_total/2} \\t {all_correct1}/{all_total/2} \\t {all_correct}/{all_total}\")\n",
    "\n",
    "print(f\"acc: {all_correct/all_total}\")\n",
    "\n",
    "all_total_score = {\n",
    "    'dataset': 'Total Dataset',\n",
    "    'correct_0': all_correct0,\n",
    "    'correct_1': all_correct1,\n",
    "    'correct_total': all_correct,\n",
    "    'total': all_total\n",
    "}\n",
    "\n",
    "scores.append(all_total_score)"
   ]
  },
  {
   "cell_type": "code",
   "execution_count": 9,
   "id": "cee05689",
   "metadata": {},
   "outputs": [],
   "source": [
    "groundtruths = groundtruth\n",
    "groundtruth = []\n",
    "\n",
    "for x in groundtruths:\n",
    "    for y in x:\n",
    "        groundtruth.append(y)\n",
    "\n",
    "predictions = prediction\n",
    "prediction = []\n",
    "\n",
    "for x in predictions:\n",
    "    for y in x:\n",
    "        prediction.append(y)\n",
    "\n",
    "\n",
    "y_prob = []\n",
    "\n",
    "for x in y_probs:\n",
    "    for y in x:\n",
    "        y_prob.append(y)"
   ]
  },
  {
   "cell_type": "code",
   "execution_count": 10,
   "id": "cb57c219",
   "metadata": {},
   "outputs": [
    {
     "name": "stdout",
     "output_type": "stream",
     "text": [
      "110000\n",
      "110000\n",
      "110000\n"
     ]
    }
   ],
   "source": [
    "print(len(groundtruth))\n",
    "print(len(prediction))\n",
    "print(len(y_prob))"
   ]
  },
  {
   "cell_type": "code",
   "execution_count": 11,
   "id": "09e42082",
   "metadata": {},
   "outputs": [],
   "source": [
    "y_test = groundtruth\n",
    "y_pred = prediction\n",
    "correct = 0\n",
    "total = 0\n",
    "\n",
    "for x, y in zip(y_test, y_pred):\n",
    "    total += 1\n",
    "    if x == y:\n",
    "        correct += 1"
   ]
  },
  {
   "cell_type": "code",
   "execution_count": 12,
   "id": "4e990078",
   "metadata": {},
   "outputs": [
    {
     "name": "stdout",
     "output_type": "stream",
     "text": [
      "75454/110000\n"
     ]
    }
   ],
   "source": [
    "print(f'{correct}/{total}')"
   ]
  },
  {
   "cell_type": "code",
   "execution_count": 13,
   "id": "e6b0e2ed",
   "metadata": {},
   "outputs": [
    {
     "name": "stdout",
     "output_type": "stream",
     "text": [
      "Unique values in y_test: [0 1]\n",
      "Sample y_pred values: [np.int64(0), np.int64(0), np.int64(1), np.int64(0), np.int64(0)]\n"
     ]
    }
   ],
   "source": [
    "y_test_np = np.array([label.item() for label in y_test])\n",
    "# Ensure labels are binary (0 and 1)\n",
    "print(\"Unique values in y_test:\", pd.Series(y_test_np).unique())\n",
    "\n",
    "# Check if y_pred is probability (float) or hard prediction (int)\n",
    "print(\"Sample y_pred values:\", y_pred[:5])"
   ]
  },
  {
   "cell_type": "code",
   "execution_count": 14,
   "id": "38e48bba",
   "metadata": {},
   "outputs": [
    {
     "data": {
      "image/png": "[encoded data removed]",
      "text/plain": [
       "<Figure size 700x500 with 1 Axes>"
      ]
     },
     "metadata": {},
     "output_type": "display_data"
    }
   ],
   "source": [
    "\n",
    "\n",
    "test_df = pd.DataFrame(\n",
    "    {'True': y_test_np, 'Model': y_prob})\n",
    "\n",
    "plt.figure(figsize=(7, 5))\n",
    "\n",
    "\n",
    "fpr, tpr, _ = roc_curve(test_df['True'], test_df['Model'])\n",
    "roc_auc = auc(fpr, tpr)\n",
    "plt.plot(fpr, tpr, label=f'Model (AUC = {roc_auc:.2f})')\n",
    "\n",
    "plt.plot([0, 1], [0, 1], 'r--', label='Random Guess')\n",
    "\n",
    "plt.xlabel('False Positive Rate')\n",
    "plt.ylabel('True Positive Rate')\n",
    "plt.title('ROC Curves for Two Models')\n",
    "plt.legend()\n",
    "plt.show()"
   ]
  },
  {
   "cell_type": "code",
   "execution_count": 15,
   "id": "6750deae",
   "metadata": {},
   "outputs": [
    {
     "name": "stdout",
     "output_type": "stream",
     "text": [
      "Precision: 0.7976\n",
      "Recall:    0.6859\n",
      "F1 Score:  0.6534\n",
      "OA:        0.6859\n",
      "AA:        0.6859\n"
     ]
    }
   ],
   "source": [
    "\n",
    "\n",
    "y_true = np.array([int(label) for label in y_test_np])  # true labels\n",
    "y_pred = prediction                          # predicted class labels (e.g., from predict_batch)\n",
    "\n",
    "# Precision, Recall, F1\n",
    "precision = precision_score(y_true, y_pred, average='macro')  # Use 'binary' if binary task\n",
    "recall = recall_score(y_true, y_pred, average='macro')\n",
    "f1 = f1_score(y_true, y_pred, average='macro')\n",
    "\n",
    "# Overall Accuracy (OA)\n",
    "oa = accuracy_score(y_true, y_pred)\n",
    "\n",
    "# Average Accuracy (AA) — mean of per-class accuracies\n",
    "cm = confusion_matrix(y_true, y_pred)\n",
    "per_class_acc = cm.diagonal() / cm.sum(axis=1)\n",
    "aa = per_class_acc.mean()\n",
    "\n",
    "# Print all metrics\n",
    "print(f\"Precision: {precision:.4f}\")\n",
    "print(f\"Recall:    {recall:.4f}\")\n",
    "print(f\"F1 Score:  {f1:.4f}\")\n",
    "print(f\"OA:        {oa:.4f}\")\n",
    "print(f\"AA:        {aa:.4f}\")"
   ]
  },
  {
   "cell_type": "code",
   "execution_count": 16,
   "id": "63022330",
   "metadata": {},
   "outputs": [],
   "source": [
    "\n",
    "performance = {\n",
    "    'AUC': float(roc_auc),\n",
    "    'precision': float(precision),\n",
    "    'recall': float(recall),\n",
    "    'F1 Score': float(f1),\n",
    "    'OA': float(oa),\n",
    "    'AA': float(aa),\n",
    "}\n",
    "result_json = {\n",
    "    'prediction' : scores,\n",
    "    'performance' : performance,\n",
    "}"
   ]
  },
  {
   "cell_type": "code",
   "execution_count": 17,
   "id": "711abcd2",
   "metadata": {},
   "outputs": [
    {
     "name": "stdout",
     "output_type": "stream",
     "text": [
      "{'prediction': [{'dataset': 0, 'correct_0': 4653, 'correct_1': 4693, 'correct_total': 9346, 'total': 10000}, {'dataset': 1, 'correct_0': 844, 'correct_1': 5000, 'correct_total': 5844, 'total': 10000}, {'dataset': 2, 'correct_0': 3700, 'correct_1': 4988, 'correct_total': 8688, 'total': 10000}, {'dataset': 3, 'correct_0': 3698, 'correct_1': 4999, 'correct_total': 8697, 'total': 10000}, {'dataset': 4, 'correct_0': 3860, 'correct_1': 4920, 'correct_total': 8780, 'total': 10000}, {'dataset': 5, 'correct_0': 4130, 'correct_1': 4969, 'correct_total': 9099, 'total': 10000}, {'dataset': 6, 'correct_0': 0, 'correct_1': 5000, 'correct_total': 5000, 'total': 10000}, {'dataset': 7, 'correct_0': 0, 'correct_1': 5000, 'correct_total': 5000, 'total': 10000}, {'dataset': 8, 'correct_0': 0, 'correct_1': 5000, 'correct_total': 5000, 'total': 10000}, {'dataset': 9, 'correct_0': 0, 'correct_1': 5000, 'correct_total': 5000, 'total': 10000}, {'dataset': 10, 'correct_0': 0, 'correct_1': 5000, 'correct_total': 5000, 'total': 10000}, {'dataset': 'Total Dataset', 'correct_0': 20885, 'correct_1': 54569, 'correct_total': 75454, 'total': 110000}], 'performance': {'AUC': 0.6959124469421487, 'precision': 0.7975500041011683, 'recall': 0.6859454545454545, 'F1 Score': 0.6534495678496066, 'OA': 0.6859454545454545, 'AA': 0.6859454545454545}}\n",
      "JSON saved to results.json\n"
     ]
    }
   ],
   "source": [
    "import json\n",
    "\n",
    "print(result_json)\n",
    "\n",
    "with open(f\"performance/{model_name}_results.json\", \"w\") as f:\n",
    "    json.dump(result_json, f, indent=2)\n",
    "\n",
    "print(\"JSON saved to results.json\")"
   ]
  },
  {
   "cell_type": "code",
   "execution_count": 18,
   "id": "95bcd9fb",
   "metadata": {},
   "outputs": [
    {
     "name": "stdout",
     "output_type": "stream",
     "text": [
      "Run time: 189.3047 seconds\n"
     ]
    }
   ],
   "source": [
    "end_time = time.time()\n",
    "print(f\"Run time: {end_time - start_time:.4f} seconds\")"
   ]
  }
 ],
 "metadata": {
  "kernelspec": {
   "display_name": "myenv",
   "language": "python",
   "name": "python3"
  },
  "language_info": {
   "codemirror_mode": {
    "name": "ipython",
    "version": 3
   },
   "file_extension": ".py",
   "mimetype": "text/x-python",
   "name": "python",
   "nbconvert_exporter": "python",
   "pygments_lexer": "ipython3",
   "version": "3.12.5"
  }
 },
 "nbformat": 4,
 "nbformat_minor": 5
}
