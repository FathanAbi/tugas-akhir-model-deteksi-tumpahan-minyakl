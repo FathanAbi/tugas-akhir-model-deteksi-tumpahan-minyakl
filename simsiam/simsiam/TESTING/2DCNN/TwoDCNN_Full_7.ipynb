{
 "cells": [
  {
   "cell_type": "code",
   "execution_count": 1,
   "id": "8ab9c9cc",
   "metadata": {},
   "outputs": [
    {
     "name": "stdout",
     "output_type": "stream",
     "text": [
      "GPU Available: True\n",
      "GPU Name: NVIDIA GeForce RTX 4080 SUPER\n"
     ]
    }
   ],
   "source": [
    "import os\n",
    "import numpy as np\n",
    "import pandas as pd\n",
    "from tqdm import tqdm\n",
    "import time\n",
    "import json\n",
    "from datetime import datetime\n",
    "import matplotlib.pyplot as plt\n",
    "import random\n",
    "\n",
    "import torch\n",
    "import torch.nn as nn\n",
    "import torch.nn.functional as F\n",
    "import torch.optim as optim\n",
    "from torch.utils.data import DataLoader, TensorDataset, Dataset\n",
    "\n",
    "from sklearn.metrics import precision_score, recall_score, f1_score, accuracy_score, confusion_matrix\n",
    "from sklearn.metrics import roc_curve, auc\n",
    "from sklearn.model_selection import train_test_split\n",
    "from sklearn.metrics import accuracy_score, classification_report\n",
    "\n",
    "from HSI_class import HSI\n",
    "import zeroPadding\n",
    "import augmentation as aug\n",
    "import createSample as CS\n",
    "\n",
    "start_time = time.time()\n",
    "\n",
    "# Check if GPU is available\n",
    "print(\"GPU Available:\", torch.cuda.is_available())\n",
    "\n",
    "# If available, print the GPU name\n",
    "if torch.cuda.is_available():\n",
    "    print(\"GPU Name:\", torch.cuda.get_device_name(0))\n",
    "\n",
    "seeded_run = True\n",
    "seed = 55\n",
    "\n",
    "sample_per_class = 5\n",
    "num_per_category_augment_1 = 10\n",
    "num_per_category_augment_2 = 10\n",
    "epochs = 200\n",
    "\n",
    "batch_size =40\n",
    "test_size = 0.5\n",
    "\n",
    "random_indices = 0"
   ]
  },
  {
   "cell_type": "code",
   "execution_count": 2,
   "id": "60782994",
   "metadata": {},
   "outputs": [
    {
     "name": "stdout",
     "output_type": "stream",
     "text": [
      "seed has been set\n",
      "seet used: 55\n"
     ]
    }
   ],
   "source": [
    "def set_seed(seed):\n",
    "    torch.manual_seed(seed)\n",
    "    np.random.seed(seed)\n",
    "    random.seed(seed)\n",
    "    os.environ[\"PYTHONHASHSEED\"] = str(seed)\n",
    "\n",
    "    torch.backends.cudnn.deterministic = True\n",
    "    torch.backends.cudnn.benchmark = False  # Might slow down training, but ensures determinism\n",
    "\n",
    "    if torch.cuda.is_available():\n",
    "        torch.cuda.manual_seed(seed)\n",
    "        torch.cuda.manual_seed_all(seed)\n",
    "\n",
    "if seeded_run:\n",
    "    set_seed(seed)\n",
    "    print(\"seed has been set\")\n",
    "    print(f\"seet used: {seed}\")"
   ]
  },
  {
   "cell_type": "code",
   "execution_count": 3,
   "id": "c6f79fe5",
   "metadata": {},
   "outputs": [
    {
     "name": "stdout",
     "output_type": "stream",
     "text": [
      "Processing file: D:\\FathanAbi\\tugas-akhir-model-deteksi-tumpahan-minyakl\\Hyperspectral oil spill detection datasets\\GM01.mat\n",
      "Processing file: D:\\FathanAbi\\tugas-akhir-model-deteksi-tumpahan-minyakl\\Hyperspectral oil spill detection datasets\\GM02.mat\n",
      "Processing file: D:\\FathanAbi\\tugas-akhir-model-deteksi-tumpahan-minyakl\\Hyperspectral oil spill detection datasets\\GM03.mat\n",
      "Processing file: D:\\FathanAbi\\tugas-akhir-model-deteksi-tumpahan-minyakl\\Hyperspectral oil spill detection datasets\\GM04.mat\n",
      "Processing file: D:\\FathanAbi\\tugas-akhir-model-deteksi-tumpahan-minyakl\\Hyperspectral oil spill detection datasets\\GM05.mat\n",
      "Processing file: D:\\FathanAbi\\tugas-akhir-model-deteksi-tumpahan-minyakl\\Hyperspectral oil spill detection datasets\\GM06.mat\n",
      "Processing file: D:\\FathanAbi\\tugas-akhir-model-deteksi-tumpahan-minyakl\\Hyperspectral oil spill detection datasets\\GM07.mat\n",
      "Processing file: D:\\FathanAbi\\tugas-akhir-model-deteksi-tumpahan-minyakl\\Hyperspectral oil spill detection datasets\\GM08.mat\n",
      "Processing file: D:\\FathanAbi\\tugas-akhir-model-deteksi-tumpahan-minyakl\\Hyperspectral oil spill detection datasets\\GM09.mat\n",
      "Processing file: D:\\FathanAbi\\tugas-akhir-model-deteksi-tumpahan-minyakl\\Hyperspectral oil spill detection datasets\\GM10.mat\n"
     ]
    }
   ],
   "source": [
    "dataset_path = r\"D:\\FathanAbi\\tugas-akhir-model-deteksi-tumpahan-minyakl\\Hyperspectral oil spill detection datasets\"\n",
    "\n",
    "datasets = []\n",
    "\n",
    "i = 0\n",
    "for filename in os.listdir(dataset_path):\n",
    "    if i>9:\n",
    "        break\n",
    "    file_path = os.path.join(dataset_path, filename)\n",
    "    if os.path.isfile(file_path):  # Check if it's a file\n",
    "        print(f\"Processing file: {file_path}\")\n",
    "        hsi = HSI(file_path)\n",
    "        datasets.append(hsi)\n",
    "    i += 1"
   ]
  },
  {
   "cell_type": "code",
   "execution_count": 4,
   "id": "31d40bd0",
   "metadata": {},
   "outputs": [],
   "source": [
    "def testWithDataset(n): \n",
    "    hsi_test = datasets[n]\n",
    "\n",
    "    test_img = hsi_test.img\n",
    "    test_gt = hsi_test.gt\n",
    "\n",
    "    patch_size = 9\n",
    "    half_patch = patch_size // 2\n",
    "\n",
    "    height = test_img.shape[0]\n",
    "    width = test_img.shape[1]\n",
    "\n",
    "    matrix=zeroPadding.zeroPadding_3D(test_img,half_patch) #add 0 in every side of the data\n",
    "    print(f\"img shape: {test_img.shape}\")\n",
    "    print(f\"img shape after padding {matrix.shape}\")\n",
    "    print(f\"number of pixel {width * height}\")\n",
    "\n",
    "    print(f\"ground truth shape: {test_gt.shape}\")\n",
    "\n",
    "    indices0 = np.argwhere(test_gt == 0)\n",
    "    indices1 = np.argwhere(test_gt == 1)\n",
    "\n",
    "    print(f\"indices = 0 shape: {indices0.shape}\")\n",
    "    print(f\"indices = 1 shape: {indices1.shape}\")\n",
    "\n",
    "    num_samples = 50\n",
    "\n",
    "    random_indices0 = indices0[np.random.choice(len(indices0), num_samples, replace=False)]\n",
    "    random_indices1 = indices1[np.random.choice(len(indices1), num_samples, replace=False)]\n",
    "\n",
    "    test_indices = np.vstack((random_indices0, random_indices1))\n",
    "\n",
    "    print(test_indices.shape)\n",
    "\n",
    "    return test_indices, test_gt, matrix"
   ]
  },
  {
   "cell_type": "code",
   "execution_count": 5,
   "id": "532b0120",
   "metadata": {},
   "outputs": [
    {
     "name": "stdout",
     "output_type": "stream",
     "text": [
      "random: 0\n",
      "generating random sample\n",
      "hsi shape\n",
      "(1243, 684, 224)\n",
      "creating 5 Randomly chosen 0 indices:\n",
      "creating 5 Randomly chosen 1 indices:\n",
      "indices 0 used: [(np.int64(144), np.int64(561)), (np.int64(319), np.int64(409)), (np.int64(244), np.int64(479)), (np.int64(1175), np.int64(174)), (np.int64(488), np.int64(196))]\n",
      "indices 1 used: [(np.int64(1102), np.int64(103)), (np.int64(113), np.int64(43)), (np.int64(963), np.int64(39)), (np.int64(160), np.int64(195)), (np.int64(232), np.int64(222))]\n",
      "number of element equal 0 5\n",
      "number of element equal 1 5\n",
      "x_train shape: (10, 9, 9, 224)\n",
      "y_train shape: (10,)\n"
     ]
    }
   ],
   "source": [
    "hsi_ = datasets[0]\n",
    "patch_size = 9\n",
    "\n",
    "indices_0 = []\n",
    "indices_1 = []\n",
    "\n",
    "print(f\"random: {random_indices}\")\n",
    "random_indices = 1\n",
    "if random_indices:\n",
    "    print(\"generating random sample\")\n",
    "    selected_patch_0, selected_patch_1, indices_0, indices_1 = CS.createSample(hsi_, patch_size, sample_per_class)\n",
    "else:\n",
    "    print(\"using generated indices\")\n",
    "    indices_0 = [(np.int64(188), np.int64(124)), (np.int64(523), np.int64(150)), (np.int64(1003), np.int64(474)), (np.int64(616), np.int64(508)), (np.int64(905), np.int64(552))]\n",
    "    indices_1 = [(np.int64(106), np.int64(606)), (np.int64(297), np.int64(468)), (np.int64(926), np.int64(35)), (np.int64(536), np.int64(519)), (np.int64(508), np.int64(442))]\n",
    "\n",
    "    selected_patch_0, selected_patch_1 = CS.getSample(hsi_, patch_size, sample_per_class, indices_0, indices_1)\n",
    "\n",
    "\n",
    "i =0\n",
    "half_patch = patch_size // 2\n",
    "\n",
    "\n",
    "indices = indices_0 +  indices_1\n",
    "\n",
    "# Concatenating along axis 0\n",
    "x_train = np.concatenate((selected_patch_0, selected_patch_1), )\n",
    "\n",
    "y_train = np.array([])\n",
    "\n",
    "gt = hsi_.gt\n",
    "for indice in indices:\n",
    "    # print(gt[indice[0]][indice[1]])\n",
    "    y_train = np.append(y_train, gt[indice[0]][indice[1]])\n",
    "\n",
    "count = np.count_nonzero(y_train == 0)  # Count elements equal to 0\n",
    "print(f'number of element equal 0 {count}')\n",
    "\n",
    "count = np.count_nonzero(y_train == 1)  # Count elements equal to 1\n",
    "print(f'number of element equal 1 {count}')\n",
    "\n",
    "\n",
    "\n",
    "# Print shape to verify\n",
    "print(f\"x_train shape: {x_train.shape}\")  # Expected output: (10, 9, 9, 224)\n",
    "print(f\"y_train shape: {y_train.shape}\") \n"
   ]
  },
  {
   "cell_type": "code",
   "execution_count": 6,
   "id": "73544b4d",
   "metadata": {},
   "outputs": [
    {
     "name": "stdout",
     "output_type": "stream",
     "text": [
      "[-245 -455  358  410  441  591  649  646  622  601  559  504  461  430\n",
      "  400  382  349  326  304  281  246  227  200  177  148  141  127  119\n",
      "  112  108   97   88   91   85   78   72   58   51   40   14   31   45\n",
      "   51   23   37   46   40   38   37   24   22   26   43   40   38   34\n",
      "   38   20    8    1    8   -3 -143  -49    9   19   31   40   40   46\n",
      "   47   39   45   44   47   42   32   27   15  -16 -191 -193  -93  -85\n",
      "  -20    9   25   18   27   18   38   31   43   39   34   47   36   26\n",
      "   22   11   17   10    0  152  -18  -54    0    0    0    0    0    0\n",
      "    0    0 -342 -304  -89  -50 -109  -46   -3   -2    5   10   10   17\n",
      "   16   10    8   19   16    9   18   16   14   15   12   13   14   16\n",
      "   19   20   19   10   17   -1    6    5    1   -9    3   47    0    0\n",
      "    0    0    0    0    0    0    0    0    0    0    0    0    0    0\n",
      "  -23  -42  -11    3   -8  -18  -47   -2    8   10    9   12    9   11\n",
      "   14   14   10   18   14   21   17   20   18   18   11   17   16   15\n",
      "   16   13   15   14   18   14    9   12   11   21    6    8    0    0\n",
      "    1  -12   -3  -10  -11    5   -7    2  -30  -20  -16  -29  -40  -21]\n",
      "[-245. -455.  358.  410.  441.  591.  649.  646.  622.  601.  559.  504.\n",
      "  461.  430.  400.  382.  349.  326.  304.  281.  246.  227.  200.  177.\n",
      "  148.  141.  127.  119.  112.  108.   97.   88.   91.   85.   78.   72.\n",
      "   58.   51.   40.   14.   31.   45.   51.   23.   37.   46.   40.   38.\n",
      "   37.   24.   22.   26.   43.   40.   38.   34.   38.   20.    8.    1.\n",
      "    8.   -3. -143.  -49.    9.   19.   31.   40.   40.   46.   47.   39.\n",
      "   45.   44.   47.   42.   32.   27.   15.  -16. -191. -193.  -93.  -85.\n",
      "  -20.    9.   25.   18.   27.   18.   38.   31.   43.   39.   34.   47.\n",
      "   36.   26.   22.   11.   17.   10.    0.  152.  -18.  -54.    0.    0.\n",
      "    0.    0.    0.    0.    0.    0. -342. -304.  -89.  -50. -109.  -46.\n",
      "   -3.   -2.    5.   10.   10.   17.   16.   10.    8.   19.   16.    9.\n",
      "   18.   16.   14.   15.   12.   13.   14.   16.   19.   20.   19.   10.\n",
      "   17.   -1.    6.    5.    1.   -9.    3.   47.    0.    0.    0.    0.\n",
      "    0.    0.    0.    0.    0.    0.    0.    0.    0.    0.    0.    0.\n",
      "  -23.  -42.  -11.    3.   -8.  -18.  -47.   -2.    8.   10.    9.   12.\n",
      "    9.   11.   14.   14.   10.   18.   14.   21.   17.   20.   18.   18.\n",
      "   11.   17.   16.   15.   16.   13.   15.   14.   18.   14.    9.   12.\n",
      "   11.   21.    6.    8.    0.    0.    1.  -12.   -3.  -10.  -11.    5.\n",
      "   -7.    2.  -30.  -20.  -16.  -29.  -40.  -21.]\n",
      "[-244 -460  355  379  412  545  642  657  659  640  607  560  517  487\n",
      "  460  438  421  405  392  370  355  336  328  314  298  289  274  270\n",
      "  263  262  259  249  249  241  239  222  210  202  200  168  162  171\n",
      "  177  154  175  177  172  168  171  163  151  157  163  157  156  146\n",
      "  143  117   92   80   75   23  -89    7   78   91  102  119  132  137\n",
      "  141  139  148  141  144  127  112   96   78   37 -131 -169  -64  -81\n",
      "    7   47   62   70   85   90  103  103  109  113  107  119  113   95\n",
      "  110   90   80   78   74  177   41   10    0    0    0    0    0    0\n",
      "    0    0   13 -185  -18  -47  -30  -20   16   40   55   60   71   77\n",
      "   86   82   81   88   86   85   86   89   88   93   81   81   84   87\n",
      "   88   90   92   91   87   67   63   54   44   38   20   -6    0    0\n",
      "    0    0    0    0    0    0    0    0    0    0    0    0    0    0\n",
      "  -40 -102    0   14   19   23    2   39   47   42   47   56   56   61\n",
      "   58   60   69   65   70   65   71   64   69   68   64   66   74   67\n",
      "   71   69   66   64   69   77   82   73   72   45   49   43   30   19\n",
      "   37   13   27   11   19   24    6   -4  -32   -2  -30  -54  -47  -23]\n",
      "[-244. -460.  355.  379.  412.  545.  642.  657.  659.  640.  607.  560.\n",
      "  517.  487.  460.  438.  421.  405.  392.  370.  355.  336.  328.  314.\n",
      "  298.  289.  274.  270.  263.  262.  259.  249.  249.  241.  239.  222.\n",
      "  210.  202.  200.  168.  162.  171.  177.  154.  175.  177.  172.  168.\n",
      "  171.  163.  151.  157.  163.  157.  156.  146.  143.  117.   92.   80.\n",
      "   75.   23.  -89.    7.   78.   91.  102.  119.  132.  137.  141.  139.\n",
      "  148.  141.  144.  127.  112.   96.   78.   37. -131. -169.  -64.  -81.\n",
      "    7.   47.   62.   70.   85.   90.  103.  103.  109.  113.  107.  119.\n",
      "  113.   95.  110.   90.   80.   78.   74.  177.   41.   10.    0.    0.\n",
      "    0.    0.    0.    0.    0.    0.   13. -185.  -18.  -47.  -30.  -20.\n",
      "   16.   40.   55.   60.   71.   77.   86.   82.   81.   88.   86.   85.\n",
      "   86.   89.   88.   93.   81.   81.   84.   87.   88.   90.   92.   91.\n",
      "   87.   67.   63.   54.   44.   38.   20.   -6.    0.    0.    0.    0.\n",
      "    0.    0.    0.    0.    0.    0.    0.    0.    0.    0.    0.    0.\n",
      "  -40. -102.    0.   14.   19.   23.    2.   39.   47.   42.   47.   56.\n",
      "   56.   61.   58.   60.   69.   65.   70.   65.   71.   64.   69.   68.\n",
      "   64.   66.   74.   67.   71.   69.   66.   64.   69.   77.   82.   73.\n",
      "   72.   45.   49.   43.   30.   19.   37.   13.   27.   11.   19.   24.\n",
      "    6.   -4.  -32.   -2.  -30.  -54.  -47.  -23.]\n",
      "[-146 -242  318  372  409  560  636  647  624  582  558  521  469  445\n",
      "  415  389  366  339  314  283  259  237  214  187  166  162  148  136\n",
      "  131  125  124  114  112  109   98   88   70   65   53   17   38   55\n",
      "   63   26   43   50   44   40   37   20   23   31   43   43   41   35\n",
      "   35   17    5    0    1  -29 -158  -60    9   17   29   35   39   42\n",
      "   43   43   41   37   38   31   24   21    6  -15 -205 -205 -103 -109\n",
      "  -34    2   12    9   17   10   23   21   34   28   31   36   32   29\n",
      "   36   20   18   14    9   72  -41  -53    0    0    0    0    0    0\n",
      "    0    0 -222 -211  -78  -33  -28  -53   -2   15   15   22   24   26\n",
      "   27   33   28   28   32   26   32   26   28   29   24   27   26   22\n",
      "   32   32   33   25   20   25   10   13   12  -25  -36 -118    0    0\n",
      "    0    0    0    0    0    0    0    0    0    0    0    0    0    0\n",
      " -108   11   -1    3    5    6    1   -1   13   24   26   36   32   20\n",
      "   26   28   31   26   28   28   28   24   31   27   25   22   29   32\n",
      "   24   26   20   23   27   28   25   29   26   20   17    9    7   13\n",
      "   -5   21   -3   -3  -11  -24    0  -14   28    6  -34  -16    9 -124]\n",
      "[-146. -242.  318.  372.  409.  560.  636.  647.  624.  582.  558.  521.\n",
      "  469.  445.  415.  389.  366.  339.  314.  283.  259.  237.  214.  187.\n",
      "  166.  162.  148.  136.  131.  125.  124.  114.  112.  109.   98.   88.\n",
      "   70.   65.   53.   17.   38.   55.   63.   26.   43.   50.   44.   40.\n",
      "   37.   20.   23.   31.   43.   43.   41.   35.   35.   17.    5.    0.\n",
      "    1.  -29. -158.  -60.    9.   17.   29.   35.   39.   42.   43.   43.\n",
      "   41.   37.   38.   31.   24.   21.    6.  -15. -205. -205. -103. -109.\n",
      "  -34.    2.   12.    9.   17.   10.   23.   21.   34.   28.   31.   36.\n",
      "   32.   29.   36.   20.   18.   14.    9.   72.  -41.  -53.    0.    0.\n",
      "    0.    0.    0.    0.    0.    0. -222. -211.  -78.  -33.  -28.  -53.\n",
      "   -2.   15.   15.   22.   24.   26.   27.   33.   28.   28.   32.   26.\n",
      "   32.   26.   28.   29.   24.   27.   26.   22.   32.   32.   33.   25.\n",
      "   20.   25.   10.   13.   12.  -25.  -36. -118.    0.    0.    0.    0.\n",
      "    0.    0.    0.    0.    0.    0.    0.    0.    0.    0.    0.    0.\n",
      " -108.   11.   -1.    3.    5.    6.    1.   -1.   13.   24.   26.   36.\n",
      "   32.   20.   26.   28.   31.   26.   28.   28.   28.   24.   31.   27.\n",
      "   25.   22.   29.   32.   24.   26.   20.   23.   27.   28.   25.   29.\n",
      "   26.   20.   17.    9.    7.   13.   -5.   21.   -3.   -3.  -11.  -24.\n",
      "    0.  -14.   28.    6.  -34.  -16.    9. -124.]\n",
      "[-135 -180  313  378  420  575  652  675  657  631  599  551  526  494\n",
      "  471  456  432  418  404  378  360  348  334  316  298  292  283  277\n",
      "  278  270  266  265  262  257  248  234  224  212  205  175  178  183\n",
      "  190  170  181  184  177  175  175  160  159  161  169  165  164  157\n",
      "  157  127  109   93   86   44  -49   47  101  116  130  144  157  160\n",
      "  166  165  166  161  160  145  129  112   89   52 -125 -181  -52  -27\n",
      "   31   63   82   94  110  111  129  134  137  133  138  149  145  150\n",
      "  134  135  127  103  102   62   64   30    0    0    0    0    0    0\n",
      "    0    0 -105 -304  -63    9  -11   14   43   66   75   88   99  108\n",
      "  119  114  123  124  126  128  127  127  124  125  124  116  120  123\n",
      "  121  124  120  108  113   94   86   74   87   63   33  -62    0    0\n",
      "    0    0    0    0    0    0    0    0    0    0    0    0    0    0\n",
      " -177 -153   25   24   32   36   23   35   70   76   73   85   83   90\n",
      "   98   93  101   98  105   99  101  100  106   97  103   93   99  103\n",
      "   95  103  110  106  109  107  107  112   91   99   87   73   74   72\n",
      "   65   56   37   48   29   38   22   12   12    6  -18  -47 -134  -36]\n",
      "[-135. -180.  313.  378.  420.  575.  652.  675.  657.  631.  599.  551.\n",
      "  526.  494.  471.  456.  432.  418.  404.  378.  360.  348.  334.  316.\n",
      "  298.  292.  283.  277.  278.  270.  266.  265.  262.  257.  248.  234.\n",
      "  224.  212.  205.  175.  178.  183.  190.  170.  181.  184.  177.  175.\n",
      "  175.  160.  159.  161.  169.  165.  164.  157.  157.  127.  109.   93.\n",
      "   86.   44.  -49.   47.  101.  116.  130.  144.  157.  160.  166.  165.\n",
      "  166.  161.  160.  145.  129.  112.   89.   52. -125. -181.  -52.  -27.\n",
      "   31.   63.   82.   94.  110.  111.  129.  134.  137.  133.  138.  149.\n",
      "  145.  150.  134.  135.  127.  103.  102.   62.   64.   30.    0.    0.\n",
      "    0.    0.    0.    0.    0.    0. -105. -304.  -63.    9.  -11.   14.\n",
      "   43.   66.   75.   88.   99.  108.  119.  114.  123.  124.  126.  128.\n",
      "  127.  127.  124.  125.  124.  116.  120.  123.  121.  124.  120.  108.\n",
      "  113.   94.   86.   74.   87.   63.   33.  -62.    0.    0.    0.    0.\n",
      "    0.    0.    0.    0.    0.    0.    0.    0.    0.    0.    0.    0.\n",
      " -177. -153.   25.   24.   32.   36.   23.   35.   70.   76.   73.   85.\n",
      "   83.   90.   98.   93.  101.   98.  105.   99.  101.  100.  106.   97.\n",
      "  103.   93.   99.  103.   95.  103.  110.  106.  109.  107.  107.  112.\n",
      "   91.   99.   87.   73.   74.   72.   65.   56.   37.   48.   29.   38.\n",
      "   22.   12.   12.    6.  -18.  -47. -134.  -36.]\n"
     ]
    }
   ],
   "source": [
    "i =1\n",
    "half_patch = patch_size // 2\n",
    "print(hsi_.img[indices_0[i][0]][indices_0[i][1]])\n",
    "print(selected_patch_0[i][half_patch][half_patch])\n",
    "\n",
    "print(hsi_.img[indices_1[i][0]][indices_1[i][1]])\n",
    "print(selected_patch_1[i][half_patch][half_patch])\n",
    "i =4\n",
    "half_patch = patch_size // 2\n",
    "print(hsi_.img[indices_0[i][0]][indices_0[i][1]])\n",
    "print(selected_patch_0[i][half_patch][half_patch])\n",
    "\n",
    "print(hsi_.img[indices_1[i][0]][indices_1[i][1]])\n",
    "print(selected_patch_1[i][half_patch][half_patch])"
   ]
  },
  {
   "cell_type": "code",
   "execution_count": 7,
   "id": "bd9ccef5",
   "metadata": {},
   "outputs": [
    {
     "name": "stdout",
     "output_type": "stream",
     "text": [
      "hasil augmentasi 1 shape: (20, 9, 9, 224)\n",
      "label augmentai 1 shape: (20,)\n",
      "hasil augmentasi 2 shape: (20, 9, 9, 224)\n",
      "label augmentasi 2 shape: (20,)\n",
      "[0 0 0 0 0 0 0 0 0 0 1 1 1 1 1 1 1 1 1 1]\n",
      "[0 0 0 0 0 0 0 0 0 0 1 1 1 1 1 1 1 1 1 1]\n",
      "hasil augmentasi gabungan untuk training: (40, 9, 9, 224)\n",
      "label augmentasi gabungan: (40,)\n",
      "Element 0 occurs 20 times.\n",
      "Element 1 occurs 20 times.\n"
     ]
    }
   ],
   "source": [
    "n_category = 2\n",
    "band_size = 224\n",
    "\n",
    "data_augment1, label_augment1 = aug.Augment_data(x_train, y_train, n_category, patch_size, band_size, num_per_category_augment_1)\n",
    "\n",
    "data_augment2, label_augment2 = aug.Augment_data2(x_train, y_train, n_category, patch_size, band_size, num_per_category_augment_2)\n",
    "\n",
    "print(f\"hasil augmentasi 1 shape: {data_augment1.shape}\")\n",
    "print(f\"label augmentai 1 shape: {label_augment1.shape}\")\n",
    "\n",
    "print(f\"hasil augmentasi 2 shape: {data_augment2.shape}\")\n",
    "print(f\"label augmentasi 2 shape: {label_augment2.shape}\")\n",
    "\n",
    "print(label_augment1)\n",
    "print(label_augment2)\n",
    "\n",
    "data_augment = np.concatenate((data_augment1, data_augment2))\n",
    "label_augment = np.concatenate((label_augment1, label_augment2))\n",
    "\n",
    "print(f\"hasil augmentasi gabungan untuk training: {data_augment.shape}\")\n",
    "print(f\"label augmentasi gabungan: {label_augment.shape}\")\n",
    "\n",
    "# print(label_augment)\n",
    "\n",
    "# Count occurrences of each unique element\n",
    "counts = np.bincount(label_augment)\n",
    "\n",
    "# Print results\n",
    "for i, count in enumerate(counts):\n",
    "    print(f\"Element {i} occurs {count} times.\")"
   ]
  },
  {
   "cell_type": "code",
   "execution_count": 8,
   "id": "e1e55134",
   "metadata": {},
   "outputs": [],
   "source": [
    "# class ConvTo2D(nn.Module):\n",
    "#     def __init__(self):\n",
    "#         super(ConvTo2D, self).__init__()\n",
    "#         self.conv1 = nn.Conv2d(in_channels=224, out_channels=64, kernel_size=3, padding=1)\n",
    "#         self.conv2 = nn.Conv2d(in_channels=64, out_channels=128, kernel_size=3, padding=1)\n",
    "#         self.pool = nn.AdaptiveAvgPool2d((3, 3))  # control output spatial size (e.g. 3x3)\n",
    "\n",
    "#     def forward(self, x):\n",
    "#         x = F.relu(self.conv1(x))      # -> (batch, 64, 9, 9)\n",
    "#         x = F.relu(self.conv2(x))      # -> (batch, 128, 9, 9)\n",
    "#         x = self.pool(x)               # -> (batch, 128, 3, 3)\n",
    "#         x = x.permute(0, 2, 3, 1)      # -> (batch, 3, 3, 128)\n",
    "#         x = x.reshape(x.size(0), -1, 128)  # -> (batch, 9, 128) == (batch, n1, n2)\n",
    "#         return x\n",
    "\n",
    "# feature_extractor = ConvTo2D()"
   ]
  },
  {
   "cell_type": "code",
   "execution_count": 9,
   "id": "59567562",
   "metadata": {},
   "outputs": [
    {
     "name": "stdout",
     "output_type": "stream",
     "text": [
      "(40, 9, 9, 224)\n",
      "(40,)\n",
      "X_train shape: torch.Size([40, 224, 9, 9])\n",
      "(40, 224, 9, 9)\n"
     ]
    }
   ],
   "source": [
    "print(data_augment.shape)\n",
    "print(label_augment.shape)\n",
    "\n",
    "x_data = data_augment \n",
    "y_labels = label_augment\n",
    "\n",
    "x_data = torch.tensor(x_data)\n",
    "x_data = x_data.to(torch.float32)\n",
    "x_data = x_data.permute(0, 3, 1, 2)\n",
    "print(f\"X_train shape: {x_data.shape}\")\n",
    "features_np = x_data.numpy()\n",
    "\n",
    "\n",
    "    \n",
    "print(features_np.shape)"
   ]
  },
  {
   "cell_type": "code",
   "execution_count": 10,
   "id": "6e6cab40",
   "metadata": {},
   "outputs": [
    {
     "name": "stdout",
     "output_type": "stream",
     "text": [
      "[1 1 1 1 0 0 0 0 1 0 1 1 1 1 1 0 0 0 0 1]\n",
      "[0 0 0 1 0 0 1 0 0 0 0 1 1 0 1 1 1 1 1 0]\n"
     ]
    }
   ],
   "source": [
    "X = features_np\n",
    "y = y_labels\n",
    "X_train, X_val, y_train, y_val = train_test_split(X, y, test_size=test_size, random_state=seed)\n",
    "\n",
    "print(y_train)\n",
    "print(y_val)"
   ]
  },
  {
   "cell_type": "code",
   "execution_count": 11,
   "id": "f84dc2d3",
   "metadata": {},
   "outputs": [],
   "source": [
    "\n",
    "# --- Define the 1DCNN model ---\n",
    "class TwoDCNN(nn.Module):\n",
    "    def __init__(self):\n",
    "        super(TwoDCNN, self).__init__()\n",
    "        self.conv1 = nn.Conv2d(in_channels=224, out_channels=32, kernel_size=(2, 2))\n",
    "        self.conv2 = nn.Conv2d(in_channels=32, out_channels=48, kernel_size=(2, 2))\n",
    "        self.conv3 = nn.Conv2d(in_channels=48, out_channels=120, kernel_size=(2, 2))\n",
    "        self.global_pool = nn.AdaptiveAvgPool2d((1, 1))\n",
    "        self.fc = nn.Linear(120, 1)\n",
    "\n",
    "    def forward(self, x):\n",
    "        x = torch.relu(self.conv1(x))\n",
    "        x = torch.relu(self.conv2(x))\n",
    "        x = torch.relu(self.conv3(x))\n",
    "        x = self.global_pool(x)\n",
    "        x = x.view(x.size(0), -1)  # flatten\n",
    "        x = self.fc(x)\n",
    "        return x\n",
    "\n"
   ]
  },
  {
   "cell_type": "code",
   "execution_count": 12,
   "id": "855624ae",
   "metadata": {},
   "outputs": [
    {
     "name": "stdout",
     "output_type": "stream",
     "text": [
      "torch.Size([20, 224, 9, 9])\n",
      "generate data loader using seed\n",
      "224\n"
     ]
    }
   ],
   "source": [
    "\n",
    "# X_train_tensor = torch.tensor(X_train, dtype=torch.float32).unsqueeze(1)\n",
    "# y_train_tensor = torch.tensor(y_train, dtype=torch.float32).unsqueeze(1)\n",
    "\n",
    "X_train_tensor = torch.tensor(X_train, dtype=torch.float32)\n",
    "y_train_tensor = torch.tensor(y_train, dtype=torch.float32)\n",
    "\n",
    "print(X_train_tensor.shape)\n",
    "\n",
    "train_dataset = TensorDataset(X_train_tensor, y_train_tensor )\n",
    "train_loader = DataLoader(train_dataset, batch_size=20, shuffle=True)\n",
    "\n",
    "if seeded_run:\n",
    "    g = torch.Generator()\n",
    "    g.manual_seed(seed)\n",
    "\n",
    "    train_loader = DataLoader(\n",
    "        train_dataset,\n",
    "        batch_size=batch_size,\n",
    "        shuffle=False,  # set to True if needed\n",
    "        num_workers=0,\n",
    "        pin_memory=True,\n",
    "        drop_last=False,\n",
    "        generator=g\n",
    "    )\n",
    "    print(\"generate data loader using seed\")\n",
    "else:\n",
    "    train_loader = DataLoader(train_dataset, batch_size=20, shuffle=True)\n",
    "\n",
    "input_channels = X_train_tensor.shape[1]\n",
    "print(input_channels)"
   ]
  },
  {
   "cell_type": "code",
   "execution_count": 13,
   "id": "a9f4424e",
   "metadata": {},
   "outputs": [
    {
     "name": "stdout",
     "output_type": "stream",
     "text": [
      "Epoch 50/300, Loss: 0.0000\n",
      "Epoch 100/300, Loss: 0.0000\n",
      "Epoch 150/300, Loss: 0.0000\n",
      "Epoch 200/300, Loss: 0.0000\n",
      "Epoch 250/300, Loss: 0.0000\n",
      "Epoch 300/300, Loss: 0.0000\n"
     ]
    }
   ],
   "source": [
    "device = torch.device('cuda' if torch.cuda.is_available() else 'cpu')\n",
    "model = TwoDCNN().to(device)\n",
    "criterion = nn.BCEWithLogitsLoss()\n",
    "optimizer = optim.Adam(model.parameters(), lr=0.001)\n",
    "\n",
    "# Training loop\n",
    "for epoch in range(300):\n",
    "    model.train()\n",
    "    for batch_X, batch_y in train_loader:\n",
    "        batch_X, batch_y = batch_X.to(device), batch_y.to(device)\n",
    "        outputs = model(batch_X).squeeze()\n",
    "        # print(outputs.shape)\n",
    "        # print(batch_y.shape)\n",
    "        loss = criterion(outputs, batch_y)\n",
    "        optimizer.zero_grad()\n",
    "        loss.backward()\n",
    "        optimizer.step()\n",
    "\n",
    "    if (epoch + 1) % 50 == 0:\n",
    "        print(f\"Epoch {epoch+1}/300, Loss: {loss.item():.4f}\")"
   ]
  },
  {
   "cell_type": "code",
   "execution_count": 14,
   "id": "e99b0593",
   "metadata": {},
   "outputs": [],
   "source": [
    "X_val_tensor   = torch.tensor(X_val, dtype=torch.float32)\n",
    "y_val_tensor   = torch.tensor(y_val, dtype=torch.float32)"
   ]
  },
  {
   "cell_type": "code",
   "execution_count": 15,
   "id": "0eb8fc8f",
   "metadata": {},
   "outputs": [
    {
     "name": "stdout",
     "output_type": "stream",
     "text": [
      "Validation Accuracy: 1.0000\n",
      "Sample 0: Predicted = 0, Prob(class 1) = 0.0000\n",
      "Sample 1: Predicted = 0, Prob(class 1) = 0.0000\n",
      "Sample 2: Predicted = 0, Prob(class 1) = 0.0000\n",
      "Sample 3: Predicted = 1, Prob(class 1) = 1.0000\n",
      "Sample 4: Predicted = 0, Prob(class 1) = 0.0000\n",
      "Sample 5: Predicted = 0, Prob(class 1) = 0.0000\n",
      "Sample 6: Predicted = 1, Prob(class 1) = 1.0000\n",
      "Sample 7: Predicted = 0, Prob(class 1) = 0.0000\n",
      "Sample 8: Predicted = 0, Prob(class 1) = 0.0000\n",
      "Sample 9: Predicted = 0, Prob(class 1) = 0.0000\n",
      "Sample 10: Predicted = 0, Prob(class 1) = 0.0000\n",
      "Sample 11: Predicted = 1, Prob(class 1) = 1.0000\n",
      "Sample 12: Predicted = 1, Prob(class 1) = 1.0000\n",
      "Sample 13: Predicted = 0, Prob(class 1) = 0.0000\n",
      "Sample 14: Predicted = 1, Prob(class 1) = 1.0000\n",
      "Sample 15: Predicted = 1, Prob(class 1) = 1.0000\n",
      "Sample 16: Predicted = 1, Prob(class 1) = 1.0000\n",
      "Sample 17: Predicted = 1, Prob(class 1) = 1.0000\n",
      "Sample 18: Predicted = 1, Prob(class 1) = 1.0000\n",
      "Sample 19: Predicted = 0, Prob(class 1) = 0.0000\n"
     ]
    }
   ],
   "source": [
    "model.eval()\n",
    "with torch.no_grad():\n",
    "    val_outputs = model(X_val_tensor.to(device)).cpu().squeeze()\n",
    "    val_probs = torch.sigmoid(val_outputs)\n",
    "    val_preds = (val_probs >= 0.5).int().numpy()\n",
    "\n",
    "# Accuracy\n",
    "acc = accuracy_score(y_val, val_preds)\n",
    "print(f\"Validation Accuracy: {acc:.4f}\")\n",
    "\n",
    "# Print predictions and probabilities\n",
    "for i, (pred, prob) in enumerate(zip(val_preds, val_probs)):\n",
    "    print(f\"Sample {i}: Predicted = {pred}, Prob(class 1) = {prob:.4f}\")\n"
   ]
  },
  {
   "cell_type": "code",
   "execution_count": 16,
   "id": "8bb5c3ce",
   "metadata": {},
   "outputs": [],
   "source": [
    "def predict_batch_whole(model, batch_input, device):\n",
    "    batch_input = batch_input.to(device)\n",
    "    with torch.no_grad():  # Disable gradient computation\n",
    "     \n",
    "        test_features_np = batch_input   # convert to NumPy\n",
    "\n",
    "        X_train_tensor = torch.tensor(test_features_np, dtype=torch.float32)\n",
    "        # X_train_tensor = X_train_tensor.to(device)\n",
    "\n",
    "        val_outputs = model(X_train_tensor).cpu().squeeze()\n",
    "        val_probs = torch.sigmoid(val_outputs)\n",
    "        val_preds = (val_probs >= 0.5).int().numpy()\n",
    "\n",
    "    \n",
    "\n",
    "    return val_preds, val_probs"
   ]
  },
  {
   "cell_type": "code",
   "execution_count": 17,
   "id": "8d66596d",
   "metadata": {},
   "outputs": [],
   "source": [
    "def testWithWholeDataset(n): \n",
    "    hsi_test = datasets[n]\n",
    "\n",
    "    test_img = hsi_test.img\n",
    "    gt= hsi_test.gt\n",
    "\n",
    "    patch_size = 9\n",
    "    half_patch = patch_size // 2\n",
    "\n",
    "    height = test_img.shape[0]\n",
    "    width = test_img.shape[1]\n",
    "\n",
    "    matrix=zeroPadding.zeroPadding_3D(test_img,half_patch) #add 0 in every side of the data\n",
    "    print(f\"img shape: {test_img.shape}\")\n",
    "    print(f\"img shape after padding {matrix.shape}\")\n",
    "    print(f\"number of pixel {width * height}\")\n",
    "\n",
    "    print(f\"ground truth shape: {gt.shape}\")\n",
    "\n",
    "    indices0 = np.argwhere(gt == 0)\n",
    "    indices1 = np.argwhere(gt == 1)\n",
    "\n",
    "    print(f\"indices = 0 shape: {indices0.shape}\")\n",
    "    print(f\"indices = 1 shape: {indices1.shape}\")\n",
    "\n",
    "    return matrix, gt, indices0.shape, indices1.shape"
   ]
  },
  {
   "cell_type": "code",
   "execution_count": 18,
   "id": "c2427a8c",
   "metadata": {},
   "outputs": [],
   "source": [
    "class PatchDataset(Dataset):\n",
    "    def __init__(self, matrix, gt, half_patch, expected_shape):\n",
    "        self.matrix = matrix\n",
    "        self.gt = gt\n",
    "        self.half_patch = half_patch\n",
    "        self.expected_shape = expected_shape\n",
    "        self.size_x, self.size_y = matrix.shape[0], matrix.shape[1]\n",
    "        self.valid_coords = [\n",
    "            (x, y)\n",
    "            for x in range(half_patch, self.size_x - half_patch)\n",
    "            for y in range(half_patch, self.size_y - half_patch)\n",
    "        ]\n",
    "\n",
    "    def __len__(self):\n",
    "        return len(self.valid_coords)\n",
    "\n",
    "    def __getitem__(self, idx):\n",
    "        x, y = self.valid_coords[idx]\n",
    "        true_label = self.gt[x - self.half_patch, y - self.half_patch]\n",
    "\n",
    "        selected_rows = self.matrix[x- self.half_patch:x + 2 * self.half_patch + 1 - self.half_patch, :]\n",
    "        testing_patch = selected_rows[:, y - self.half_patch:y + 2 * self.half_patch + 1 - self.half_patch]\n",
    "\n",
    "        # Verify patch size\n",
    "        if testing_patch.shape != self.expected_shape:\n",
    "            raise ValueError(f\"Patch at ({x},{y}) has wrong shape {testing_patch.shape}\")\n",
    "\n",
    "        patch_tensor = torch.tensor(testing_patch, dtype=torch.float32)\n",
    "        patch_tensor = patch_tensor.permute(2, 0, 1)  # (C, H, W)\n",
    "\n",
    "        return patch_tensor, true_label, x, y  # Also return (x, y) for positioning later"
   ]
  },
  {
   "cell_type": "code",
   "execution_count": 19,
   "id": "e707b287",
   "metadata": {},
   "outputs": [
    {
     "name": "stdout",
     "output_type": "stream",
     "text": [
      "img shape: (1243, 684, 224)\n",
      "img shape after padding (1251, 692, 224)\n",
      "number of pixel 850212\n",
      "ground truth shape: (1243, 684)\n",
      "indices = 0 shape: (820876, 2)\n",
      "indices = 1 shape: (29336, 2)\n",
      "820876\n",
      "29336\n",
      "generate data loader using seed\n",
      "torch.Size([64, 224, 9, 9])\n",
      "torch.Size([64])\n",
      "data loader size: 13285\n"
     ]
    },
    {
     "name": "stderr",
     "output_type": "stream",
     "text": [
      "Predicting:   0%|          | 0/13285 [00:00<?, ?it/s]C:\\Users\\admin\\AppData\\Local\\Temp\\ipykernel_19380\\1255797954.py:7: UserWarning: To copy construct from a tensor, it is recommended to use sourceTensor.clone().detach() or sourceTensor.clone().detach().requires_grad_(True), rather than torch.tensor(sourceTensor).\n",
      "  X_train_tensor = torch.tensor(test_features_np, dtype=torch.float32)\n",
      "Predicting: 100%|██████████| 13285/13285 [01:12<00:00, 182.50it/s]\n"
     ]
    },
    {
     "name": "stdout",
     "output_type": "stream",
     "text": [
      "correct0 = 768486\n",
      "correct1 = 27200\n",
      "Score: 795686/850212\n",
      "{'dataset': 0, 'class0_size': 820876, 'class1_size': 29336, 'correct_0': 768486, 'correct_1': 27200, 'correct_total': 795686, 'total': 850212}\n",
      "img shape: (1786, 699, 224)\n",
      "img shape after padding (1794, 707, 224)\n",
      "number of pixel 1248414\n",
      "ground truth shape: (1786, 699)\n",
      "indices = 0 shape: (1236269, 2)\n",
      "indices = 1 shape: (12145, 2)\n",
      "1236269\n",
      "12145\n",
      "generate data loader using seed\n",
      "torch.Size([64, 224, 9, 9])\n",
      "torch.Size([64])\n",
      "data loader size: 19507\n"
     ]
    },
    {
     "name": "stderr",
     "output_type": "stream",
     "text": [
      "Predicting: 100%|██████████| 19507/19507 [02:02<00:00, 159.04it/s]\n"
     ]
    },
    {
     "name": "stdout",
     "output_type": "stream",
     "text": [
      "correct0 = 507946\n",
      "correct1 = 12145\n",
      "Score: 520091/1248414\n",
      "{'dataset': 1, 'class0_size': 1236269, 'class1_size': 12145, 'correct_0': 507946, 'correct_1': 12145, 'correct_total': 520091, 'total': 1248414}\n",
      "img shape: (1386, 690, 224)\n",
      "img shape after padding (1394, 698, 224)\n",
      "number of pixel 956340\n",
      "ground truth shape: (1386, 690)\n",
      "indices = 0 shape: (916980, 2)\n",
      "indices = 1 shape: (39360, 2)\n",
      "916980\n",
      "39360\n",
      "generate data loader using seed\n",
      "torch.Size([64, 224, 9, 9])\n",
      "torch.Size([64])\n",
      "data loader size: 14943\n"
     ]
    },
    {
     "name": "stderr",
     "output_type": "stream",
     "text": [
      "Predicting: 100%|██████████| 14943/14943 [01:34<00:00, 157.85it/s]\n"
     ]
    },
    {
     "name": "stdout",
     "output_type": "stream",
     "text": [
      "correct0 = 526713\n",
      "correct1 = 39360\n",
      "Score: 566073/956340\n",
      "{'dataset': 2, 'class0_size': 916980, 'class1_size': 39360, 'correct_0': 526713, 'correct_1': 39360, 'correct_total': 566073, 'total': 956340}\n",
      "img shape: (1466, 676, 224)\n",
      "img shape after padding (1474, 684, 224)\n",
      "number of pixel 991016\n",
      "ground truth shape: (1466, 676)\n",
      "indices = 0 shape: (959167, 2)\n",
      "indices = 1 shape: (31849, 2)\n",
      "959167\n",
      "31849\n",
      "generate data loader using seed\n",
      "torch.Size([64, 224, 9, 9])\n",
      "torch.Size([64])\n",
      "data loader size: 15485\n"
     ]
    },
    {
     "name": "stderr",
     "output_type": "stream",
     "text": [
      "Predicting: 100%|██████████| 15485/15485 [01:38<00:00, 157.20it/s]\n"
     ]
    },
    {
     "name": "stdout",
     "output_type": "stream",
     "text": [
      "correct0 = 726557\n",
      "correct1 = 31848\n",
      "Score: 758405/991016\n",
      "{'dataset': 3, 'class0_size': 959167, 'class1_size': 31849, 'correct_0': 726557, 'correct_1': 31848, 'correct_total': 758405, 'total': 991016}\n",
      "img shape: (2085, 682, 224)\n",
      "img shape after padding (2093, 690, 224)\n",
      "number of pixel 1421970\n",
      "ground truth shape: (2085, 682)\n",
      "indices = 0 shape: (1363408, 2)\n",
      "indices = 1 shape: (58562, 2)\n",
      "1363408\n",
      "58562\n",
      "generate data loader using seed\n",
      "torch.Size([64, 224, 9, 9])\n",
      "torch.Size([64])\n",
      "data loader size: 22219\n"
     ]
    },
    {
     "name": "stderr",
     "output_type": "stream",
     "text": [
      "Predicting: 100%|██████████| 22219/22219 [02:24<00:00, 153.27it/s]\n"
     ]
    },
    {
     "name": "stdout",
     "output_type": "stream",
     "text": [
      "correct0 = 630779\n",
      "correct1 = 57809\n",
      "Score: 688588/1421970\n",
      "{'dataset': 4, 'class0_size': 1363408, 'class1_size': 58562, 'correct_0': 630779, 'correct_1': 57809, 'correct_total': 688588, 'total': 1421970}\n",
      "img shape: (2088, 691, 224)\n",
      "img shape after padding (2096, 699, 224)\n",
      "number of pixel 1442808\n",
      "ground truth shape: (2088, 691)\n",
      "indices = 0 shape: (1389552, 2)\n",
      "indices = 1 shape: (53256, 2)\n",
      "1389552\n",
      "53256\n",
      "generate data loader using seed\n",
      "torch.Size([64, 224, 9, 9])\n",
      "torch.Size([64])\n",
      "data loader size: 22544\n"
     ]
    },
    {
     "name": "stderr",
     "output_type": "stream",
     "text": [
      "Predicting: 100%|██████████| 22544/22544 [02:29<00:00, 150.62it/s]\n"
     ]
    },
    {
     "name": "stdout",
     "output_type": "stream",
     "text": [
      "correct0 = 993849\n",
      "correct1 = 53235\n",
      "Score: 1047084/1442808\n",
      "{'dataset': 5, 'class0_size': 1389552, 'class1_size': 53256, 'correct_0': 993849, 'correct_1': 53235, 'correct_total': 1047084, 'total': 1442808}\n",
      "img shape: (1965, 492, 224)\n",
      "img shape after padding (1973, 500, 224)\n",
      "number of pixel 966780\n",
      "ground truth shape: (1965, 492)\n",
      "indices = 0 shape: (873365, 2)\n",
      "indices = 1 shape: (93415, 2)\n",
      "873365\n",
      "93415\n",
      "generate data loader using seed\n",
      "torch.Size([64, 224, 9, 9])\n",
      "torch.Size([64])\n",
      "data loader size: 15106\n"
     ]
    },
    {
     "name": "stderr",
     "output_type": "stream",
     "text": [
      "Predicting: 100%|██████████| 15106/15106 [01:39<00:00, 151.67it/s]\n"
     ]
    },
    {
     "name": "stdout",
     "output_type": "stream",
     "text": [
      "correct0 = 16888\n",
      "correct1 = 93415\n",
      "Score: 110303/966780\n",
      "{'dataset': 6, 'class0_size': 873365, 'class1_size': 93415, 'correct_0': 16888, 'correct_1': 93415, 'correct_total': 110303, 'total': 966780}\n",
      "img shape: (1532, 567, 224)\n",
      "img shape after padding (1540, 575, 224)\n",
      "number of pixel 868644\n",
      "ground truth shape: (1532, 567)\n",
      "indices = 0 shape: (824964, 2)\n",
      "indices = 1 shape: (43680, 2)\n",
      "824964\n",
      "43680\n",
      "generate data loader using seed\n",
      "torch.Size([64, 224, 9, 9])\n",
      "torch.Size([64])\n",
      "data loader size: 13573\n"
     ]
    },
    {
     "name": "stderr",
     "output_type": "stream",
     "text": [
      "Predicting: 100%|██████████| 13573/13573 [01:30<00:00, 149.55it/s]\n"
     ]
    },
    {
     "name": "stdout",
     "output_type": "stream",
     "text": [
      "correct0 = 167967\n",
      "correct1 = 43680\n",
      "Score: 211647/868644\n",
      "{'dataset': 7, 'class0_size': 824964, 'class1_size': 43680, 'correct_0': 167967, 'correct_1': 43680, 'correct_total': 211647, 'total': 868644}\n",
      "img shape: (1569, 517, 224)\n",
      "img shape after padding (1577, 525, 224)\n",
      "number of pixel 811173\n",
      "ground truth shape: (1569, 517)\n",
      "indices = 0 shape: (742935, 2)\n",
      "indices = 1 shape: (68238, 2)\n",
      "742935\n",
      "68238\n",
      "generate data loader using seed\n",
      "torch.Size([64, 224, 9, 9])\n",
      "torch.Size([64])\n",
      "data loader size: 12675\n"
     ]
    },
    {
     "name": "stderr",
     "output_type": "stream",
     "text": [
      "Predicting: 100%|██████████| 12675/12675 [01:21<00:00, 154.78it/s]\n"
     ]
    },
    {
     "name": "stdout",
     "output_type": "stream",
     "text": [
      "correct0 = 0\n",
      "correct1 = 68238\n",
      "Score: 68238/811173\n",
      "{'dataset': 8, 'class0_size': 742935, 'class1_size': 68238, 'correct_0': 0, 'correct_1': 68238, 'correct_total': 68238, 'total': 811173}\n",
      "img shape: (1084, 680, 224)\n",
      "img shape after padding (1092, 688, 224)\n",
      "number of pixel 737120\n",
      "ground truth shape: (1084, 680)\n",
      "indices = 0 shape: (691437, 2)\n",
      "indices = 1 shape: (45683, 2)\n",
      "691437\n",
      "45683\n",
      "generate data loader using seed\n",
      "torch.Size([64, 224, 9, 9])\n",
      "torch.Size([64])\n",
      "data loader size: 11518\n"
     ]
    },
    {
     "name": "stderr",
     "output_type": "stream",
     "text": [
      "Predicting: 100%|██████████| 11518/11518 [01:09<00:00, 164.67it/s]"
     ]
    },
    {
     "name": "stdout",
     "output_type": "stream",
     "text": [
      "correct0 = 674096\n",
      "correct1 = 31393\n",
      "Score: 705489/737120\n",
      "{'dataset': 9, 'class0_size': 691437, 'class1_size': 45683, 'correct_0': 674096, 'correct_1': 31393, 'correct_total': 705489, 'total': 737120}\n"
     ]
    },
    {
     "name": "stderr",
     "output_type": "stream",
     "text": [
      "\n"
     ]
    }
   ],
   "source": [
    "device = torch.device(\"cuda\" if torch.cuda.is_available() else \"cpu\")\n",
    "model = model.to(device)\n",
    "\n",
    "scores = []\n",
    "groundtruth = []\n",
    "prediction = []\n",
    "y_probs = []\n",
    "\n",
    "\n",
    "timestamp = datetime.now().strftime('%Y%m%d_%H%M%S')\n",
    "os.makedirs(f\"predictions/{timestamp}\", exist_ok=True)\n",
    "for dataset in range(len(datasets)):\n",
    "\n",
    "    score = []\n",
    "    patch_size = 9\n",
    "    half_patch = patch_size // 2\n",
    "\n",
    "    data_sampler = None\n",
    "    batch_size = 64\n",
    "\n",
    "    correct0 = 0\n",
    "    correct1 = 0\n",
    "    matrix = []\n",
    "    gt = []\n",
    "    expected_patch_shape = []\n",
    "    dataset_patches = []\n",
    "    data_loader = []\n",
    "    patch_tensor = []\n",
    "    true_label = [] \n",
    "    x = []\n",
    "    y = []\n",
    "    pred_matrix = []\n",
    "\n",
    "    matrix, gt, indices_0_shape, indices_1_shape = testWithWholeDataset(dataset)\n",
    "    print(indices_0_shape[0])\n",
    "    print(indices_1_shape[0])\n",
    "\n",
    "    expected_patch_shape = (2 * half_patch + 1, 2 * half_patch + 1, matrix.shape[2])\n",
    "    dataset_patches = PatchDataset(matrix, gt, half_patch, expected_patch_shape)\n",
    "\n",
    "    if seeded_run:\n",
    "        g = torch.Generator()\n",
    "        g.manual_seed(seed)\n",
    "\n",
    "        data_loader = DataLoader(\n",
    "            dataset_patches,\n",
    "            batch_size=batch_size,\n",
    "            shuffle=False,  # set to True if needed\n",
    "            num_workers=0,\n",
    "            pin_memory=True,\n",
    "            drop_last=False,\n",
    "            generator=g\n",
    "        )\n",
    "        print(\"generate data loader using seed\")\n",
    "    else:\n",
    "        data_loader = DataLoader(dataset_patches, batch_size=batch_size, shuffle=False, num_workers=0, pin_memory=True, drop_last=False)\n",
    "\n",
    "\n",
    "\n",
    "\n",
    "    patch_tensor, true_label, x, y = next(iter(data_loader))\n",
    "\n",
    "    print(patch_tensor.size())\n",
    "    print(true_label.size())\n",
    "    print(f\"data loader size: {len(data_loader)}\")\n",
    "\n",
    "    pred_matrix = np.full(gt.shape, -1, dtype=np.int32)\n",
    "    correct = 0\n",
    "\n",
    "    for input_batch, label_batch, x_batch, y_batch in tqdm(data_loader, desc=\"Predicting\"):\n",
    "\n",
    "\n",
    "        preds, confs = predict_batch_whole(model, input_batch, device)\n",
    "\n",
    "        prediction.append(preds)\n",
    "        y_probs.append(confs)\n",
    "        \n",
    "        label_batch = label_batch.numpy()\n",
    "        x_batch = x_batch.numpy()\n",
    "        y_batch = y_batch.numpy()\n",
    "\n",
    "        for pred, label, x, y in zip(preds, label_batch, x_batch, y_batch):\n",
    "            groundtruth.append(label)\n",
    "            pred_matrix[x - half_patch, y - half_patch] = pred\n",
    "            if pred == label:\n",
    "                if label == 0:\n",
    "                    correct0 += 1\n",
    "                elif label == 1:\n",
    "                    correct1 += 1\n",
    "                \n",
    "    correct = correct0+correct1\n",
    "    print(f\"correct0 = {correct0}\")\n",
    "    print(f\"correct1 = {correct1}\")\n",
    "    total = gt.shape[0] * gt.shape[1]\n",
    "    print(f\"Score: {correct}/{total}\")\n",
    "\n",
    "    score = {\n",
    "        'dataset': dataset,\n",
    "        'class0_size': indices_0_shape[0],\n",
    "        'class1_size': indices_1_shape[0],\n",
    "        'correct_0': correct0,\n",
    "        'correct_1': correct1,\n",
    "        'correct_total': correct,\n",
    "        'total': total\n",
    "    }\n",
    "    print(score)\n",
    "    scores.append(score)\n",
    "    # Save prediction matrix\n",
    "    # timestamp = datetime.now().strftime('%Y%m%d_%H%M%S')\n",
    "    np.save(f\"predictions/{timestamp}/results {dataset} TwoDCNN.npy\", pred_matrix)"
   ]
  },
  {
   "cell_type": "markdown",
   "id": "a79b3333",
   "metadata": {},
   "source": []
  },
  {
   "cell_type": "code",
   "execution_count": 20,
   "id": "1f93559e",
   "metadata": {},
   "outputs": [
    {
     "name": "stdout",
     "output_type": "stream",
     "text": [
      "dataset: 0\t 768486/820876\t 27200/29336\t 795686/850212\t\n",
      "dataset: 1\t 507946/1236269\t 12145/12145\t 520091/1248414\t\n",
      "dataset: 2\t 526713/916980\t 39360/39360\t 566073/956340\t\n",
      "dataset: 3\t 726557/959167\t 31848/31849\t 758405/991016\t\n",
      "dataset: 4\t 630779/1363408\t 57809/58562\t 688588/1421970\t\n",
      "dataset: 5\t 993849/1389552\t 53235/53256\t 1047084/1442808\t\n",
      "dataset: 6\t 16888/873365\t 93415/93415\t 110303/966780\t\n",
      "dataset: 7\t 167967/824964\t 43680/43680\t 211647/868644\t\n",
      "dataset: 8\t 0/742935\t 68238/68238\t 68238/811173\t\n",
      "dataset: 9\t 674096/691437\t 31393/45683\t 705489/737120\t\n",
      "total: \t\t 5013281/4909476.5 \t 458323/237762.0 \t 5471604/10294477\n",
      "acc: 0.5315086915051634\n"
     ]
    }
   ],
   "source": [
    "all_correct = 0\n",
    "all_total = 0\n",
    "all_correct0 = 0\n",
    "all_correct1 = 0\n",
    "class0_total = 0\n",
    "class1_total = 0\n",
    "\n",
    "for score in scores:\n",
    "    dataset = score['dataset']\n",
    "    correct0 = score['correct_0']\n",
    "    correct1 = score['correct_1']\n",
    "    class0_size = score['class0_size']\n",
    "    class1_size = score['class1_size']\n",
    "    correct = score['correct_total']\n",
    "    total = score['total']\n",
    "    print(f\"dataset: {dataset}\\t\", f'{correct0}/{class0_size}\\t', f'{correct1}/{class1_size}\\t', f'{correct}/{total}\\t')\n",
    "\n",
    "    all_correct += correct\n",
    "    all_total += total\n",
    "    all_correct0 += correct0\n",
    "    all_correct1 += correct1\n",
    "    class0_total += class0_size\n",
    "    class1_total += class1_size\n",
    "\n",
    "\n",
    "\n",
    "print(f\"total: \\t\\t {all_correct0}/{class0_total/2} \\t {all_correct1}/{class1_total/2} \\t {all_correct}/{all_total}\")\n",
    "\n",
    "print(f\"acc: {all_correct/all_total}\")\n",
    "\n"
   ]
  },
  {
   "cell_type": "code",
   "execution_count": 21,
   "id": "ff770dab",
   "metadata": {},
   "outputs": [],
   "source": [
    "\n",
    "all_total_score = {\n",
    "    'dataset': 'Total Dataset',\n",
    "    'correct_0': all_correct0,\n",
    "    'correct_1': all_correct1,\n",
    "    'class0_total': class0_total,\n",
    "    'class1_total': class1_total,\n",
    "    'correct_total': all_correct,\n",
    "    'total': all_total\n",
    "}\n",
    "\n",
    "scores.append(all_total_score)"
   ]
  },
  {
   "cell_type": "code",
   "execution_count": 22,
   "id": "cee05689",
   "metadata": {},
   "outputs": [
    {
     "name": "stdout",
     "output_type": "stream",
     "text": [
      "10294477\n",
      "10294477\n",
      "10294477\n"
     ]
    }
   ],
   "source": [
    "groundtruths = groundtruth\n",
    "groundtruth_in = []\n",
    "\n",
    "for x in groundtruths:\n",
    "    groundtruth_in.append(x)\n",
    "\n",
    "predictions = prediction\n",
    "prediction_in = []\n",
    "\n",
    "for x in predictions:\n",
    "    for y in x:\n",
    "        prediction_in.append(y)\n",
    "\n",
    "\n",
    "y_prob_in = []\n",
    "\n",
    "for x in y_probs:\n",
    "    for y in x:\n",
    "        y_prob_in.append(y)\n",
    "\n",
    "print(len(groundtruth_in))\n",
    "print(len(prediction_in))\n",
    "print(len(y_prob_in))"
   ]
  },
  {
   "cell_type": "code",
   "execution_count": 23,
   "id": "09e42082",
   "metadata": {},
   "outputs": [
    {
     "name": "stdout",
     "output_type": "stream",
     "text": [
      "5471604/10294477\n"
     ]
    }
   ],
   "source": [
    "y_test = groundtruth_in\n",
    "y_pred = prediction_in\n",
    "correct = 0\n",
    "total = 0\n",
    "\n",
    "for x, y in zip(y_test, y_pred):\n",
    "    total += 1\n",
    "    if x == y:\n",
    "        correct += 1\n",
    "\n",
    "print(f'{correct}/{total}')"
   ]
  },
  {
   "cell_type": "code",
   "execution_count": 24,
   "id": "e6b0e2ed",
   "metadata": {},
   "outputs": [
    {
     "name": "stdout",
     "output_type": "stream",
     "text": [
      "Unique values in y_test: [0 1]\n",
      "Sample y_pred values: [np.int32(0), np.int32(0), np.int32(0), np.int32(1), np.int32(1)]\n"
     ]
    }
   ],
   "source": [
    "y_test_np = np.array([label.item() for label in y_test])\n",
    "# Ensure labels are binary (0 and 1)\n",
    "print(\"Unique values in y_test:\", pd.Series(y_test_np).unique())\n",
    "\n",
    "# Check if y_pred is probability (float) or hard prediction (int)\n",
    "print(\"Sample y_pred values:\", y_pred[:5])"
   ]
  },
  {
   "cell_type": "code",
   "execution_count": 25,
   "id": "38e48bba",
   "metadata": {},
   "outputs": [
    {
     "data": {
      "image/png": "[encoded data removed]",
      "text/plain": [
       "<Figure size 700x500 with 1 Axes>"
      ]
     },
     "metadata": {},
     "output_type": "display_data"
    }
   ],
   "source": [
    "test_df = pd.DataFrame(\n",
    "    {'True': y_test_np, 'Model': y_prob_in})\n",
    "\n",
    "plt.figure(figsize=(7, 5))\n",
    "\n",
    "\n",
    "fpr, tpr, _ = roc_curve(test_df['True'], test_df['Model'])\n",
    "roc_auc = auc(fpr, tpr)\n",
    "plt.plot(fpr, tpr, label=f'Model (AUC = {roc_auc:.2f})')\n",
    "\n",
    "plt.plot([0, 1], [0, 1], 'r--', label='Random Guess')\n",
    "\n",
    "plt.xlabel('False Positive Rate')\n",
    "plt.ylabel('True Positive Rate')\n",
    "plt.title('ROC Curves for Two Models')\n",
    "plt.legend()\n",
    "plt.show()"
   ]
  },
  {
   "cell_type": "code",
   "execution_count": 26,
   "id": "6750deae",
   "metadata": {},
   "outputs": [
    {
     "name": "stdout",
     "output_type": "stream",
     "text": [
      "Precision: 0.5418\n",
      "Recall:    0.7372\n",
      "F1 Score:  0.4175\n",
      "OA:        0.5315\n",
      "AA:        0.7372\n"
     ]
    }
   ],
   "source": [
    "\n",
    "\n",
    "y_true = np.array([int(label) for label in y_test_np])  # true labels\n",
    "y_pred = prediction_in                         # predicted class labels (e.g., from predict_batch)\n",
    "\n",
    "# Precision, Recall, F1\n",
    "precision = precision_score(y_true, y_pred, average='macro')  # Use 'binary' if binary task\n",
    "recall = recall_score(y_true, y_pred, average='macro')\n",
    "f1 = f1_score(y_true, y_pred, average='macro')\n",
    "\n",
    "# Overall Accuracy (OA)\n",
    "oa = accuracy_score(y_true, y_pred)\n",
    "\n",
    "# Average Accuracy (AA) — mean of per-class accuracies\n",
    "cm = confusion_matrix(y_true, y_pred)\n",
    "per_class_acc = cm.diagonal() / cm.sum(axis=1)\n",
    "aa = per_class_acc.mean()\n",
    "\n",
    "# Print all metrics\n",
    "print(f\"Precision: {precision:.4f}\")\n",
    "print(f\"Recall:    {recall:.4f}\")\n",
    "print(f\"F1 Score:  {f1:.4f}\")\n",
    "print(f\"OA:        {oa:.4f}\")\n",
    "print(f\"AA:        {aa:.4f}\")"
   ]
  },
  {
   "cell_type": "code",
   "execution_count": 27,
   "id": "63022330",
   "metadata": {},
   "outputs": [],
   "source": [
    "performance = {\n",
    "    'AUC': float(roc_auc),\n",
    "    'precision': float(precision),\n",
    "    'recall': float(recall),\n",
    "    'F1 Score': float(f1),\n",
    "    'OA': float(oa),\n",
    "    'AA': float(aa),\n",
    "}\n",
    "result_json = {\n",
    "    'prediction' : scores,\n",
    "    'performance' : performance,\n",
    "}"
   ]
  },
  {
   "cell_type": "code",
   "execution_count": 28,
   "id": "711abcd2",
   "metadata": {},
   "outputs": [
    {
     "name": "stdout",
     "output_type": "stream",
     "text": [
      "{'prediction': [{'dataset': 0, 'class0_size': 820876, 'class1_size': 29336, 'correct_0': 768486, 'correct_1': 27200, 'correct_total': 795686, 'total': 850212}, {'dataset': 1, 'class0_size': 1236269, 'class1_size': 12145, 'correct_0': 507946, 'correct_1': 12145, 'correct_total': 520091, 'total': 1248414}, {'dataset': 2, 'class0_size': 916980, 'class1_size': 39360, 'correct_0': 526713, 'correct_1': 39360, 'correct_total': 566073, 'total': 956340}, {'dataset': 3, 'class0_size': 959167, 'class1_size': 31849, 'correct_0': 726557, 'correct_1': 31848, 'correct_total': 758405, 'total': 991016}, {'dataset': 4, 'class0_size': 1363408, 'class1_size': 58562, 'correct_0': 630779, 'correct_1': 57809, 'correct_total': 688588, 'total': 1421970}, {'dataset': 5, 'class0_size': 1389552, 'class1_size': 53256, 'correct_0': 993849, 'correct_1': 53235, 'correct_total': 1047084, 'total': 1442808}, {'dataset': 6, 'class0_size': 873365, 'class1_size': 93415, 'correct_0': 16888, 'correct_1': 93415, 'correct_total': 110303, 'total': 966780}, {'dataset': 7, 'class0_size': 824964, 'class1_size': 43680, 'correct_0': 167967, 'correct_1': 43680, 'correct_total': 211647, 'total': 868644}, {'dataset': 8, 'class0_size': 742935, 'class1_size': 68238, 'correct_0': 0, 'correct_1': 68238, 'correct_total': 68238, 'total': 811173}, {'dataset': 9, 'class0_size': 691437, 'class1_size': 45683, 'correct_0': 674096, 'correct_1': 31393, 'correct_total': 705489, 'total': 737120}, {'dataset': 'Total Dataset', 'correct_0': 5013281, 'correct_1': 458323, 'class0_total': 9818953, 'class1_total': 475524, 'correct_total': 5471604, 'total': 10294477}], 'performance': {'AUC': 0.8949499219867013, 'precision': 0.5418240838309412, 'recall': 0.7371995614133406, 'F1 Score': 0.41746142926857316, 'OA': 0.5315086915051634, 'AA': 0.7371995614133406}}\n",
      "JSON saved to results.json\n"
     ]
    }
   ],
   "source": [
    "# timestamp = datetime.now().strftime('%Y%m%d_%H%M%S')\n",
    "print(result_json)\n",
    "\n",
    "with open(f\"performance/TwoDCNN {timestamp}_results.json\", \"w\") as f:\n",
    "    json.dump(result_json, f, indent=2)\n",
    "\n",
    "print(\"JSON saved to results.json\")"
   ]
  },
  {
   "cell_type": "code",
   "execution_count": 29,
   "id": "95bcd9fb",
   "metadata": {},
   "outputs": [
    {
     "name": "stdout",
     "output_type": "stream",
     "text": [
      "Run time: 1568.9621 seconds\n",
      "20250610_190334\n",
      "seet used: 55\n"
     ]
    }
   ],
   "source": [
    "end_time = time.time()\n",
    "print(f\"Run time: {end_time - start_time:.4f} seconds\")\n",
    "\n",
    "print(timestamp)\n",
    "print(f\"seet used: {seed}\")"
   ]
  }
 ],
 "metadata": {
  "kernelspec": {
   "display_name": "fathanvenv",
   "language": "python",
   "name": "python3"
  },
  "language_info": {
   "codemirror_mode": {
    "name": "ipython",
    "version": 3
   },
   "file_extension": ".py",
   "mimetype": "text/x-python",
   "name": "python",
   "nbconvert_exporter": "python",
   "pygments_lexer": "ipython3",
   "version": "3.12.4"
  }
 },
 "nbformat": 4,
 "nbformat_minor": 5
}
