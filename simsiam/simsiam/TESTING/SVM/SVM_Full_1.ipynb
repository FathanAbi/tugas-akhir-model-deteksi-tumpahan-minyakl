{
 "cells": [
  {
   "cell_type": "code",
   "execution_count": null,
   "id": "8ab9c9cc",
   "metadata": {},
   "outputs": [
    {
     "name": "stdout",
     "output_type": "stream",
     "text": [
      "GPU Available: True\n",
      "GPU Name: NVIDIA GeForce GTX 1650\n"
     ]
    }
   ],
   "source": [
    "import os\n",
    "import numpy as np\n",
    "import pandas as pd\n",
    "from tqdm import tqdm\n",
    "import random\n",
    "import time\n",
    "import json\n",
    "from datetime import datetime\n",
    "import matplotlib.pyplot as plt\n",
    "\n",
    "import torch\n",
    "import torch.nn as nn\n",
    "from torch.utils.data import Dataset, DataLoader\n",
    "import torch.nn.functional as F\n",
    "\n",
    "from sklearn.pipeline import make_pipeline\n",
    "from sklearn.preprocessing import StandardScaler\n",
    "from sklearn.metrics import precision_score, recall_score, f1_score, accuracy_score, confusion_matrix\n",
    "from sklearn.metrics import roc_curve, auc\n",
    "from sklearn.svm import SVC\n",
    "from sklearn.model_selection import train_test_split\n",
    "\n",
    "\n",
    "from HSI_class import HSI\n",
    "import zeroPadding\n",
    "import augmentation as aug\n",
    "import createSample as CS\n",
    "\n",
    "start_time = time.time()\n",
    "\n",
    "# Check if GPU is available\n",
    "print(\"GPU Available:\", torch.cuda.is_available())\n",
    "\n",
    "# If available, print the GPU name\n",
    "if torch.cuda.is_available():\n",
    "    print(\"GPU Name:\", torch.cuda.get_device_name(0))\n",
    "\n",
    "seeded_run = True\n",
    "\n",
    "sample_per_class = 5\n",
    "num_per_category_augment_1 = 10\n",
    "num_per_category_augment_2 = 10\n",
    "epochs = 200\n",
    "\n",
    "batch_size =40\n",
    "test_size = 0.5\n",
    "\n",
    "random_indices = 0"
   ]
  },
  {
   "cell_type": "code",
   "execution_count": 2,
   "id": "a448b021",
   "metadata": {},
   "outputs": [
    {
     "name": "stdout",
     "output_type": "stream",
     "text": [
      "seed has been set\n"
     ]
    }
   ],
   "source": [
    "def set_seed(seed=42):\n",
    "    random.seed(seed)\n",
    "    np.random.seed(seed)\n",
    "    torch.manual_seed(seed)\n",
    "    torch.cuda.manual_seed_all(seed)\n",
    "\n",
    "    # PyTorch determinism\n",
    "    torch.backends.cudnn.deterministic = True\n",
    "    torch.backends.cudnn.benchmark = False\n",
    "\n",
    "    os.environ['PYTHONHASHSEED'] = str(seed)\n",
    "\n",
    "if seeded_run:\n",
    "    set_seed(42)\n",
    "    print(\"seed has been set\")"
   ]
  },
  {
   "cell_type": "code",
   "execution_count": 3,
   "id": "c6f79fe5",
   "metadata": {},
   "outputs": [
    {
     "name": "stdout",
     "output_type": "stream",
     "text": [
      "Processing file: C:\\Users\\Asus TUF\\Documents\\code\\TA\\Hyperspectral oil spill detection datasets\\GM01.mat\n",
      "Processing file: C:\\Users\\Asus TUF\\Documents\\code\\TA\\Hyperspectral oil spill detection datasets\\GM02.mat\n",
      "Processing file: C:\\Users\\Asus TUF\\Documents\\code\\TA\\Hyperspectral oil spill detection datasets\\GM03.mat\n",
      "Processing file: C:\\Users\\Asus TUF\\Documents\\code\\TA\\Hyperspectral oil spill detection datasets\\GM04.mat\n",
      "Processing file: C:\\Users\\Asus TUF\\Documents\\code\\TA\\Hyperspectral oil spill detection datasets\\GM05.mat\n",
      "Processing file: C:\\Users\\Asus TUF\\Documents\\code\\TA\\Hyperspectral oil spill detection datasets\\GM06.mat\n",
      "Processing file: C:\\Users\\Asus TUF\\Documents\\code\\TA\\Hyperspectral oil spill detection datasets\\GM07.mat\n",
      "Processing file: C:\\Users\\Asus TUF\\Documents\\code\\TA\\Hyperspectral oil spill detection datasets\\GM08.mat\n",
      "Processing file: C:\\Users\\Asus TUF\\Documents\\code\\TA\\Hyperspectral oil spill detection datasets\\GM09.mat\n",
      "Processing file: C:\\Users\\Asus TUF\\Documents\\code\\TA\\Hyperspectral oil spill detection datasets\\GM10.mat\n"
     ]
    }
   ],
   "source": [
    "dataset_path = r\"C:\\Users\\Asus TUF\\Documents\\code\\TA\\Hyperspectral oil spill detection datasets\"\n",
    "\n",
    "datasets = []\n",
    "\n",
    "i = 0\n",
    "for filename in os.listdir(dataset_path):\n",
    "    if i>9:\n",
    "        break\n",
    "    file_path = os.path.join(dataset_path, filename)\n",
    "    if os.path.isfile(file_path):  # Check if it's a file\n",
    "        print(f\"Processing file: {file_path}\")\n",
    "        hsi = HSI(file_path)\n",
    "        datasets.append(hsi)\n",
    "    i += 1"
   ]
  },
  {
   "cell_type": "code",
   "execution_count": 4,
   "id": "31d40bd0",
   "metadata": {},
   "outputs": [],
   "source": [
    "def testWithDataset(n): \n",
    "    hsi_test = datasets[n]\n",
    "\n",
    "    test_img = hsi_test.img\n",
    "    test_gt = hsi_test.gt\n",
    "\n",
    "    patch_size = 9\n",
    "    half_patch = patch_size // 2\n",
    "\n",
    "    height = test_img.shape[0]\n",
    "    width = test_img.shape[1]\n",
    "\n",
    "    matrix=zeroPadding.zeroPadding_3D(test_img,half_patch) #add 0 in every side of the data\n",
    "    print(f\"img shape: {test_img.shape}\")\n",
    "    print(f\"img shape after padding {matrix.shape}\")\n",
    "    print(f\"number of pixel {width * height}\")\n",
    "\n",
    "    print(f\"ground truth shape: {test_gt.shape}\")\n",
    "\n",
    "    indices0 = np.argwhere(test_gt == 0)\n",
    "    indices1 = np.argwhere(test_gt == 1)\n",
    "\n",
    "    print(f\"indices = 0 shape: {indices0.shape}\")\n",
    "    print(f\"indices = 1 shape: {indices1.shape}\")\n",
    "\n",
    "    num_samples = 50\n",
    "\n",
    "    random_indices0 = indices0[np.random.choice(len(indices0), num_samples, replace=False)]\n",
    "    random_indices1 = indices1[np.random.choice(len(indices1), num_samples, replace=False)]\n",
    "\n",
    "    test_indices = np.vstack((random_indices0, random_indices1))\n",
    "\n",
    "    print(test_indices.shape)\n",
    "\n",
    "    return test_indices, test_gt, matrix"
   ]
  },
  {
   "cell_type": "code",
   "execution_count": 5,
   "id": "e908e9cd",
   "metadata": {},
   "outputs": [],
   "source": [
    "def predict_batch(model, feature_extractor, batch_input, device):\n",
    "    with torch.no_grad():  # Disable gradient computation\n",
    "        test_features = feature_extractor(batch_input)  # shape: (10, 128)\n",
    "        test_features_np = test_features.numpy()     # convert to NumPy\n",
    "\n",
    "    predicted_classes = model.predict(test_features_np)\n",
    "    probs = model.predict_proba(test_features_np)\n",
    "    positive_probs = probs[:, 1]  # probability of class 1\n",
    "\n",
    "\n",
    "    return predicted_classes, positive_probs\n"
   ]
  },
  {
   "cell_type": "code",
   "execution_count": null,
   "id": "532b0120",
   "metadata": {},
   "outputs": [
    {
     "name": "stdout",
     "output_type": "stream",
     "text": [
      "random: 0\n",
      "generating random sample\n",
      "hsi shape\n",
      "(1243, 684, 224)\n",
      "creating 5 Randomly chosen 0 indices:\n",
      "creating 5 Randomly chosen 1 indices:\n",
      "indices 0 used: [(np.int64(1018), np.int64(74)), (np.int64(181), np.int64(470)), (np.int64(39), np.int64(306)), (np.int64(1178), np.int64(477)), (np.int64(444), np.int64(297))]\n",
      "indices 1 used: [(np.int64(197), np.int64(268)), (np.int64(177), np.int64(379)), (np.int64(147), np.int64(187)), (np.int64(945), np.int64(596)), (np.int64(134), np.int64(127))]\n",
      "number of element equal 0 5\n",
      "number of element equal 1 5\n",
      "x_train shape: (10, 9, 9, 224)\n",
      "y_train shape: (10,)\n"
     ]
    }
   ],
   "source": [
    "hsi_ = datasets[0]\n",
    "patch_size = 9\n",
    "\n",
    "\n",
    "indices_0 = []\n",
    "indices_1 = []\n",
    "\n",
    "print(f\"random: {random_indices}\")\n",
    "random_indices = 1\n",
    "if random_indices:\n",
    "    print(\"generating random sample\")\n",
    "    selected_patch_0, selected_patch_1, indices_0, indices_1 = CS.createSample(hsi_, patch_size, sample_per_class)\n",
    "else:\n",
    "    print(\"using generated indices\")\n",
    "    indices_0 = [(np.int64(188), np.int64(124)), (np.int64(523), np.int64(150)), (np.int64(1003), np.int64(474)), (np.int64(616), np.int64(508)), (np.int64(905), np.int64(552))]\n",
    "    indices_1 = [(np.int64(106), np.int64(606)), (np.int64(297), np.int64(468)), (np.int64(926), np.int64(35)), (np.int64(536), np.int64(519)), (np.int64(508), np.int64(442))]\n",
    "\n",
    "    selected_patch_0, selected_patch_1 = CS.getSample(hsi_, patch_size, sample_per_class, indices_0, indices_1)\n",
    "\n",
    "\n",
    "i =0\n",
    "half_patch = patch_size // 2\n",
    "\n",
    "\n",
    "indices = indices_0 +  indices_1\n",
    "\n",
    "# Concatenating along axis 0\n",
    "x_train = np.concatenate((selected_patch_0, selected_patch_1), )\n",
    "\n",
    "y_train = np.array([])\n",
    "\n",
    "gt = hsi_.gt\n",
    "for indice in indices:\n",
    "    # print(gt[indice[0]][indice[1]])\n",
    "    y_train = np.append(y_train, gt[indice[0]][indice[1]])\n",
    "\n",
    "count = np.count_nonzero(y_train == 0)  # Count elements equal to 0\n",
    "print(f'number of element equal 0 {count}')\n",
    "\n",
    "count = np.count_nonzero(y_train == 1)  # Count elements equal to 1\n",
    "print(f'number of element equal 1 {count}')\n",
    "\n",
    "\n",
    "\n",
    "# Print shape to verify\n",
    "print(f\"x_train shape: {x_train.shape}\")  # Expected output: (10, 9, 9, 224)\n",
    "print(f\"y_train shape: {y_train.shape}\") \n"
   ]
  },
  {
   "cell_type": "code",
   "execution_count": 7,
   "id": "b0ef03cf",
   "metadata": {},
   "outputs": [
    {
     "name": "stdout",
     "output_type": "stream",
     "text": [
      "[-237 -465  323  397  440  573  633  637  605  572  546  489  460  417\n",
      "  388  364  343  316  292  266  235  210  198  160  145  122  120  107\n",
      "  104   97   90   82   80   77   67   58   43   34   25   -2   10   26\n",
      "   38   -2   21   27   25   20   18    1    0    8   29   20   22   19\n",
      "   21    1   -7   -7   -6  -47 -161  -71   -3   -1   14   12   18   16\n",
      "   23   15   19   17   18   11    8    9   -5  -27 -146 -221  -93  -98\n",
      "  -34   -5    2    2    4   -4    9   12   14   11   19   21   20    3\n",
      "   18   14    5   -3  -13  -22  -41  -74    0    0    0    0    0    0\n",
      "    0    0 -170 -304 -105  -50  -72  -58  -22   -5    0    3    0    8\n",
      "    6    5    0   11    0   12    9   10    6    9    1    7    6    7\n",
      "    9   12   15    1    4    2    2   -2   -8  -17  -34  -72    0    0\n",
      "    0    0    0    0    0    0    0    0    0    0    0    0    0    0\n",
      "  -60 -141    7    7    8   15    1   -2   25   23   30   43   44   32\n",
      "   32   35   34   32   31   27   28   36   35   35   24   22   24   27\n",
      "   23   17   23   18   23   20   21   19    5   27    1    3    0    0\n",
      "    1    4  -13    3  -11   -9   -7   -4  -30  -20   11   45  -18  -21]\n",
      "[-237. -465.  323.  397.  440.  573.  633.  637.  605.  572.  546.  489.\n",
      "  460.  417.  388.  364.  343.  316.  292.  266.  235.  210.  198.  160.\n",
      "  145.  122.  120.  107.  104.   97.   90.   82.   80.   77.   67.   58.\n",
      "   43.   34.   25.   -2.   10.   26.   38.   -2.   21.   27.   25.   20.\n",
      "   18.    1.    0.    8.   29.   20.   22.   19.   21.    1.   -7.   -7.\n",
      "   -6.  -47. -161.  -71.   -3.   -1.   14.   12.   18.   16.   23.   15.\n",
      "   19.   17.   18.   11.    8.    9.   -5.  -27. -146. -221.  -93.  -98.\n",
      "  -34.   -5.    2.    2.    4.   -4.    9.   12.   14.   11.   19.   21.\n",
      "   20.    3.   18.   14.    5.   -3.  -13.  -22.  -41.  -74.    0.    0.\n",
      "    0.    0.    0.    0.    0.    0. -170. -304. -105.  -50.  -72.  -58.\n",
      "  -22.   -5.    0.    3.    0.    8.    6.    5.    0.   11.    0.   12.\n",
      "    9.   10.    6.    9.    1.    7.    6.    7.    9.   12.   15.    1.\n",
      "    4.    2.    2.   -2.   -8.  -17.  -34.  -72.    0.    0.    0.    0.\n",
      "    0.    0.    0.    0.    0.    0.    0.    0.    0.    0.    0.    0.\n",
      "  -60. -141.    7.    7.    8.   15.    1.   -2.   25.   23.   30.   43.\n",
      "   44.   32.   32.   35.   34.   32.   31.   27.   28.   36.   35.   35.\n",
      "   24.   22.   24.   27.   23.   17.   23.   18.   23.   20.   21.   19.\n",
      "    5.   27.    1.    3.    0.    0.    1.    4.  -13.    3.  -11.   -9.\n",
      "   -7.   -4.  -30.  -20.   11.   45.  -18.  -21.]\n",
      "[-231 -497  378  395  430  570  628  632  610  560  539  481  448  409\n",
      "  399  374  371  350  330  313  292  279  262  255  241  235  220  216\n",
      "  208  208  203  196  194  186  177  164  152  148  143  120  128  137\n",
      "  139  120  132  129  125  123  122  111  118  121  132  122  125  121\n",
      "  116   93   75   68   64    3  -98   10   87  103  117  125  141  141\n",
      "  149  137  140  138  138  128  111   95   72   36 -213 -221  -80  -98\n",
      "   11   51   68   76  100   99  112  111  120  120  120  118  129  125\n",
      "  110  115  107  101   86   83   49  -13    0    0    0    0    0    0\n",
      "    0    0 -342 -357 -122  -15  -91   12   54   74   87   98  104  113\n",
      "  128  121  122  131  125  136  131  134  128  123  121  115  116  122\n",
      "  118  134  116  116  105  100   69   57   64   28    3  -72    0    0\n",
      "    0    0    0    0    0    0    0    0    0    0    0    0    0    0\n",
      "   12  -91   17   15   18   31   26   52   47   55   68   61   78   85\n",
      "   79   88   86   78   83   84   83   92   90   89   85   83   89   89\n",
      "   91   90   84   92  101  114   99   78   79   66   62   65   54   58\n",
      "   42   29   16   45   17    5   40   10   10   -3  -16  -29  -40   28]\n",
      "[-231. -497.  378.  395.  430.  570.  628.  632.  610.  560.  539.  481.\n",
      "  448.  409.  399.  374.  371.  350.  330.  313.  292.  279.  262.  255.\n",
      "  241.  235.  220.  216.  208.  208.  203.  196.  194.  186.  177.  164.\n",
      "  152.  148.  143.  120.  128.  137.  139.  120.  132.  129.  125.  123.\n",
      "  122.  111.  118.  121.  132.  122.  125.  121.  116.   93.   75.   68.\n",
      "   64.    3.  -98.   10.   87.  103.  117.  125.  141.  141.  149.  137.\n",
      "  140.  138.  138.  128.  111.   95.   72.   36. -213. -221.  -80.  -98.\n",
      "   11.   51.   68.   76.  100.   99.  112.  111.  120.  120.  120.  118.\n",
      "  129.  125.  110.  115.  107.  101.   86.   83.   49.  -13.    0.    0.\n",
      "    0.    0.    0.    0.    0.    0. -342. -357. -122.  -15.  -91.   12.\n",
      "   54.   74.   87.   98.  104.  113.  128.  121.  122.  131.  125.  136.\n",
      "  131.  134.  128.  123.  121.  115.  116.  122.  118.  134.  116.  116.\n",
      "  105.  100.   69.   57.   64.   28.    3.  -72.    0.    0.    0.    0.\n",
      "    0.    0.    0.    0.    0.    0.    0.    0.    0.    0.    0.    0.\n",
      "   12.  -91.   17.   15.   18.   31.   26.   52.   47.   55.   68.   61.\n",
      "   78.   85.   79.   88.   86.   78.   83.   84.   83.   92.   90.   89.\n",
      "   85.   83.   89.   89.   91.   90.   84.   92.  101.  114.   99.   78.\n",
      "   79.   66.   62.   65.   54.   58.   42.   29.   16.   45.   17.    5.\n",
      "   40.   10.   10.   -3.  -16.  -29.  -40.   28.]\n",
      "[-141 -190  315  337  376  514  591  581  576  536  490  456  425  393\n",
      "  366  335  314  288  267  246  214  193  171  142  115  107  100   86\n",
      "   81   76   76   65   59   62   54   43   29   26   14  -20    0   19\n",
      "   26  -16    7   17    9    9    7  -15  -12    0   13   10   10    5\n",
      "    4  -14  -20  -26  -22  -65 -213 -100  -28  -16   -4    2    1    4\n",
      "    4    1    1    0    5   -3   -5   -3  -15  -42 -225 -253 -141 -150\n",
      "  -53  -19  -12  -12  -11  -21  -10  -12    0   -2   -1   -3   -2   11\n",
      "    4    1    2    3  -13  -74  -64  -32    0    0    0    0    0    0\n",
      "    0    0 -163 -211  -63  -55 -129  -64  -16  -11   -4    0    3   12\n",
      "    6    8    9    6    5    6    9    5    3    3    1    1    3    8\n",
      "    2    4    0    1    0   -1   -4   -2  -14  -33  -64 -174    0    0\n",
      "    0    0    0    0    0    0    0    0    0    0    0    0    0    0\n",
      "  -39  -98  -27  -13  -14   -8  -19  -26   -8    1    0    0   -1    0\n",
      "    7   -3    3    0    8    1    6    4    2   -1    3    4   -3    0\n",
      "    4    1    7    4    6    2    3    5    0    8   -9   -2    7   -6\n",
      "    8  -12  -23  -18  -11  -24   -8  -14  -34  -24  -18  -47    9  -80]\n",
      "[-141. -190.  315.  337.  376.  514.  591.  581.  576.  536.  490.  456.\n",
      "  425.  393.  366.  335.  314.  288.  267.  246.  214.  193.  171.  142.\n",
      "  115.  107.  100.   86.   81.   76.   76.   65.   59.   62.   54.   43.\n",
      "   29.   26.   14.  -20.    0.   19.   26.  -16.    7.   17.    9.    9.\n",
      "    7.  -15.  -12.    0.   13.   10.   10.    5.    4.  -14.  -20.  -26.\n",
      "  -22.  -65. -213. -100.  -28.  -16.   -4.    2.    1.    4.    4.    1.\n",
      "    1.    0.    5.   -3.   -5.   -3.  -15.  -42. -225. -253. -141. -150.\n",
      "  -53.  -19.  -12.  -12.  -11.  -21.  -10.  -12.    0.   -2.   -1.   -3.\n",
      "   -2.   11.    4.    1.    2.    3.  -13.  -74.  -64.  -32.    0.    0.\n",
      "    0.    0.    0.    0.    0.    0. -163. -211.  -63.  -55. -129.  -64.\n",
      "  -16.  -11.   -4.    0.    3.   12.    6.    8.    9.    6.    5.    6.\n",
      "    9.    5.    3.    3.    1.    1.    3.    8.    2.    4.    0.    1.\n",
      "    0.   -1.   -4.   -2.  -14.  -33.  -64. -174.    0.    0.    0.    0.\n",
      "    0.    0.    0.    0.    0.    0.    0.    0.    0.    0.    0.    0.\n",
      "  -39.  -98.  -27.  -13.  -14.   -8.  -19.  -26.   -8.    1.    0.    0.\n",
      "   -1.    0.    7.   -3.    3.    0.    8.    1.    6.    4.    2.   -1.\n",
      "    3.    4.   -3.    0.    4.    1.    7.    4.    6.    2.    3.    5.\n",
      "    0.    8.   -9.   -2.    7.   -6.    8.  -12.  -23.  -18.  -11.  -24.\n",
      "   -8.  -14.  -34.  -24.  -18.  -47.    9.  -80.]\n",
      "[-260 -549  309  398  440  582  667  683  641  612  589  541  508  477\n",
      "  461  443  436  418  404  383  370  363  365  364  361  351  343  346\n",
      "  347  351  349  347  335  337  340  337  335  335  332  314  296  293\n",
      "  296  293  313  322  317  323  328  323  305  299  304  296  289  278\n",
      "  267  221  181  153  134   23  -98    2   83  102  122  146  167  179\n",
      "  188  197  208  211  211  195  166  137  102   48 -174 -196  -89  -81\n",
      "   -1   39   57   58   79   72   89   97   97  102  101  105  106  132\n",
      "  106   90   86   74   65   20   18   10    0    0    0    0    0    0\n",
      "    0    0 -151 -185  -85   10  -30  -20   11   40   48   53   59   51\n",
      "   67   75   72   77   78   74   78   83   86   78   78   75   84   84\n",
      "   91   94   84   83   75   59   59   54   44   38    5   -6    0    0\n",
      "    0    0    0    0    0    0    0    0    0    0    0    0    0    0\n",
      "  -14    8    7   25   28   31   27   52   60   64   68   80   73   81\n",
      "   83   82   83   83   80   82   79   88   90   81   85   88   86   87\n",
      "   79   89   87   77   95   93   93   85   84   95   70   55   76   59\n",
      "   58   39   48   26   -1    7   21  -20   -2   22   -1   31  -20  -23]\n",
      "[-260. -549.  309.  398.  440.  582.  667.  683.  641.  612.  589.  541.\n",
      "  508.  477.  461.  443.  436.  418.  404.  383.  370.  363.  365.  364.\n",
      "  361.  351.  343.  346.  347.  351.  349.  347.  335.  337.  340.  337.\n",
      "  335.  335.  332.  314.  296.  293.  296.  293.  313.  322.  317.  323.\n",
      "  328.  323.  305.  299.  304.  296.  289.  278.  267.  221.  181.  153.\n",
      "  134.   23.  -98.    2.   83.  102.  122.  146.  167.  179.  188.  197.\n",
      "  208.  211.  211.  195.  166.  137.  102.   48. -174. -196.  -89.  -81.\n",
      "   -1.   39.   57.   58.   79.   72.   89.   97.   97.  102.  101.  105.\n",
      "  106.  132.  106.   90.   86.   74.   65.   20.   18.   10.    0.    0.\n",
      "    0.    0.    0.    0.    0.    0. -151. -185.  -85.   10.  -30.  -20.\n",
      "   11.   40.   48.   53.   59.   51.   67.   75.   72.   77.   78.   74.\n",
      "   78.   83.   86.   78.   78.   75.   84.   84.   91.   94.   84.   83.\n",
      "   75.   59.   59.   54.   44.   38.    5.   -6.    0.    0.    0.    0.\n",
      "    0.    0.    0.    0.    0.    0.    0.    0.    0.    0.    0.    0.\n",
      "  -14.    8.    7.   25.   28.   31.   27.   52.   60.   64.   68.   80.\n",
      "   73.   81.   83.   82.   83.   83.   80.   82.   79.   88.   90.   81.\n",
      "   85.   88.   86.   87.   79.   89.   87.   77.   95.   93.   93.   85.\n",
      "   84.   95.   70.   55.   76.   59.   58.   39.   48.   26.   -1.    7.\n",
      "   21.  -20.   -2.   22.   -1.   31.  -20.  -23.]\n"
     ]
    }
   ],
   "source": [
    "i =1\n",
    "half_patch = patch_size // 2\n",
    "print(hsi_.img[indices_0[i][0]][indices_0[i][1]])\n",
    "print(selected_patch_0[i][half_patch][half_patch])\n",
    "\n",
    "print(hsi_.img[indices_1[i][0]][indices_1[i][1]])\n",
    "print(selected_patch_1[i][half_patch][half_patch])\n",
    "i =4\n",
    "half_patch = patch_size // 2\n",
    "print(hsi_.img[indices_0[i][0]][indices_0[i][1]])\n",
    "print(selected_patch_0[i][half_patch][half_patch])\n",
    "\n",
    "print(hsi_.img[indices_1[i][0]][indices_1[i][1]])\n",
    "print(selected_patch_1[i][half_patch][half_patch])"
   ]
  },
  {
   "cell_type": "code",
   "execution_count": null,
   "id": "bd9ccef5",
   "metadata": {},
   "outputs": [
    {
     "name": "stdout",
     "output_type": "stream",
     "text": [
      "hasil augmentasi 1 shape: (20, 9, 9, 224)\n",
      "label augmentai 1 shape: (20,)\n",
      "hasil augmentasi 2 shape: (20, 9, 9, 224)\n",
      "label augmentasi 2 shape: (20,)\n",
      "[0 0 0 0 0 0 0 0 0 0 1 1 1 1 1 1 1 1 1 1]\n",
      "[0 0 0 0 0 0 0 0 0 0 1 1 1 1 1 1 1 1 1 1]\n",
      "hasil augmentasi gabungan untuk training: (40, 9, 9, 224)\n",
      "label augmentasi gabungan: (40,)\n",
      "Element 0 occurs 20 times.\n",
      "Element 1 occurs 20 times.\n"
     ]
    }
   ],
   "source": [
    "n_category = 2\n",
    "band_size = 224\n",
    "\n",
    "data_augment1, label_augment1 = aug.Augment_data(x_train, y_train, n_category, patch_size, band_size, num_per_category_augment_1)\n",
    "\n",
    "data_augment2, label_augment2 = aug.Augment_data2(x_train, y_train, n_category, patch_size, band_size, num_per_category_augment_2)\n",
    "\n",
    "print(f\"hasil augmentasi 1 shape: {data_augment1.shape}\")\n",
    "print(f\"label augmentai 1 shape: {label_augment1.shape}\")\n",
    "\n",
    "print(f\"hasil augmentasi 2 shape: {data_augment2.shape}\")\n",
    "print(f\"label augmentasi 2 shape: {label_augment2.shape}\")\n",
    "\n",
    "print(label_augment1)\n",
    "print(label_augment2)\n",
    "\n",
    "# # Count occurrences of each unique element\n",
    "# counts1 = np.bincount(label_augment1)\n",
    "\n",
    "# # Print results\n",
    "# for i, count in enumerate(counts1):\n",
    "#     print(f\"Element {i} occurs {count} times.\")\n",
    "\n",
    "# counts2 = np.bincount(label_augment2)\n",
    "\n",
    "# # Print results\n",
    "# for i, count in enumerate(counts2):\n",
    "#     print(f\"Element {i} occurs {count} times.\")\n",
    "\n",
    "# print(label_augment1[3])\n",
    "\n",
    "data_augment = np.concatenate((data_augment1, data_augment2))\n",
    "label_augment = np.concatenate((label_augment1, label_augment2))\n",
    "\n",
    "print(f\"hasil augmentasi gabungan untuk training: {data_augment.shape}\")\n",
    "print(f\"label augmentasi gabungan: {label_augment.shape}\")\n",
    "\n",
    "# print(label_augment)\n",
    "\n",
    "# Count occurrences of each unique element\n",
    "counts = np.bincount(label_augment)\n",
    "\n",
    "# Print results\n",
    "for i, count in enumerate(counts):\n",
    "    print(f\"Element {i} occurs {count} times.\")"
   ]
  },
  {
   "cell_type": "code",
   "execution_count": null,
   "id": "e1e55134",
   "metadata": {},
   "outputs": [],
   "source": [
    "class ConvTo1D(nn.Module):\n",
    "    def __init__(self):\n",
    "        super(ConvTo1D, self).__init__()\n",
    "        self.conv1 = nn.Conv2d(in_channels=224, out_channels=64, kernel_size=3, padding=1)\n",
    "        self.conv2 = nn.Conv2d(64, 128, kernel_size=3, padding=1)\n",
    "        self.pool = nn.AdaptiveAvgPool2d((1, 1))  # (batch_size, 128, 1, 1)\n",
    "        self.flatten = nn.Flatten()               # (batch_size, 128)\n",
    "\n",
    "    def forward(self, x):\n",
    "        x = F.relu(self.conv1(x))\n",
    "        x = F.relu(self.conv2(x))\n",
    "        x = self.pool(x)\n",
    "        x = self.flatten(x)\n",
    "        return x\n",
    "\n",
    "feature_extractor = ConvTo1D()"
   ]
  },
  {
   "cell_type": "code",
   "execution_count": 10,
   "id": "59567562",
   "metadata": {},
   "outputs": [
    {
     "name": "stdout",
     "output_type": "stream",
     "text": [
      "(40, 9, 9, 224)\n",
      "(40,)\n",
      "X_train shape: torch.Size([40, 224, 9, 9])\n",
      "(40, 128)\n"
     ]
    }
   ],
   "source": [
    "print(data_augment.shape)\n",
    "print(label_augment.shape)\n",
    "\n",
    "x_data = data_augment \n",
    "y_labels = label_augment\n",
    "\n",
    "x_data = torch.tensor(x_data)\n",
    "x_data = x_data.to(torch.float32)\n",
    "x_data = x_data.permute(0, 3, 1, 2)\n",
    "print(f\"X_train shape: {x_data.shape}\")\n",
    "\n",
    "feature_extractor = ConvTo1D()\n",
    "with torch.no_grad():  # No gradient needed for feature extraction\n",
    "    features = feature_extractor(x_data)  # (100, 128)\n",
    "    features_np = features.numpy() \n",
    "\n",
    "    \n",
    "\n",
    "print(features_np.shape)"
   ]
  },
  {
   "cell_type": "code",
   "execution_count": null,
   "id": "6e6cab40",
   "metadata": {},
   "outputs": [
    {
     "name": "stdout",
     "output_type": "stream",
     "text": [
      "[0 1 0 0 0 0 1 1 0 1 0 1 1 0 1 0 0 1 0 1]\n",
      "[1 1 1 0 0 1 1 0 1 0 0 0 1 1 1 0 1 0 0 1]\n"
     ]
    }
   ],
   "source": [
    "X = features_np\n",
    "y = y_labels\n",
    "X_train, X_val, y_train, y_val = train_test_split(X, y, test_size=test_size, random_state=42)\n",
    "\n",
    "print(y_train)\n",
    "print(y_val)"
   ]
  },
  {
   "cell_type": "code",
   "execution_count": null,
   "id": "2b654b8e",
   "metadata": {},
   "outputs": [
    {
     "name": "stdout",
     "output_type": "stream",
     "text": [
      "Sample 0: Predicted = 1, Prob(class 1) = 0.9318\n",
      "Sample 1: Predicted = 1, Prob(class 1) = 0.9716\n",
      "Sample 2: Predicted = 1, Prob(class 1) = 0.8667\n",
      "Sample 3: Predicted = 0, Prob(class 1) = 0.0483\n",
      "Sample 4: Predicted = 0, Prob(class 1) = 0.1200\n",
      "Sample 5: Predicted = 1, Prob(class 1) = 0.9116\n",
      "Sample 6: Predicted = 1, Prob(class 1) = 0.9609\n",
      "Sample 7: Predicted = 0, Prob(class 1) = 0.0471\n",
      "Sample 8: Predicted = 1, Prob(class 1) = 0.9169\n",
      "Sample 9: Predicted = 0, Prob(class 1) = 0.0480\n",
      "Sample 10: Predicted = 0, Prob(class 1) = 0.1231\n",
      "Sample 11: Predicted = 0, Prob(class 1) = 0.0733\n",
      "Sample 12: Predicted = 1, Prob(class 1) = 0.9037\n",
      "Sample 13: Predicted = 1, Prob(class 1) = 0.9472\n",
      "Sample 14: Predicted = 1, Prob(class 1) = 0.8306\n",
      "Sample 15: Predicted = 0, Prob(class 1) = 0.0730\n",
      "Sample 16: Predicted = 1, Prob(class 1) = 0.9627\n",
      "Sample 17: Predicted = 0, Prob(class 1) = 0.1196\n",
      "Sample 18: Predicted = 0, Prob(class 1) = 0.1083\n",
      "Sample 19: Predicted = 1, Prob(class 1) = 0.9333\n",
      "Validation Accuracy: 1.0000\n"
     ]
    }
   ],
   "source": [
    "# --- Train SVM with probability enabled and deterministic behavior ---\n",
    "pipeline = make_pipeline(\n",
    "    StandardScaler(),\n",
    "    SVC(kernel='linear', probability=True, random_state=42)\n",
    ")\n",
    "pipeline.fit(X_train, y_train)\n",
    "\n",
    "# --- Evaluate on validation set ---\n",
    "predicted_classes = pipeline.predict(X_val)\n",
    "probs = pipeline.predict_proba(X_val)\n",
    "positive_probs = probs[:, 1]  # probability of class 1\n",
    "\n",
    "# Combine both into a display\n",
    "for i, (pred, prob) in enumerate(zip(predicted_classes, positive_probs)):\n",
    "    print(f\"Sample {i}: Predicted = {pred}, Prob(class 1) = {prob:.4f}\")\n",
    "\n",
    "# y_pred = svm.predict(X_val)\n",
    "acc = accuracy_score(y_val, predicted_classes)\n",
    "print(f\"Validation Accuracy: {acc:.4f}\")\n",
    "\n",
    "# print(\"Classification Report:\")\n",
    "# print(classification_report(y_val, y_pred))\n",
    "\n",
    "# print(y_pred)"
   ]
  },
  {
   "cell_type": "code",
   "execution_count": 13,
   "id": "826fa9ed",
   "metadata": {},
   "outputs": [],
   "source": [
    "def testWithWholeDataset(n): \n",
    "    hsi_test = datasets[n]\n",
    "\n",
    "    test_img = hsi_test.img\n",
    "    gt= hsi_test.gt\n",
    "\n",
    "    patch_size = 9\n",
    "    half_patch = patch_size // 2\n",
    "\n",
    "    height = test_img.shape[0]\n",
    "    width = test_img.shape[1]\n",
    "\n",
    "    matrix=zeroPadding.zeroPadding_3D(test_img,half_patch) #add 0 in every side of the data\n",
    "    print(f\"img shape: {test_img.shape}\")\n",
    "    print(f\"img shape after padding {matrix.shape}\")\n",
    "    print(f\"number of pixel {width * height}\")\n",
    "\n",
    "    print(f\"ground truth shape: {gt.shape}\")\n",
    "\n",
    "    indices0 = np.argwhere(gt == 0)\n",
    "    indices1 = np.argwhere(gt == 1)\n",
    "\n",
    "    print(f\"indices = 0 shape: {indices0.shape}\")\n",
    "    print(f\"indices = 1 shape: {indices1.shape}\")\n",
    "\n",
    "    return matrix, gt, indices0.shape, indices1.shape"
   ]
  },
  {
   "cell_type": "code",
   "execution_count": 14,
   "id": "ae3cdd69",
   "metadata": {},
   "outputs": [],
   "source": [
    "def predict_batch_whole(model, feature_extractor, batch_input, device):\n",
    "    with torch.no_grad():  # Disable gradient computation\n",
    "        test_features = feature_extractor(batch_input)  # shape: (10, 128)\n",
    "        test_features_np = test_features.numpy()     # convert to NumPy\n",
    "\n",
    "  # --- Evaluate on validation set ---\n",
    "    predicted_classes = pipeline.predict(test_features_np)\n",
    "    probs = pipeline.predict_proba(test_features_np)\n",
    "    positive_probs = probs[:, 1]  # probability of class 1\n",
    "\n",
    "    return predicted_classes, positive_probs\n",
    "   "
   ]
  },
  {
   "cell_type": "code",
   "execution_count": null,
   "id": "efc6afa9",
   "metadata": {},
   "outputs": [],
   "source": [
    "class PatchDataset(Dataset):\n",
    "    def __init__(self, matrix, gt, half_patch, expected_shape):\n",
    "        self.matrix = matrix\n",
    "        self.gt = gt\n",
    "        self.half_patch = half_patch\n",
    "        self.expected_shape = expected_shape\n",
    "        self.size_x, self.size_y = matrix.shape[0], matrix.shape[1]\n",
    "        self.valid_coords = [\n",
    "            (x, y)\n",
    "            for x in range(half_patch, self.size_x - half_patch)\n",
    "            for y in range(half_patch, self.size_y - half_patch)\n",
    "        ]\n",
    "\n",
    "    def __len__(self):\n",
    "        return len(self.valid_coords)\n",
    "\n",
    "    def __getitem__(self, idx):\n",
    "        x, y = self.valid_coords[idx]\n",
    "        true_label = self.gt[x - self.half_patch, y - self.half_patch]\n",
    "\n",
    "        selected_rows = self.matrix[x- self.half_patch:x + 2 * self.half_patch + 1 - self.half_patch, :]\n",
    "        testing_patch = selected_rows[:, y - self.half_patch:y + 2 * self.half_patch + 1 - self.half_patch]\n",
    "\n",
    "        # Verify patch size\n",
    "        if testing_patch.shape != self.expected_shape:\n",
    "            raise ValueError(f\"Patch at ({x},{y}) has wrong shape {testing_patch.shape}\")\n",
    "\n",
    "        patch_tensor = torch.tensor(testing_patch, dtype=torch.float32)\n",
    "        patch_tensor = patch_tensor.permute(2, 0, 1)  # (C, H, W)\n",
    "\n",
    "        return patch_tensor, true_label, x, y  # Also return (x, y) for positioning later"
   ]
  },
  {
   "cell_type": "code",
   "execution_count": 17,
   "id": "e707b287",
   "metadata": {},
   "outputs": [
    {
     "name": "stdout",
     "output_type": "stream",
     "text": [
      "img shape: (1243, 684, 224)\n",
      "img shape after padding (1251, 692, 224)\n",
      "number of pixel 850212\n",
      "ground truth shape: (1243, 684)\n",
      "indices = 0 shape: (820876, 2)\n",
      "indices = 1 shape: (29336, 2)\n",
      "820876\n",
      "29336\n",
      "generate data loader using seed\n",
      "torch.Size([64, 224, 9, 9])\n",
      "torch.Size([64])\n",
      "data loader size: 13285\n"
     ]
    },
    {
     "name": "stderr",
     "output_type": "stream",
     "text": [
      "Predicting: 100%|██████████| 13285/13285 [12:25<00:00, 17.82it/s]\n"
     ]
    },
    {
     "name": "stdout",
     "output_type": "stream",
     "text": [
      "correct0 = 786629\n",
      "correct1 = 19328\n",
      "Score: 805957/850212\n",
      "{'dataset': 0, 'class0_size': 820876, 'class1_size': 29336, 'correct_0': 786629, 'correct_1': 19328, 'correct_total': 805957, 'total': 850212}\n",
      "img shape: (1786, 699, 224)\n",
      "img shape after padding (1794, 707, 224)\n",
      "number of pixel 1248414\n",
      "ground truth shape: (1786, 699)\n",
      "indices = 0 shape: (1236269, 2)\n",
      "indices = 1 shape: (12145, 2)\n",
      "1236269\n",
      "12145\n",
      "generate data loader using seed\n",
      "torch.Size([64, 224, 9, 9])\n",
      "torch.Size([64])\n",
      "data loader size: 19507\n"
     ]
    },
    {
     "name": "stderr",
     "output_type": "stream",
     "text": [
      "Predicting: 100%|██████████| 19507/19507 [15:40<00:00, 20.75it/s]\n"
     ]
    },
    {
     "name": "stdout",
     "output_type": "stream",
     "text": [
      "correct0 = 298373\n",
      "correct1 = 12119\n",
      "Score: 310492/1248414\n",
      "{'dataset': 1, 'class0_size': 1236269, 'class1_size': 12145, 'correct_0': 298373, 'correct_1': 12119, 'correct_total': 310492, 'total': 1248414}\n",
      "img shape: (1386, 690, 224)\n",
      "img shape after padding (1394, 698, 224)\n",
      "number of pixel 956340\n",
      "ground truth shape: (1386, 690)\n",
      "indices = 0 shape: (916980, 2)\n",
      "indices = 1 shape: (39360, 2)\n",
      "916980\n",
      "39360\n",
      "generate data loader using seed\n",
      "torch.Size([64, 224, 9, 9])\n",
      "torch.Size([64])\n",
      "data loader size: 14943\n"
     ]
    },
    {
     "name": "stderr",
     "output_type": "stream",
     "text": [
      "Predicting: 100%|██████████| 14943/14943 [12:09<00:00, 20.49it/s]\n"
     ]
    },
    {
     "name": "stdout",
     "output_type": "stream",
     "text": [
      "correct0 = 814729\n",
      "correct1 = 38255\n",
      "Score: 852984/956340\n",
      "{'dataset': 2, 'class0_size': 916980, 'class1_size': 39360, 'correct_0': 814729, 'correct_1': 38255, 'correct_total': 852984, 'total': 956340}\n",
      "img shape: (1466, 676, 224)\n",
      "img shape after padding (1474, 684, 224)\n",
      "number of pixel 991016\n",
      "ground truth shape: (1466, 676)\n",
      "indices = 0 shape: (959167, 2)\n",
      "indices = 1 shape: (31849, 2)\n",
      "959167\n",
      "31849\n",
      "generate data loader using seed\n",
      "torch.Size([64, 224, 9, 9])\n",
      "torch.Size([64])\n",
      "data loader size: 15485\n"
     ]
    },
    {
     "name": "stderr",
     "output_type": "stream",
     "text": [
      "Predicting: 100%|██████████| 15485/15485 [12:13<00:00, 21.10it/s]\n"
     ]
    },
    {
     "name": "stdout",
     "output_type": "stream",
     "text": [
      "correct0 = 859820\n",
      "correct1 = 31165\n",
      "Score: 890985/991016\n",
      "{'dataset': 3, 'class0_size': 959167, 'class1_size': 31849, 'correct_0': 859820, 'correct_1': 31165, 'correct_total': 890985, 'total': 991016}\n",
      "img shape: (2085, 682, 224)\n",
      "img shape after padding (2093, 690, 224)\n",
      "number of pixel 1421970\n",
      "ground truth shape: (2085, 682)\n",
      "indices = 0 shape: (1363408, 2)\n",
      "indices = 1 shape: (58562, 2)\n",
      "1363408\n",
      "58562\n",
      "generate data loader using seed\n",
      "torch.Size([64, 224, 9, 9])\n",
      "torch.Size([64])\n",
      "data loader size: 22219\n"
     ]
    },
    {
     "name": "stderr",
     "output_type": "stream",
     "text": [
      "Predicting: 100%|██████████| 22219/22219 [18:06<00:00, 20.45it/s]\n"
     ]
    },
    {
     "name": "stdout",
     "output_type": "stream",
     "text": [
      "correct0 = 1278802\n",
      "correct1 = 52574\n",
      "Score: 1331376/1421970\n",
      "{'dataset': 4, 'class0_size': 1363408, 'class1_size': 58562, 'correct_0': 1278802, 'correct_1': 52574, 'correct_total': 1331376, 'total': 1421970}\n",
      "img shape: (2088, 691, 224)\n",
      "img shape after padding (2096, 699, 224)\n",
      "number of pixel 1442808\n",
      "ground truth shape: (2088, 691)\n",
      "indices = 0 shape: (1389552, 2)\n",
      "indices = 1 shape: (53256, 2)\n",
      "1389552\n",
      "53256\n",
      "generate data loader using seed\n",
      "torch.Size([64, 224, 9, 9])\n",
      "torch.Size([64])\n",
      "data loader size: 22544\n"
     ]
    },
    {
     "name": "stderr",
     "output_type": "stream",
     "text": [
      "Predicting: 100%|██████████| 22544/22544 [17:49<00:00, 21.09it/s]\n"
     ]
    },
    {
     "name": "stdout",
     "output_type": "stream",
     "text": [
      "correct0 = 1328048\n",
      "correct1 = 36191\n",
      "Score: 1364239/1442808\n",
      "{'dataset': 5, 'class0_size': 1389552, 'class1_size': 53256, 'correct_0': 1328048, 'correct_1': 36191, 'correct_total': 1364239, 'total': 1442808}\n",
      "img shape: (1965, 492, 224)\n",
      "img shape after padding (1973, 500, 224)\n",
      "number of pixel 966780\n",
      "ground truth shape: (1965, 492)\n",
      "indices = 0 shape: (873365, 2)\n",
      "indices = 1 shape: (93415, 2)\n",
      "873365\n",
      "93415\n",
      "generate data loader using seed\n",
      "torch.Size([64, 224, 9, 9])\n",
      "torch.Size([64])\n",
      "data loader size: 15106\n"
     ]
    },
    {
     "name": "stderr",
     "output_type": "stream",
     "text": [
      "Predicting: 100%|██████████| 15106/15106 [12:13<00:00, 20.60it/s]\n"
     ]
    },
    {
     "name": "stdout",
     "output_type": "stream",
     "text": [
      "correct0 = 867620\n",
      "correct1 = 1005\n",
      "Score: 868625/966780\n",
      "{'dataset': 6, 'class0_size': 873365, 'class1_size': 93415, 'correct_0': 867620, 'correct_1': 1005, 'correct_total': 868625, 'total': 966780}\n",
      "img shape: (1532, 567, 224)\n",
      "img shape after padding (1540, 575, 224)\n",
      "number of pixel 868644\n",
      "ground truth shape: (1532, 567)\n",
      "indices = 0 shape: (824964, 2)\n",
      "indices = 1 shape: (43680, 2)\n",
      "824964\n",
      "43680\n",
      "generate data loader using seed\n",
      "torch.Size([64, 224, 9, 9])\n",
      "torch.Size([64])\n",
      "data loader size: 13573\n"
     ]
    },
    {
     "name": "stderr",
     "output_type": "stream",
     "text": [
      "Predicting: 100%|██████████| 13573/13573 [10:38<00:00, 21.26it/s]\n"
     ]
    },
    {
     "name": "stdout",
     "output_type": "stream",
     "text": [
      "correct0 = 820481\n",
      "correct1 = 353\n",
      "Score: 820834/868644\n",
      "{'dataset': 7, 'class0_size': 824964, 'class1_size': 43680, 'correct_0': 820481, 'correct_1': 353, 'correct_total': 820834, 'total': 868644}\n",
      "img shape: (1569, 517, 224)\n",
      "img shape after padding (1577, 525, 224)\n",
      "number of pixel 811173\n",
      "ground truth shape: (1569, 517)\n",
      "indices = 0 shape: (742935, 2)\n",
      "indices = 1 shape: (68238, 2)\n",
      "742935\n",
      "68238\n",
      "generate data loader using seed\n",
      "torch.Size([64, 224, 9, 9])\n",
      "torch.Size([64])\n",
      "data loader size: 12675\n"
     ]
    },
    {
     "name": "stderr",
     "output_type": "stream",
     "text": [
      "Predicting: 100%|██████████| 12675/12675 [10:13<00:00, 20.67it/s]\n"
     ]
    },
    {
     "name": "stdout",
     "output_type": "stream",
     "text": [
      "correct0 = 736539\n",
      "correct1 = 538\n",
      "Score: 737077/811173\n",
      "{'dataset': 8, 'class0_size': 742935, 'class1_size': 68238, 'correct_0': 736539, 'correct_1': 538, 'correct_total': 737077, 'total': 811173}\n",
      "img shape: (1084, 680, 224)\n",
      "img shape after padding (1092, 688, 224)\n",
      "number of pixel 737120\n",
      "ground truth shape: (1084, 680)\n",
      "indices = 0 shape: (691437, 2)\n",
      "indices = 1 shape: (45683, 2)\n",
      "691437\n",
      "45683\n",
      "generate data loader using seed\n",
      "torch.Size([64, 224, 9, 9])\n",
      "torch.Size([64])\n",
      "data loader size: 11518\n"
     ]
    },
    {
     "name": "stderr",
     "output_type": "stream",
     "text": [
      "Predicting: 100%|██████████| 11518/11518 [09:16<00:00, 20.72it/s]"
     ]
    },
    {
     "name": "stdout",
     "output_type": "stream",
     "text": [
      "correct0 = 2867\n",
      "correct1 = 45666\n",
      "Score: 48533/737120\n",
      "{'dataset': 9, 'class0_size': 691437, 'class1_size': 45683, 'correct_0': 2867, 'correct_1': 45666, 'correct_total': 48533, 'total': 737120}\n"
     ]
    },
    {
     "name": "stderr",
     "output_type": "stream",
     "text": [
      "\n"
     ]
    }
   ],
   "source": [
    "device = torch.device(\"cuda\" if torch.cuda.is_available() else \"cpu\")\n",
    "\n",
    "scores = []\n",
    "groundtruth = []\n",
    "prediction = []\n",
    "y_probs = []\n",
    "\n",
    "\n",
    "timestamp = datetime.now().strftime('%Y%m%d_%H%M%S')\n",
    "os.makedirs(f\"predictions/SVM/{timestamp}\", exist_ok=True)\n",
    "for dataset in range(len(datasets)):\n",
    "\n",
    "    score = []\n",
    "    patch_size = 9\n",
    "    half_patch = patch_size // 2\n",
    "\n",
    "    data_sampler = None\n",
    "    batch_size = 64\n",
    "\n",
    "    correct0 = 0\n",
    "    correct1 = 0\n",
    "    matrix = []\n",
    "    gt = []\n",
    "    expected_patch_shape = []\n",
    "    dataset_patches = []\n",
    "    data_loader = []\n",
    "    patch_tensor = []\n",
    "    true_label = [] \n",
    "    x = []\n",
    "    y = []\n",
    "    pred_matrix = []\n",
    "\n",
    "    matrix, gt, indices_0_shape, indices_1_shape = testWithWholeDataset(dataset)\n",
    "    print(indices_0_shape[0])\n",
    "    print(indices_1_shape[0])\n",
    "\n",
    "    expected_patch_shape = (2 * half_patch + 1, 2 * half_patch + 1, matrix.shape[2])\n",
    "    dataset_patches = PatchDataset(matrix, gt, half_patch, expected_patch_shape)\n",
    "\n",
    "    if seeded_run:\n",
    "        g = torch.Generator()\n",
    "        g.manual_seed(42)\n",
    "\n",
    "        data_loader = DataLoader(\n",
    "            dataset_patches,\n",
    "            batch_size=batch_size,\n",
    "            shuffle=False,  # set to True if needed\n",
    "            num_workers=0,\n",
    "            pin_memory=True,\n",
    "            drop_last=False,\n",
    "            generator=g\n",
    "        )\n",
    "        print(\"generate data loader using seed\")\n",
    "    else:\n",
    "        data_loader = DataLoader(dataset_patches, batch_size=batch_size, shuffle=False, num_workers=0, pin_memory=True, drop_last=False)\n",
    "\n",
    "\n",
    "\n",
    "\n",
    "    patch_tensor, true_label, x, y = next(iter(data_loader))\n",
    "\n",
    "    print(patch_tensor.size())\n",
    "    print(true_label.size())\n",
    "    print(f\"data loader size: {len(data_loader)}\")\n",
    "\n",
    "    pred_matrix = np.full(gt.shape, -1, dtype=np.int32)\n",
    "    correct = 0\n",
    "\n",
    "    for input_batch, label_batch, x_batch, y_batch in tqdm(data_loader, desc=\"Predicting\"):\n",
    "\n",
    "\n",
    "        preds, confs = predict_batch_whole(pipeline, feature_extractor, input_batch, device)\n",
    "\n",
    "        prediction.append(preds)\n",
    "        y_probs.append(confs)\n",
    "        \n",
    "        label_batch = label_batch.numpy()\n",
    "        x_batch = x_batch.numpy()\n",
    "        y_batch = y_batch.numpy()\n",
    "\n",
    "        for pred, label, x, y in zip(preds, label_batch, x_batch, y_batch):\n",
    "            groundtruth.append(label)\n",
    "            pred_matrix[x - half_patch, y - half_patch] = pred\n",
    "            if pred == label:\n",
    "                if label == 0:\n",
    "                    correct0 += 1\n",
    "                elif label == 1:\n",
    "                    correct1 += 1\n",
    "                \n",
    "    correct = correct0+correct1\n",
    "    print(f\"correct0 = {correct0}\")\n",
    "    print(f\"correct1 = {correct1}\")\n",
    "    total = gt.shape[0] * gt.shape[1]\n",
    "    print(f\"Score: {correct}/{total}\")\n",
    "\n",
    "    score = {\n",
    "        'dataset': dataset,\n",
    "        'class0_size': indices_0_shape[0],\n",
    "        'class1_size': indices_1_shape[0],\n",
    "        'correct_0': correct0,\n",
    "        'correct_1': correct1,\n",
    "        'correct_total': correct,\n",
    "        'total': total\n",
    "    }\n",
    "    print(score)\n",
    "    scores.append(score)\n",
    "    # Save prediction matrix\n",
    "    # timestamp = datetime.now().strftime('%Y%m%d_%H%M%S')\n",
    "    np.save(f\"predictions/SVM/{timestamp}/results {dataset} SVM.npy\", pred_matrix)"
   ]
  },
  {
   "cell_type": "code",
   "execution_count": 18,
   "id": "1f93559e",
   "metadata": {},
   "outputs": [
    {
     "name": "stdout",
     "output_type": "stream",
     "text": [
      "dataset: 0\t 786629/820876\t 19328/29336\t 805957/850212\t\n",
      "dataset: 1\t 298373/1236269\t 12119/12145\t 310492/1248414\t\n",
      "dataset: 2\t 814729/916980\t 38255/39360\t 852984/956340\t\n",
      "dataset: 3\t 859820/959167\t 31165/31849\t 890985/991016\t\n",
      "dataset: 4\t 1278802/1363408\t 52574/58562\t 1331376/1421970\t\n",
      "dataset: 5\t 1328048/1389552\t 36191/53256\t 1364239/1442808\t\n",
      "dataset: 6\t 867620/873365\t 1005/93415\t 868625/966780\t\n",
      "dataset: 7\t 820481/824964\t 353/43680\t 820834/868644\t\n",
      "dataset: 8\t 736539/742935\t 538/68238\t 737077/811173\t\n",
      "dataset: 9\t 2867/691437\t 45666/45683\t 48533/737120\t\n",
      "total: \t\t 7793908/4909476.5 \t 237194/237762.0 \t 8031102/10294477\n",
      "acc: 0.7801369608188935\n"
     ]
    }
   ],
   "source": [
    "all_correct = 0\n",
    "all_total = 0\n",
    "all_correct0 = 0\n",
    "all_correct1 = 0\n",
    "class0_total = 0\n",
    "class1_total = 0\n",
    "\n",
    "for score in scores:\n",
    "    dataset = score['dataset']\n",
    "    correct0 = score['correct_0']\n",
    "    correct1 = score['correct_1']\n",
    "    class0_size = score['class0_size']\n",
    "    class1_size = score['class1_size']\n",
    "    correct = score['correct_total']\n",
    "    total = score['total']\n",
    "    print(f\"dataset: {dataset}\\t\", f'{correct0}/{class0_size}\\t', f'{correct1}/{class1_size}\\t', f'{correct}/{total}\\t')\n",
    "\n",
    "    all_correct += correct\n",
    "    all_total += total\n",
    "    all_correct0 += correct0\n",
    "    all_correct1 += correct1\n",
    "    class0_total += class0_size\n",
    "    class1_total += class1_size\n",
    "\n",
    "\n",
    "\n",
    "print(f\"total: \\t\\t {all_correct0}/{class0_total/2} \\t {all_correct1}/{class1_total/2} \\t {all_correct}/{all_total}\")\n",
    "\n",
    "print(f\"acc: {all_correct/all_total}\")\n",
    "\n"
   ]
  },
  {
   "cell_type": "code",
   "execution_count": 19,
   "id": "cb3a7b9b",
   "metadata": {},
   "outputs": [],
   "source": [
    "\n",
    "all_total_score = {\n",
    "    'dataset': 'Total Dataset',\n",
    "    'correct_0': all_correct0,\n",
    "    'correct_1': all_correct1,\n",
    "    'class0_total': class0_total,\n",
    "    'class1_total': class1_total,\n",
    "    'correct_total': all_correct,\n",
    "    'total': all_total\n",
    "}\n",
    "\n",
    "scores.append(all_total_score)"
   ]
  },
  {
   "cell_type": "code",
   "execution_count": 20,
   "id": "cee05689",
   "metadata": {},
   "outputs": [
    {
     "name": "stdout",
     "output_type": "stream",
     "text": [
      "10294477\n",
      "10294477\n",
      "10294477\n"
     ]
    }
   ],
   "source": [
    "groundtruths = groundtruth\n",
    "groundtruth_in = []\n",
    "\n",
    "for x in groundtruths:\n",
    "    groundtruth_in.append(x)\n",
    "\n",
    "predictions = prediction\n",
    "prediction_in = []\n",
    "\n",
    "for x in predictions:\n",
    "    for y in x:\n",
    "        prediction_in.append(y)\n",
    "\n",
    "\n",
    "y_prob_in = []\n",
    "\n",
    "for x in y_probs:\n",
    "    for y in x:\n",
    "        y_prob_in.append(y)\n",
    "\n",
    "print(len(groundtruth_in))\n",
    "print(len(prediction_in))\n",
    "print(len(y_prob_in))"
   ]
  },
  {
   "cell_type": "code",
   "execution_count": 21,
   "id": "09e42082",
   "metadata": {},
   "outputs": [
    {
     "name": "stdout",
     "output_type": "stream",
     "text": [
      "8031102/10294477\n"
     ]
    }
   ],
   "source": [
    "y_test = groundtruth_in\n",
    "y_pred = prediction_in\n",
    "correct = 0\n",
    "total = 0\n",
    "\n",
    "for x, y in zip(y_test, y_pred):\n",
    "    total += 1\n",
    "    if x == y:\n",
    "        correct += 1\n",
    "\n",
    "print(f'{correct}/{total}')"
   ]
  },
  {
   "cell_type": "code",
   "execution_count": 22,
   "id": "e6b0e2ed",
   "metadata": {},
   "outputs": [
    {
     "name": "stdout",
     "output_type": "stream",
     "text": [
      "Unique values in y_test: [0 1]\n",
      "Sample y_pred values: [np.int64(1), np.int64(1), np.int64(1), np.int64(1), np.int64(1)]\n"
     ]
    }
   ],
   "source": [
    "y_test_np = np.array([label.item() for label in y_test])\n",
    "# Ensure labels are binary (0 and 1)\n",
    "print(\"Unique values in y_test:\", pd.Series(y_test_np).unique())\n",
    "\n",
    "# Check if y_pred is probability (float) or hard prediction (int)\n",
    "print(\"Sample y_pred values:\", y_pred[:5])"
   ]
  },
  {
   "cell_type": "code",
   "execution_count": 23,
   "id": "38e48bba",
   "metadata": {},
   "outputs": [
    {
     "data": {
      "image/png": "[encoded data removed]",
      "text/plain": [
       "<Figure size 700x500 with 1 Axes>"
      ]
     },
     "metadata": {},
     "output_type": "display_data"
    }
   ],
   "source": [
    "\n",
    "\n",
    "test_df = pd.DataFrame(\n",
    "    {'True': y_test_np, 'Model': y_prob_in})\n",
    "\n",
    "plt.figure(figsize=(7, 5))\n",
    "\n",
    "\n",
    "fpr, tpr, _ = roc_curve(test_df['True'], test_df['Model'])\n",
    "roc_auc = auc(fpr, tpr)\n",
    "plt.plot(fpr, tpr, label=f'Model (AUC = {roc_auc:.2f})')\n",
    "\n",
    "plt.plot([0, 1], [0, 1], 'r--', label='Random Guess')\n",
    "\n",
    "plt.xlabel('False Positive Rate')\n",
    "plt.ylabel('True Positive Rate')\n",
    "plt.title('ROC Curves for Two Models')\n",
    "plt.legend()\n",
    "plt.show()"
   ]
  },
  {
   "cell_type": "code",
   "execution_count": 24,
   "id": "6750deae",
   "metadata": {},
   "outputs": [
    {
     "name": "stdout",
     "output_type": "stream",
     "text": [
      "Precision: 0.5376\n",
      "Recall:    0.6463\n",
      "F1 Score:  0.5232\n",
      "OA:        0.7801\n",
      "AA:        0.6463\n"
     ]
    }
   ],
   "source": [
    "\n",
    "\n",
    "y_true = np.array([int(label) for label in y_test_np])  # true labels\n",
    "y_pred = prediction_in                         # predicted class labels (e.g., from predict_batch)\n",
    "\n",
    "# Precision, Recall, F1\n",
    "precision = precision_score(y_true, y_pred, average='macro')  # Use 'binary' if binary task\n",
    "recall = recall_score(y_true, y_pred, average='macro')\n",
    "f1 = f1_score(y_true, y_pred, average='macro')\n",
    "\n",
    "# Overall Accuracy (OA)\n",
    "oa = accuracy_score(y_true, y_pred)\n",
    "\n",
    "# Average Accuracy (AA) — mean of per-class accuracies\n",
    "cm = confusion_matrix(y_true, y_pred)\n",
    "per_class_acc = cm.diagonal() / cm.sum(axis=1)\n",
    "aa = per_class_acc.mean()\n",
    "\n",
    "# Print all metrics\n",
    "print(f\"Precision: {precision:.4f}\")\n",
    "print(f\"Recall:    {recall:.4f}\")\n",
    "print(f\"F1 Score:  {f1:.4f}\")\n",
    "print(f\"OA:        {oa:.4f}\")\n",
    "print(f\"AA:        {aa:.4f}\")"
   ]
  },
  {
   "cell_type": "code",
   "execution_count": 25,
   "id": "63022330",
   "metadata": {},
   "outputs": [],
   "source": [
    "performance = {\n",
    "    'AUC': float(roc_auc),\n",
    "    'precision': float(precision),\n",
    "    'recall': float(recall),\n",
    "    'F1 Score': float(f1),\n",
    "    'OA': float(oa),\n",
    "    'AA': float(aa),\n",
    "}\n",
    "result_json = {\n",
    "    'prediction' : scores,\n",
    "    'performance' : performance,\n",
    "}"
   ]
  },
  {
   "cell_type": "code",
   "execution_count": 26,
   "id": "711abcd2",
   "metadata": {},
   "outputs": [
    {
     "name": "stdout",
     "output_type": "stream",
     "text": [
      "{'prediction': [{'dataset': 0, 'class0_size': 820876, 'class1_size': 29336, 'correct_0': 786629, 'correct_1': 19328, 'correct_total': 805957, 'total': 850212}, {'dataset': 1, 'class0_size': 1236269, 'class1_size': 12145, 'correct_0': 298373, 'correct_1': 12119, 'correct_total': 310492, 'total': 1248414}, {'dataset': 2, 'class0_size': 916980, 'class1_size': 39360, 'correct_0': 814729, 'correct_1': 38255, 'correct_total': 852984, 'total': 956340}, {'dataset': 3, 'class0_size': 959167, 'class1_size': 31849, 'correct_0': 859820, 'correct_1': 31165, 'correct_total': 890985, 'total': 991016}, {'dataset': 4, 'class0_size': 1363408, 'class1_size': 58562, 'correct_0': 1278802, 'correct_1': 52574, 'correct_total': 1331376, 'total': 1421970}, {'dataset': 5, 'class0_size': 1389552, 'class1_size': 53256, 'correct_0': 1328048, 'correct_1': 36191, 'correct_total': 1364239, 'total': 1442808}, {'dataset': 6, 'class0_size': 873365, 'class1_size': 93415, 'correct_0': 867620, 'correct_1': 1005, 'correct_total': 868625, 'total': 966780}, {'dataset': 7, 'class0_size': 824964, 'class1_size': 43680, 'correct_0': 820481, 'correct_1': 353, 'correct_total': 820834, 'total': 868644}, {'dataset': 8, 'class0_size': 742935, 'class1_size': 68238, 'correct_0': 736539, 'correct_1': 538, 'correct_total': 737077, 'total': 811173}, {'dataset': 9, 'class0_size': 691437, 'class1_size': 45683, 'correct_0': 2867, 'correct_1': 45666, 'correct_total': 48533, 'total': 737120}, {'dataset': 'Total Dataset', 'correct_0': 7793908, 'correct_1': 237194, 'class0_total': 9818953, 'class1_total': 475524, 'correct_total': 8031102, 'total': 10294477}], 'performance': {'AUC': 0.623056346211162, 'precision': 0.5375887709200554, 'recall': 0.6462835720725912, 'F1 Score': 0.5232422564617843, 'OA': 0.7801369608188935, 'AA': 0.6462835720725912}}\n",
      "JSON saved to results.json\n"
     ]
    }
   ],
   "source": [
    "# timestamp = datetime.now().strftime('%Y%m%d_%H%M%S')\n",
    "print(result_json)\n",
    "\n",
    "with open(f\"performance/RF {timestamp}_results.json\", \"w\") as f:\n",
    "    json.dump(result_json, f, indent=2)\n",
    "\n",
    "print(\"JSON saved to results.json\")"
   ]
  },
  {
   "cell_type": "code",
   "execution_count": 27,
   "id": "95bcd9fb",
   "metadata": {},
   "outputs": [
    {
     "name": "stdout",
     "output_type": "stream",
     "text": [
      "Run time: 7989.9727 seconds\n"
     ]
    }
   ],
   "source": [
    "end_time = time.time()\n",
    "print(f\"Run time: {end_time - start_time:.4f} seconds\")"
   ]
  }
 ],
 "metadata": {
  "kernelspec": {
   "display_name": "myenv",
   "language": "python",
   "name": "python3"
  },
  "language_info": {
   "codemirror_mode": {
    "name": "ipython",
    "version": 3
   },
   "file_extension": ".py",
   "mimetype": "text/x-python",
   "name": "python",
   "nbconvert_exporter": "python",
   "pygments_lexer": "ipython3",
   "version": "3.12.5"
  }
 },
 "nbformat": 4,
 "nbformat_minor": 5
}
