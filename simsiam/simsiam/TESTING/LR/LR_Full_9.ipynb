{
 "cells": [
  {
   "cell_type": "code",
   "execution_count": 1,
   "id": "8ab9c9cc",
   "metadata": {},
   "outputs": [
    {
     "name": "stdout",
     "output_type": "stream",
     "text": [
      "GPU Available: True\n",
      "GPU Name: NVIDIA GeForce RTX 4080 SUPER\n"
     ]
    }
   ],
   "source": [
    "import os\n",
    "import numpy as np\n",
    "import matplotlib.pyplot as plt\n",
    "import pandas as pd\n",
    "from tqdm import tqdm\n",
    "import time\n",
    "import json\n",
    "from datetime import datetime\n",
    "\n",
    "import torch\n",
    "import torch.nn as nn\n",
    "from torch.utils.data import Dataset, DataLoader\n",
    "import torch.nn.functional as F\n",
    "\n",
    "from sklearn.pipeline import make_pipeline\n",
    "from sklearn.preprocessing import StandardScaler\n",
    "from sklearn.linear_model import LogisticRegression\n",
    "from sklearn.model_selection import train_test_split\n",
    "from sklearn.metrics import precision_score, recall_score, f1_score, accuracy_score, confusion_matrix\n",
    "from sklearn.metrics import roc_curve, auc\n",
    "\n",
    "from HSI_class import HSI\n",
    "import zeroPadding\n",
    "import random\n",
    "import createSample as CS\n",
    "import augmentation as aug\n",
    "\n",
    "start_time = time.time()\n",
    "\n",
    "# Check if GPU is available\n",
    "print(\"GPU Available:\", torch.cuda.is_available())\n",
    "\n",
    "# If available, print the GPU name\n",
    "if torch.cuda.is_available():\n",
    "    print(\"GPU Name:\", torch.cuda.get_device_name(0))\n",
    "\n",
    "seeded_run = True\n",
    "seed = 599\n",
    "\n",
    "sample_per_class = 5\n",
    "num_per_category_augment_1 = 10\n",
    "num_per_category_augment_2 = 10\n",
    "epochs = 200\n",
    "\n",
    "batch_size = 64\n",
    "test_size = 0.5\n",
    "\n",
    "random_indices = 0\n",
    "\n"
   ]
  },
  {
   "cell_type": "code",
   "execution_count": 2,
   "id": "9ff64ce3",
   "metadata": {},
   "outputs": [
    {
     "name": "stdout",
     "output_type": "stream",
     "text": [
      "seed has been set\n",
      "seet used: 599\n"
     ]
    }
   ],
   "source": [
    "def set_seed(seed):\n",
    "    random.seed(seed)\n",
    "    np.random.seed(seed)\n",
    "    torch.manual_seed(seed)\n",
    "    torch.cuda.manual_seed_all(seed)\n",
    "\n",
    "    # PyTorch determinism\n",
    "    torch.backends.cudnn.deterministic = True\n",
    "    torch.backends.cudnn.benchmark = False\n",
    "\n",
    "    os.environ['PYTHONHASHSEED'] = str(seed)\n",
    "\n",
    "if seeded_run:\n",
    "    set_seed(seed)\n",
    "    print(\"seed has been set\")\n",
    "    print(f\"seet used: {seed}\")"
   ]
  },
  {
   "cell_type": "code",
   "execution_count": 3,
   "id": "dff90787",
   "metadata": {},
   "outputs": [
    {
     "name": "stdout",
     "output_type": "stream",
     "text": [
      "Processing file: D:\\FathanAbi\\tugas-akhir-model-deteksi-tumpahan-minyakl\\Hyperspectral oil spill detection datasets\\GM01.mat\n",
      "Processing file: D:\\FathanAbi\\tugas-akhir-model-deteksi-tumpahan-minyakl\\Hyperspectral oil spill detection datasets\\GM02.mat\n",
      "Processing file: D:\\FathanAbi\\tugas-akhir-model-deteksi-tumpahan-minyakl\\Hyperspectral oil spill detection datasets\\GM03.mat\n",
      "Processing file: D:\\FathanAbi\\tugas-akhir-model-deteksi-tumpahan-minyakl\\Hyperspectral oil spill detection datasets\\GM04.mat\n",
      "Processing file: D:\\FathanAbi\\tugas-akhir-model-deteksi-tumpahan-minyakl\\Hyperspectral oil spill detection datasets\\GM05.mat\n",
      "Processing file: D:\\FathanAbi\\tugas-akhir-model-deteksi-tumpahan-minyakl\\Hyperspectral oil spill detection datasets\\GM06.mat\n",
      "Processing file: D:\\FathanAbi\\tugas-akhir-model-deteksi-tumpahan-minyakl\\Hyperspectral oil spill detection datasets\\GM07.mat\n",
      "Processing file: D:\\FathanAbi\\tugas-akhir-model-deteksi-tumpahan-minyakl\\Hyperspectral oil spill detection datasets\\GM08.mat\n",
      "Processing file: D:\\FathanAbi\\tugas-akhir-model-deteksi-tumpahan-minyakl\\Hyperspectral oil spill detection datasets\\GM09.mat\n",
      "Processing file: D:\\FathanAbi\\tugas-akhir-model-deteksi-tumpahan-minyakl\\Hyperspectral oil spill detection datasets\\GM10.mat\n"
     ]
    }
   ],
   "source": [
    "dataset_path = r\"D:\\FathanAbi\\tugas-akhir-model-deteksi-tumpahan-minyakl\\Hyperspectral oil spill detection datasets\"\n",
    "\n",
    "datasets = []\n",
    "\n",
    "i = 0\n",
    "for filename in os.listdir(dataset_path):\n",
    "    if i>9:\n",
    "        break\n",
    "    file_path = os.path.join(dataset_path, filename)\n",
    "    if os.path.isfile(file_path):  # Check if it's a file\n",
    "        print(f\"Processing file: {file_path}\")\n",
    "        hsi = HSI(file_path)\n",
    "        datasets.append(hsi)\n",
    "    i += 1"
   ]
  },
  {
   "cell_type": "code",
   "execution_count": 4,
   "id": "e1b63b2c",
   "metadata": {},
   "outputs": [],
   "source": [
    "def testWithDataset(n): \n",
    "    hsi_test = datasets[n]\n",
    "\n",
    "    test_img = hsi_test.img\n",
    "    test_gt = hsi_test.gt\n",
    "\n",
    "    patch_size = 9\n",
    "    half_patch = patch_size // 2\n",
    "\n",
    "    height = test_img.shape[0]\n",
    "    width = test_img.shape[1]\n",
    "\n",
    "    matrix=zeroPadding.zeroPadding_3D(test_img,half_patch) #add 0 in every side of the data\n",
    "    print(f\"img shape: {test_img.shape}\")\n",
    "    print(f\"img shape after padding {matrix.shape}\")\n",
    "    print(f\"number of pixel {width * height}\")\n",
    "\n",
    "    print(f\"ground truth shape: {test_gt.shape}\")\n",
    "\n",
    "    indices0 = np.argwhere(test_gt == 0)\n",
    "    indices1 = np.argwhere(test_gt == 1)\n",
    "\n",
    "    print(f\"indices = 0 shape: {indices0.shape}\")\n",
    "    print(f\"indices = 1 shape: {indices1.shape}\")\n",
    "\n",
    "    num_samples = 50\n",
    "\n",
    "    random_indices0 = indices0[np.random.choice(len(indices0), num_samples, replace=False)]\n",
    "    random_indices1 = indices1[np.random.choice(len(indices1), num_samples, replace=False)]\n",
    "\n",
    "    test_indices = np.vstack((random_indices0, random_indices1))\n",
    "\n",
    "    print(test_indices.shape)\n",
    "\n",
    "    return test_indices, test_gt, matrix"
   ]
  },
  {
   "cell_type": "code",
   "execution_count": 5,
   "id": "e908e9cd",
   "metadata": {},
   "outputs": [],
   "source": [
    "def predict_batch(model, feature_extractor, batch_input, device):\n",
    "    with torch.no_grad():  # Disable gradient computation\n",
    "        test_features = feature_extractor(batch_input)  # shape: (10, 128)\n",
    "        test_features_np = test_features.numpy()     # convert to NumPy\n",
    "\n",
    "    # --- Predict probabilities for class 1 ---\n",
    "    positive_probs = model.predict_proba(test_features_np)[:, 1]\n",
    "\n",
    "    # --- Convert probabilities to class labels using 0.5 threshold ---\n",
    "    predicted_classes = (positive_probs >= 0.5).astype(int)\n",
    "\n",
    "\n",
    "    return predicted_classes, positive_probs\n"
   ]
  },
  {
   "cell_type": "code",
   "execution_count": 6,
   "id": "532b0120",
   "metadata": {},
   "outputs": [
    {
     "name": "stdout",
     "output_type": "stream",
     "text": [
      "random: 0\n",
      "generating random sample\n",
      "hsi shape\n",
      "(1243, 684, 224)\n",
      "creating 5 Randomly chosen 0 indices:\n",
      "creating 5 Randomly chosen 1 indices:\n",
      "indices 0 used: [(np.int64(1124), np.int64(637)), (np.int64(52), np.int64(253)), (np.int64(551), np.int64(649)), (np.int64(201), np.int64(550)), (np.int64(925), np.int64(529))]\n",
      "indices 1 used: [(np.int64(367), np.int64(584)), (np.int64(1191), np.int64(152)), (np.int64(89), np.int64(126)), (np.int64(626), np.int64(521)), (np.int64(234), np.int64(228))]\n",
      "number of element equal 0 5\n",
      "number of element equal 1 5\n",
      "x_train shape: (10, 9, 9, 224)\n",
      "y_train shape: (10,)\n"
     ]
    }
   ],
   "source": [
    "hsi_ = datasets[0]\n",
    "patch_size = 9\n",
    "\n",
    "\n",
    "indices_0 = []\n",
    "indices_1 = []\n",
    "\n",
    "print(f\"random: {random_indices}\")\n",
    "random_indices = 1\n",
    "if random_indices:\n",
    "    print(\"generating random sample\")\n",
    "    selected_patch_0, selected_patch_1, indices_0, indices_1 = CS.createSample(hsi_, patch_size, sample_per_class)\n",
    "else:\n",
    "    print(\"using generated indices\")\n",
    "    indices_0 = [(np.int64(188), np.int64(124)), (np.int64(523), np.int64(150)), (np.int64(1003), np.int64(474)), (np.int64(616), np.int64(508)), (np.int64(905), np.int64(552))]\n",
    "    indices_1 = [(np.int64(106), np.int64(606)), (np.int64(297), np.int64(468)), (np.int64(926), np.int64(35)), (np.int64(536), np.int64(519)), (np.int64(508), np.int64(442))]\n",
    "\n",
    "    selected_patch_0, selected_patch_1 = CS.getSample(hsi_, patch_size, sample_per_class, indices_0, indices_1)\n",
    "\n",
    "\n",
    "i =0\n",
    "half_patch = patch_size // 2\n",
    "\n",
    "\n",
    "indices = indices_0 +  indices_1\n",
    "\n",
    "# Concatenating along axis 0\n",
    "x_train = np.concatenate((selected_patch_0, selected_patch_1), )\n",
    "\n",
    "y_train = np.array([])\n",
    "\n",
    "gt = hsi_.gt\n",
    "for indice in indices:\n",
    "    # print(gt[indice[0]][indice[1]])\n",
    "    y_train = np.append(y_train, gt[indice[0]][indice[1]])\n",
    "\n",
    "count = np.count_nonzero(y_train == 0)  # Count elements equal to 0\n",
    "print(f'number of element equal 0 {count}')\n",
    "\n",
    "count = np.count_nonzero(y_train == 1)  # Count elements equal to 1\n",
    "print(f'number of element equal 1 {count}')\n",
    "\n",
    "\n",
    "\n",
    "# Print shape to verify\n",
    "print(f\"x_train shape: {x_train.shape}\")  # Expected output: (10, 9, 9, 224)\n",
    "print(f\"y_train shape: {y_train.shape}\") \n"
   ]
  },
  {
   "cell_type": "code",
   "execution_count": 7,
   "id": "edea25c1",
   "metadata": {},
   "outputs": [
    {
     "name": "stdout",
     "output_type": "stream",
     "text": [
      "[-223 -378  361  435  451  570  660  659  634  602  573  517  485  455\n",
      "  425  394  371  345  320  294  274  251  224  203  183  166  157  147\n",
      "  138  132  128  122  119  116  106   91   75   67   55   17   38   46\n",
      "   58   16   34   43   37   32   29    7   10   20   34   27   28   20\n",
      "   21    6  -11  -13  -10  -43 -175  -88  -10    2   12   16   18   18\n",
      "   21   19   19   17   20   13    8    5   -3  -30 -217 -222 -127 -150\n",
      "  -43  -13   -5   -9    1  -10    3    0    9   11   10   11   10    7\n",
      "   11   24   21   14   14   85  -41   10    0    0    0    0    0    0\n",
      "    0    0 -207 -185  -85  -59  -48  -44  -11    9   10   15   17   17\n",
      "   23   25   22   25   24   20   24   21   22   24   24   24   17   22\n",
      "   25   22   18   22   16   10   21    1   12   -9   -8 -197    0    0\n",
      "    0    0    0    0    0    0    0    0    0    0    0    0    0    0\n",
      "  -66  -65   -9   -3    4  -17  -23   -1   13   14   17   24   15   20\n",
      "   15   21   17   22   18   21   20   24   23   14   16    9   16   12\n",
      "   12   13   15   23   22   18    9    6   16   14    6   -2    0    6\n",
      "   -5  -21    7   11  -11  -26   -7   -4  -32   -2  -30  -54  -20   33]\n",
      "[-223. -378.  361.  435.  451.  570.  660.  659.  634.  602.  573.  517.\n",
      "  485.  455.  425.  394.  371.  345.  320.  294.  274.  251.  224.  203.\n",
      "  183.  166.  157.  147.  138.  132.  128.  122.  119.  116.  106.   91.\n",
      "   75.   67.   55.   17.   38.   46.   58.   16.   34.   43.   37.   32.\n",
      "   29.    7.   10.   20.   34.   27.   28.   20.   21.    6.  -11.  -13.\n",
      "  -10.  -43. -175.  -88.  -10.    2.   12.   16.   18.   18.   21.   19.\n",
      "   19.   17.   20.   13.    8.    5.   -3.  -30. -217. -222. -127. -150.\n",
      "  -43.  -13.   -5.   -9.    1.  -10.    3.    0.    9.   11.   10.   11.\n",
      "   10.    7.   11.   24.   21.   14.   14.   85.  -41.   10.    0.    0.\n",
      "    0.    0.    0.    0.    0.    0. -207. -185.  -85.  -59.  -48.  -44.\n",
      "  -11.    9.   10.   15.   17.   17.   23.   25.   22.   25.   24.   20.\n",
      "   24.   21.   22.   24.   24.   24.   17.   22.   25.   22.   18.   22.\n",
      "   16.   10.   21.    1.   12.   -9.   -8. -197.    0.    0.    0.    0.\n",
      "    0.    0.    0.    0.    0.    0.    0.    0.    0.    0.    0.    0.\n",
      "  -66.  -65.   -9.   -3.    4.  -17.  -23.   -1.   13.   14.   17.   24.\n",
      "   15.   20.   15.   21.   17.   22.   18.   21.   20.   24.   23.   14.\n",
      "   16.    9.   16.   12.   12.   13.   15.   23.   22.   18.    9.    6.\n",
      "   16.   14.    6.   -2.    0.    6.   -5.  -21.    7.   11.  -11.  -26.\n",
      "   -7.   -4.  -32.   -2.  -30.  -54.  -20.   33.]\n",
      "[-274  -86  271  264  312  498  597  603  590  565  535  487  452  425\n",
      "  410  399  386  370  348  335  311  296  302  316  328  287  265  267\n",
      "  264  277  257  249  238  219  219  212  205  197  179  119  125  126\n",
      "  123  106  123  124  123  121  119   98   93   88   92   85   80   73\n",
      "   64   39   19    6    1  -91  -89 -137  -13    0   10   18   25   24\n",
      "   32   27   31   29   34   26   20   14    0  -34  -33  -20  -23  -20\n",
      "  -52   -6   -4   -8   -3  -12   -1    5   10   10   10   11   10   13\n",
      "    9   10   -6   -7  -11  -13  -50  -56  -57    0    0    0    0    0\n",
      "    0    0    0    0    0 -119  -38  -89  -25   -6   -1    4    2   11\n",
      "    8   10    9   11   16   14   12   15    9    3    7    1    9   13\n",
      "    5   13    9    4    2   -1    1   -3   -4  -23  -26  -36  -12    0\n",
      "    0    0    0    0    0    0    0    0    0    0    0    0    0    0\n",
      "   -7  -11   -9   -7   -1  -17    0   -3    3    3    3    5    3    6\n",
      "    6    9    6    7    7    7    5   15    5    9   11   12    7   11\n",
      "    8   14    7    0   10    6    3    5    0    6    5    7   -7    5\n",
      "   13   -5  -13   -4  -10  -43  -12    0   -5   -9    2   -9    4   -7]\n",
      "[-274.  -86.  271.  264.  312.  498.  597.  603.  590.  565.  535.  487.\n",
      "  452.  425.  410.  399.  386.  370.  348.  335.  311.  296.  302.  316.\n",
      "  328.  287.  265.  267.  264.  277.  257.  249.  238.  219.  219.  212.\n",
      "  205.  197.  179.  119.  125.  126.  123.  106.  123.  124.  123.  121.\n",
      "  119.   98.   93.   88.   92.   85.   80.   73.   64.   39.   19.    6.\n",
      "    1.  -91.  -89. -137.  -13.    0.   10.   18.   25.   24.   32.   27.\n",
      "   31.   29.   34.   26.   20.   14.    0.  -34.  -33.  -20.  -23.  -20.\n",
      "  -52.   -6.   -4.   -8.   -3.  -12.   -1.    5.   10.   10.   10.   11.\n",
      "   10.   13.    9.   10.   -6.   -7.  -11.  -13.  -50.  -56.  -57.    0.\n",
      "    0.    0.    0.    0.    0.    0.    0.    0.    0. -119.  -38.  -89.\n",
      "  -25.   -6.   -1.    4.    2.   11.    8.   10.    9.   11.   16.   14.\n",
      "   12.   15.    9.    3.    7.    1.    9.   13.    5.   13.    9.    4.\n",
      "    2.   -1.    1.   -3.   -4.  -23.  -26.  -36.  -12.    0.    0.    0.\n",
      "    0.    0.    0.    0.    0.    0.    0.    0.    0.    0.    0.    0.\n",
      "   -7.  -11.   -9.   -7.   -1.  -17.    0.   -3.    3.    3.    3.    5.\n",
      "    3.    6.    6.    9.    6.    7.    7.    7.    5.   15.    5.    9.\n",
      "   11.   12.    7.   11.    8.   14.    7.    0.   10.    6.    3.    5.\n",
      "    0.    6.    5.    7.   -7.    5.   13.   -5.  -13.   -4.  -10.  -43.\n",
      "  -12.    0.   -5.   -9.    2.   -9.    4.   -7.]\n",
      "[-236 -477  327  404  431  572  631  642  612  586  548  500  458  414\n",
      "  391  359  334  305  279  252  226  208  180  156  131  125  107  101\n",
      "   93   86   84   75   64   67   59   48   32   27   20  -18    5   21\n",
      "   24  -18    7   17   12    8    5  -24  -10    0   13    9    8    4\n",
      "    5  -16  -25  -29  -22  -83 -177 -121  -25  -19   -5   -3   -3   -2\n",
      "   -1   -6    0   -7   -4   -9  -10  -10  -20  -46 -230 -252 -173 -170\n",
      "  -55  -25  -19  -26  -23  -29  -24  -18  -10  -11  -11  -14  -12   -3\n",
      "    1  -20   -9   -2  -17  -18  -65  -71    0    0    0    0    0    0\n",
      "    0    0    0 -249 -121  -98 -163  -79  -24   -4    0    1    1   14\n",
      "    6    6    6    3    8    6    7    8    9    6    1    0    0    7\n",
      "    9    1    3    1  -11   -1   -7   -2  -13  -25  -35 -131    0    0\n",
      "    0    0    0    0    0    0    0    0    0    0    0    0    0    0\n",
      "    0  -31  -21  -13   -8  -17  -38  -14   -7   -1    0  -12    4    7\n",
      "    4    7    7   11    8    4    2   12    2    2    3    5    8   12\n",
      "    4    1    3   -4    1    2    3    6   10  -10    1   -8   15    6\n",
      "   -4  -11  -12   -9    8  -31   -6   -2  -36  -20  -23  -16    0    0]\n",
      "[-236. -477.  327.  404.  431.  572.  631.  642.  612.  586.  548.  500.\n",
      "  458.  414.  391.  359.  334.  305.  279.  252.  226.  208.  180.  156.\n",
      "  131.  125.  107.  101.   93.   86.   84.   75.   64.   67.   59.   48.\n",
      "   32.   27.   20.  -18.    5.   21.   24.  -18.    7.   17.   12.    8.\n",
      "    5.  -24.  -10.    0.   13.    9.    8.    4.    5.  -16.  -25.  -29.\n",
      "  -22.  -83. -177. -121.  -25.  -19.   -5.   -3.   -3.   -2.   -1.   -6.\n",
      "    0.   -7.   -4.   -9.  -10.  -10.  -20.  -46. -230. -252. -173. -170.\n",
      "  -55.  -25.  -19.  -26.  -23.  -29.  -24.  -18.  -10.  -11.  -11.  -14.\n",
      "  -12.   -3.    1.  -20.   -9.   -2.  -17.  -18.  -65.  -71.    0.    0.\n",
      "    0.    0.    0.    0.    0.    0.    0. -249. -121.  -98. -163.  -79.\n",
      "  -24.   -4.    0.    1.    1.   14.    6.    6.    6.    3.    8.    6.\n",
      "    7.    8.    9.    6.    1.    0.    0.    7.    9.    1.    3.    1.\n",
      "  -11.   -1.   -7.   -2.  -13.  -25.  -35. -131.    0.    0.    0.    0.\n",
      "    0.    0.    0.    0.    0.    0.    0.    0.    0.    0.    0.    0.\n",
      "    0.  -31.  -21.  -13.   -8.  -17.  -38.  -14.   -7.   -1.    0.  -12.\n",
      "    4.    7.    4.    7.    7.   11.    8.    4.    2.   12.    2.    2.\n",
      "    3.    5.    8.   12.    4.    1.    3.   -4.    1.    2.    3.    6.\n",
      "   10.  -10.    1.   -8.   15.    6.   -4.  -11.  -12.   -9.    8.  -31.\n",
      "   -6.   -2.  -36.  -20.  -23.  -16.    0.    0.]\n",
      "[-139 -204  351  401  425  581  665  668  657  624  596  558  519  491\n",
      "  476  458  450  434  418  406  395  380  379  375  372  362  363  363\n",
      "  363  375  372  378  361  366  371  363  361  370  370  372  382  388\n",
      "  391  407  421  421  415  413  422  429  440  448  453  452  446  440\n",
      "  436  401  357  318  310  184   50  212  319  344  396  440  473  487\n",
      "  495  501  501  500  475  449  393  336  284  203 -125 -181  -27  -40\n",
      "  115  198  232  269  310  344  358  371  391  392  393  385  411  429\n",
      "  423  415  417  372  320  326  217  177    0    0    0    0    0    0\n",
      "    0    0  -46 -118   -2   53   39   59  113  156  193  244  276  351\n",
      "  339  351  357  380  384  392  398  398  394  403  392  380  373  357\n",
      "  352  326  303  303  263  224  203  183  161  135  145   48    0    0\n",
      "    0    0    0    0    0    0    0    0    0    0    0    0    0    0\n",
      " -108  -43   25   37   49   43   44   73   83   95  107  103  123  127\n",
      "  131  146  143  148  150  164  160  155  152  160  168  173  177  175\n",
      "  174  175  174  170  171  154  146  142  130  136  125  120  104   92\n",
      "   86   73   57   63   49   22   30   12   12   27  -34  -47  -38  -80]\n",
      "[-139. -204.  351.  401.  425.  581.  665.  668.  657.  624.  596.  558.\n",
      "  519.  491.  476.  458.  450.  434.  418.  406.  395.  380.  379.  375.\n",
      "  372.  362.  363.  363.  363.  375.  372.  378.  361.  366.  371.  363.\n",
      "  361.  370.  370.  372.  382.  388.  391.  407.  421.  421.  415.  413.\n",
      "  422.  429.  440.  448.  453.  452.  446.  440.  436.  401.  357.  318.\n",
      "  310.  184.   50.  212.  319.  344.  396.  440.  473.  487.  495.  501.\n",
      "  501.  500.  475.  449.  393.  336.  284.  203. -125. -181.  -27.  -40.\n",
      "  115.  198.  232.  269.  310.  344.  358.  371.  391.  392.  393.  385.\n",
      "  411.  429.  423.  415.  417.  372.  320.  326.  217.  177.    0.    0.\n",
      "    0.    0.    0.    0.    0.    0.  -46. -118.   -2.   53.   39.   59.\n",
      "  113.  156.  193.  244.  276.  351.  339.  351.  357.  380.  384.  392.\n",
      "  398.  398.  394.  403.  392.  380.  373.  357.  352.  326.  303.  303.\n",
      "  263.  224.  203.  183.  161.  135.  145.   48.    0.    0.    0.    0.\n",
      "    0.    0.    0.    0.    0.    0.    0.    0.    0.    0.    0.    0.\n",
      " -108.  -43.   25.   37.   49.   43.   44.   73.   83.   95.  107.  103.\n",
      "  123.  127.  131.  146.  143.  148.  150.  164.  160.  155.  152.  160.\n",
      "  168.  173.  177.  175.  174.  175.  174.  170.  171.  154.  146.  142.\n",
      "  130.  136.  125.  120.  104.   92.   86.   73.   57.   63.   49.   22.\n",
      "   30.   12.   12.   27.  -34.  -47.  -38.  -80.]\n"
     ]
    }
   ],
   "source": [
    "i =1\n",
    "half_patch = patch_size // 2\n",
    "print(hsi_.img[indices_0[i][0]][indices_0[i][1]])\n",
    "print(selected_patch_0[i][half_patch][half_patch])\n",
    "\n",
    "print(hsi_.img[indices_1[i][0]][indices_1[i][1]])\n",
    "print(selected_patch_1[i][half_patch][half_patch])\n",
    "i =4\n",
    "half_patch = patch_size // 2\n",
    "print(hsi_.img[indices_0[i][0]][indices_0[i][1]])\n",
    "print(selected_patch_0[i][half_patch][half_patch])\n",
    "\n",
    "print(hsi_.img[indices_1[i][0]][indices_1[i][1]])\n",
    "print(selected_patch_1[i][half_patch][half_patch])"
   ]
  },
  {
   "cell_type": "code",
   "execution_count": 8,
   "id": "bd9ccef5",
   "metadata": {},
   "outputs": [
    {
     "name": "stdout",
     "output_type": "stream",
     "text": [
      "hasil augmentasi 1 shape: (20, 9, 9, 224)\n",
      "label augmentai 1 shape: (20,)\n",
      "hasil augmentasi 2 shape: (20, 9, 9, 224)\n",
      "label augmentasi 2 shape: (20,)\n",
      "[0 0 0 0 0 0 0 0 0 0 1 1 1 1 1 1 1 1 1 1]\n",
      "[0 0 0 0 0 0 0 0 0 0 1 1 1 1 1 1 1 1 1 1]\n",
      "hasil augmentasi gabungan untuk training: (40, 9, 9, 224)\n",
      "label augmentasi gabungan: (40,)\n",
      "Element 0 occurs 20 times.\n",
      "Element 1 occurs 20 times.\n"
     ]
    }
   ],
   "source": [
    "n_category = 2\n",
    "band_size = 224\n",
    "\n",
    "data_augment1, label_augment1 = aug.Augment_data(x_train, y_train, n_category, patch_size, band_size, num_per_category_augment_1)\n",
    "\n",
    "data_augment2, label_augment2 = aug.Augment_data2(x_train, y_train, n_category, patch_size, band_size, num_per_category_augment_2)\n",
    "\n",
    "print(f\"hasil augmentasi 1 shape: {data_augment1.shape}\")\n",
    "print(f\"label augmentai 1 shape: {label_augment1.shape}\")\n",
    "\n",
    "print(f\"hasil augmentasi 2 shape: {data_augment2.shape}\")\n",
    "print(f\"label augmentasi 2 shape: {label_augment2.shape}\")\n",
    "\n",
    "print(label_augment1)\n",
    "print(label_augment2)\n",
    "\n",
    "data_augment = np.concatenate((data_augment1, data_augment2))\n",
    "label_augment = np.concatenate((label_augment1, label_augment2))\n",
    "\n",
    "print(f\"hasil augmentasi gabungan untuk training: {data_augment.shape}\")\n",
    "print(f\"label augmentasi gabungan: {label_augment.shape}\")\n",
    "\n",
    "\n",
    "# Count occurrences of each unique element\n",
    "counts = np.bincount(label_augment)\n",
    "\n",
    "# Print results\n",
    "for i, count in enumerate(counts):\n",
    "    print(f\"Element {i} occurs {count} times.\")"
   ]
  },
  {
   "cell_type": "code",
   "execution_count": 9,
   "id": "e1e55134",
   "metadata": {},
   "outputs": [],
   "source": [
    "# class ConvTo1D(nn.Module):\n",
    "#     def __init__(self):\n",
    "#         super(ConvTo1D, self).__init__()\n",
    "#         self.conv1 = nn.Conv2d(in_channels=224, out_channels=64, kernel_size=3, padding=1)\n",
    "#         self.conv2 = nn.Conv2d(64, 128, kernel_size=3, padding=1)\n",
    "#         self.pool = nn.AdaptiveAvgPool2d((1, 1))  # (batch_size, 128, 1, 1)\n",
    "#         self.flatten = nn.Flatten()               # (batch_size, 128)\n",
    "\n",
    "#     def forward(self, x):\n",
    "#         x = F.relu(self.conv1(x))\n",
    "#         x = F.relu(self.conv2(x))\n",
    "#         x = self.pool(x)\n",
    "#         x = self.flatten(x)\n",
    "#         return x\n",
    "\n",
    "# feature_extractor = ConvTo1D()"
   ]
  },
  {
   "cell_type": "code",
   "execution_count": 10,
   "id": "59567562",
   "metadata": {},
   "outputs": [
    {
     "name": "stdout",
     "output_type": "stream",
     "text": [
      "(40, 9, 9, 224)\n",
      "(40,)\n",
      "X_train shape: torch.Size([40, 224, 9, 9])\n",
      "torch.Size([40, 18144])\n"
     ]
    }
   ],
   "source": [
    "print(data_augment.shape)\n",
    "print(label_augment.shape)\n",
    "\n",
    "x_data = data_augment \n",
    "y_labels = label_augment\n",
    "\n",
    "x_data = torch.tensor(x_data)\n",
    "x_data = x_data.to(torch.float32)\n",
    "x_data = x_data.permute(0, 3, 1, 2)\n",
    "print(f\"X_train shape: {x_data.shape}\")\n",
    "\n",
    "\n",
    "features_np = torch.flatten(x_data, start_dim=1)\n",
    "\n",
    "print(features_np.shape)\n"
   ]
  },
  {
   "cell_type": "code",
   "execution_count": 11,
   "id": "6e6cab40",
   "metadata": {},
   "outputs": [
    {
     "name": "stdout",
     "output_type": "stream",
     "text": [
      "[1 1 1 1 0 1 0 0 0 0 0 0 1 0 1 0 0 1 0 0]\n",
      "[1 0 0 1 1 1 1 1 0 1 0 1 0 1 0 1 0 1 0 1]\n"
     ]
    }
   ],
   "source": [
    "X = features_np\n",
    "y = y_labels\n",
    "X_train, X_val, y_train, y_val = train_test_split(X, y, test_size=test_size, random_state=seed)\n",
    "\n",
    "print(y_train)\n",
    "print(y_val)"
   ]
  },
  {
   "cell_type": "code",
   "execution_count": 12,
   "id": "2b654b8e",
   "metadata": {},
   "outputs": [
    {
     "name": "stdout",
     "output_type": "stream",
     "text": [
      "Sample 0: Predicted = 1, Prob(class 1) = 0.9999\n",
      "Sample 1: Predicted = 0, Prob(class 1) = 0.0000\n",
      "Sample 2: Predicted = 0, Prob(class 1) = 0.0001\n",
      "Sample 3: Predicted = 1, Prob(class 1) = 0.9992\n",
      "Sample 4: Predicted = 1, Prob(class 1) = 1.0000\n",
      "Sample 5: Predicted = 1, Prob(class 1) = 0.9998\n",
      "Sample 6: Predicted = 1, Prob(class 1) = 0.9999\n",
      "Sample 7: Predicted = 1, Prob(class 1) = 1.0000\n",
      "Sample 8: Predicted = 0, Prob(class 1) = 0.0015\n",
      "Sample 9: Predicted = 1, Prob(class 1) = 1.0000\n",
      "Sample 10: Predicted = 0, Prob(class 1) = 0.0001\n",
      "Sample 11: Predicted = 1, Prob(class 1) = 0.9999\n",
      "Sample 12: Predicted = 0, Prob(class 1) = 0.0001\n",
      "Sample 13: Predicted = 1, Prob(class 1) = 0.9999\n",
      "Sample 14: Predicted = 0, Prob(class 1) = 0.0000\n",
      "Sample 15: Predicted = 1, Prob(class 1) = 0.9992\n",
      "Sample 16: Predicted = 0, Prob(class 1) = 0.0001\n",
      "Sample 17: Predicted = 1, Prob(class 1) = 0.9999\n",
      "Sample 18: Predicted = 0, Prob(class 1) = 0.0008\n",
      "Sample 19: Predicted = 1, Prob(class 1) = 0.9992\n",
      "Validation Accuracy: 1.0000\n"
     ]
    }
   ],
   "source": [
    "pipeline = make_pipeline(\n",
    "    StandardScaler(),\n",
    "    LogisticRegression(random_state=seed, max_iter=1000)  # Set random_state\n",
    ")\n",
    "pipeline.fit(X_train, y_train)\n",
    "\n",
    "# --- Predict probabilities for class 1 ---\n",
    "positive_probs = pipeline.predict_proba(X_val)[:, 1]\n",
    "\n",
    "# --- Convert probabilities to class labels using 0.5 threshold ---\n",
    "predicted_classes = (positive_probs >= 0.5).astype(int)\n",
    "\n",
    "# --- Display predictions with probabilities ---\n",
    "for i, (pred, prob) in enumerate(zip(predicted_classes, positive_probs)):\n",
    "    print(f\"Sample {i}: Predicted = {pred}, Prob(class 1) = {prob:.4f}\")\n",
    "\n",
    "# --- Accuracy ---\n",
    "acc = accuracy_score(y_val, predicted_classes)\n",
    "print(f\"Validation Accuracy: {acc:.4f}\")\n"
   ]
  },
  {
   "cell_type": "code",
   "execution_count": 13,
   "id": "e061b94f",
   "metadata": {},
   "outputs": [],
   "source": [
    "def testWithWholeDataset(n): \n",
    "    hsi_test = datasets[n]\n",
    "\n",
    "    test_img = hsi_test.img\n",
    "    gt= hsi_test.gt\n",
    "\n",
    "    patch_size = 9\n",
    "    half_patch = patch_size // 2\n",
    "\n",
    "    height = test_img.shape[0]\n",
    "    width = test_img.shape[1]\n",
    "\n",
    "    matrix=zeroPadding.zeroPadding_3D(test_img,half_patch) #add 0 in every side of the data\n",
    "    print(f\"img shape: {test_img.shape}\")\n",
    "    print(f\"img shape after padding {matrix.shape}\")\n",
    "    print(f\"number of pixel {width * height}\")\n",
    "\n",
    "    print(f\"ground truth shape: {gt.shape}\")\n",
    "\n",
    "    indices0 = np.argwhere(gt == 0)\n",
    "    indices1 = np.argwhere(gt == 1)\n",
    "\n",
    "    print(f\"indices = 0 shape: {indices0.shape}\")\n",
    "    print(f\"indices = 1 shape: {indices1.shape}\")\n",
    "\n",
    "    return matrix, gt, indices0.shape, indices1.shape"
   ]
  },
  {
   "cell_type": "code",
   "execution_count": 14,
   "id": "04c945c5",
   "metadata": {},
   "outputs": [],
   "source": [
    "def predict_batch_whole(model, batch_input, device):\n",
    "    # convert to NumPy\n",
    "    test_features_np = torch.flatten(batch_input, start_dim=1)  # Flatten all dims except batch\n",
    "\n",
    "    # --- Predict probabilities for class 1 ---\n",
    "    positive_probs = model.predict_proba(test_features_np)[:, 1]\n",
    "\n",
    "    # --- Convert probabilities to class labels using 0.5 threshold ---\n",
    "    predicted_classes = (positive_probs >= 0.5).astype(int)\n",
    "\n",
    "\n",
    "    return predicted_classes, positive_probs\n",
    "   "
   ]
  },
  {
   "cell_type": "code",
   "execution_count": 15,
   "id": "96424ce9",
   "metadata": {},
   "outputs": [],
   "source": [
    "class PatchDataset(Dataset):\n",
    "    def __init__(self, matrix, gt, half_patch, expected_shape):\n",
    "        self.matrix = matrix\n",
    "        self.gt = gt\n",
    "        self.half_patch = half_patch\n",
    "        self.expected_shape = expected_shape\n",
    "        self.size_x, self.size_y = matrix.shape[0], matrix.shape[1]\n",
    "        self.valid_coords = [\n",
    "            (x, y)\n",
    "            for x in range(half_patch, self.size_x - half_patch)\n",
    "            for y in range(half_patch, self.size_y - half_patch)\n",
    "        ]\n",
    "\n",
    "    def __len__(self):\n",
    "        return len(self.valid_coords)\n",
    "\n",
    "    def __getitem__(self, idx):\n",
    "        x, y = self.valid_coords[idx]\n",
    "        true_label = self.gt[x - self.half_patch, y - self.half_patch]\n",
    "\n",
    "        selected_rows = self.matrix[x- self.half_patch:x + 2 * self.half_patch + 1 - self.half_patch, :]\n",
    "        testing_patch = selected_rows[:, y - self.half_patch:y + 2 * self.half_patch + 1 - self.half_patch]\n",
    "\n",
    "        # Verify patch size\n",
    "        if testing_patch.shape != self.expected_shape:\n",
    "            raise ValueError(f\"Patch at ({x},{y}) has wrong shape {testing_patch.shape}\")\n",
    "\n",
    "        patch_tensor = torch.tensor(testing_patch, dtype=torch.float32)\n",
    "        patch_tensor = patch_tensor.permute(2, 0, 1)  # (C, H, W)\n",
    "\n",
    "        return patch_tensor, true_label, x, y  # Also return (x, y) for positioning later"
   ]
  },
  {
   "cell_type": "code",
   "execution_count": 16,
   "id": "b8dbcc00",
   "metadata": {},
   "outputs": [
    {
     "name": "stdout",
     "output_type": "stream",
     "text": [
      "img shape: (1243, 684, 224)\n",
      "img shape after padding (1251, 692, 224)\n",
      "number of pixel 850212\n",
      "ground truth shape: (1243, 684)\n",
      "indices = 0 shape: (820876, 2)\n",
      "indices = 1 shape: (29336, 2)\n",
      "820876\n",
      "29336\n",
      "generate data loader using seed\n",
      "torch.Size([64, 224, 9, 9])\n",
      "torch.Size([64])\n",
      "data loader size: 13285\n"
     ]
    },
    {
     "name": "stderr",
     "output_type": "stream",
     "text": [
      "Predicting: 100%|██████████| 13285/13285 [01:56<00:00, 114.18it/s]\n"
     ]
    },
    {
     "name": "stdout",
     "output_type": "stream",
     "text": [
      "correct0 = 709291\n",
      "correct1 = 24767\n",
      "Score: 734058/850212\n",
      "{'dataset': 0, 'class0_size': 820876, 'class1_size': 29336, 'correct_0': 709291, 'correct_1': 24767, 'correct_total': 734058, 'total': 850212}\n",
      "img shape: (1786, 699, 224)\n",
      "img shape after padding (1794, 707, 224)\n",
      "number of pixel 1248414\n",
      "ground truth shape: (1786, 699)\n",
      "indices = 0 shape: (1236269, 2)\n",
      "indices = 1 shape: (12145, 2)\n",
      "1236269\n",
      "12145\n",
      "generate data loader using seed\n",
      "torch.Size([64, 224, 9, 9])\n",
      "torch.Size([64])\n",
      "data loader size: 19507\n"
     ]
    },
    {
     "name": "stderr",
     "output_type": "stream",
     "text": [
      "Predicting: 100%|██████████| 19507/19507 [02:55<00:00, 111.43it/s]\n"
     ]
    },
    {
     "name": "stdout",
     "output_type": "stream",
     "text": [
      "correct0 = 338111\n",
      "correct1 = 12079\n",
      "Score: 350190/1248414\n",
      "{'dataset': 1, 'class0_size': 1236269, 'class1_size': 12145, 'correct_0': 338111, 'correct_1': 12079, 'correct_total': 350190, 'total': 1248414}\n",
      "img shape: (1386, 690, 224)\n",
      "img shape after padding (1394, 698, 224)\n",
      "number of pixel 956340\n",
      "ground truth shape: (1386, 690)\n",
      "indices = 0 shape: (916980, 2)\n",
      "indices = 1 shape: (39360, 2)\n",
      "916980\n",
      "39360\n",
      "generate data loader using seed\n",
      "torch.Size([64, 224, 9, 9])\n",
      "torch.Size([64])\n",
      "data loader size: 14943\n"
     ]
    },
    {
     "name": "stderr",
     "output_type": "stream",
     "text": [
      "Predicting: 100%|██████████| 14943/14943 [02:12<00:00, 113.16it/s]\n"
     ]
    },
    {
     "name": "stdout",
     "output_type": "stream",
     "text": [
      "correct0 = 713601\n",
      "correct1 = 38863\n",
      "Score: 752464/956340\n",
      "{'dataset': 2, 'class0_size': 916980, 'class1_size': 39360, 'correct_0': 713601, 'correct_1': 38863, 'correct_total': 752464, 'total': 956340}\n",
      "img shape: (1466, 676, 224)\n",
      "img shape after padding (1474, 684, 224)\n",
      "number of pixel 991016\n",
      "ground truth shape: (1466, 676)\n",
      "indices = 0 shape: (959167, 2)\n",
      "indices = 1 shape: (31849, 2)\n",
      "959167\n",
      "31849\n",
      "generate data loader using seed\n",
      "torch.Size([64, 224, 9, 9])\n",
      "torch.Size([64])\n",
      "data loader size: 15485\n"
     ]
    },
    {
     "name": "stderr",
     "output_type": "stream",
     "text": [
      "Predicting: 100%|██████████| 15485/15485 [02:25<00:00, 106.78it/s]\n"
     ]
    },
    {
     "name": "stdout",
     "output_type": "stream",
     "text": [
      "correct0 = 888683\n",
      "correct1 = 31376\n",
      "Score: 920059/991016\n",
      "{'dataset': 3, 'class0_size': 959167, 'class1_size': 31849, 'correct_0': 888683, 'correct_1': 31376, 'correct_total': 920059, 'total': 991016}\n",
      "img shape: (2085, 682, 224)\n",
      "img shape after padding (2093, 690, 224)\n",
      "number of pixel 1421970\n",
      "ground truth shape: (2085, 682)\n",
      "indices = 0 shape: (1363408, 2)\n",
      "indices = 1 shape: (58562, 2)\n",
      "1363408\n",
      "58562\n",
      "generate data loader using seed\n",
      "torch.Size([64, 224, 9, 9])\n",
      "torch.Size([64])\n",
      "data loader size: 22219\n"
     ]
    },
    {
     "name": "stderr",
     "output_type": "stream",
     "text": [
      "Predicting: 100%|██████████| 22219/22219 [03:38<00:00, 101.61it/s]\n"
     ]
    },
    {
     "name": "stdout",
     "output_type": "stream",
     "text": [
      "correct0 = 1236274\n",
      "correct1 = 52930\n",
      "Score: 1289204/1421970\n",
      "{'dataset': 4, 'class0_size': 1363408, 'class1_size': 58562, 'correct_0': 1236274, 'correct_1': 52930, 'correct_total': 1289204, 'total': 1421970}\n",
      "img shape: (2088, 691, 224)\n",
      "img shape after padding (2096, 699, 224)\n",
      "number of pixel 1442808\n",
      "ground truth shape: (2088, 691)\n",
      "indices = 0 shape: (1389552, 2)\n",
      "indices = 1 shape: (53256, 2)\n",
      "1389552\n",
      "53256\n",
      "generate data loader using seed\n",
      "torch.Size([64, 224, 9, 9])\n",
      "torch.Size([64])\n",
      "data loader size: 22544\n"
     ]
    },
    {
     "name": "stderr",
     "output_type": "stream",
     "text": [
      "Predicting: 100%|██████████| 22544/22544 [03:38<00:00, 103.10it/s]\n"
     ]
    },
    {
     "name": "stdout",
     "output_type": "stream",
     "text": [
      "correct0 = 1300115\n",
      "correct1 = 30954\n",
      "Score: 1331069/1442808\n",
      "{'dataset': 5, 'class0_size': 1389552, 'class1_size': 53256, 'correct_0': 1300115, 'correct_1': 30954, 'correct_total': 1331069, 'total': 1442808}\n",
      "img shape: (1965, 492, 224)\n",
      "img shape after padding (1973, 500, 224)\n",
      "number of pixel 966780\n",
      "ground truth shape: (1965, 492)\n",
      "indices = 0 shape: (873365, 2)\n",
      "indices = 1 shape: (93415, 2)\n",
      "873365\n",
      "93415\n",
      "generate data loader using seed\n",
      "torch.Size([64, 224, 9, 9])\n",
      "torch.Size([64])\n",
      "data loader size: 15106\n"
     ]
    },
    {
     "name": "stderr",
     "output_type": "stream",
     "text": [
      "Predicting: 100%|██████████| 15106/15106 [02:12<00:00, 113.93it/s]\n"
     ]
    },
    {
     "name": "stdout",
     "output_type": "stream",
     "text": [
      "correct0 = 873300\n",
      "correct1 = 232\n",
      "Score: 873532/966780\n",
      "{'dataset': 6, 'class0_size': 873365, 'class1_size': 93415, 'correct_0': 873300, 'correct_1': 232, 'correct_total': 873532, 'total': 966780}\n",
      "img shape: (1532, 567, 224)\n",
      "img shape after padding (1540, 575, 224)\n",
      "number of pixel 868644\n",
      "ground truth shape: (1532, 567)\n",
      "indices = 0 shape: (824964, 2)\n",
      "indices = 1 shape: (43680, 2)\n",
      "824964\n",
      "43680\n",
      "generate data loader using seed\n",
      "torch.Size([64, 224, 9, 9])\n",
      "torch.Size([64])\n",
      "data loader size: 13573\n"
     ]
    },
    {
     "name": "stderr",
     "output_type": "stream",
     "text": [
      "Predicting: 100%|██████████| 13573/13573 [02:00<00:00, 113.09it/s]\n"
     ]
    },
    {
     "name": "stdout",
     "output_type": "stream",
     "text": [
      "correct0 = 824964\n",
      "correct1 = 19\n",
      "Score: 824983/868644\n",
      "{'dataset': 7, 'class0_size': 824964, 'class1_size': 43680, 'correct_0': 824964, 'correct_1': 19, 'correct_total': 824983, 'total': 868644}\n",
      "img shape: (1569, 517, 224)\n",
      "img shape after padding (1577, 525, 224)\n",
      "number of pixel 811173\n",
      "ground truth shape: (1569, 517)\n",
      "indices = 0 shape: (742935, 2)\n",
      "indices = 1 shape: (68238, 2)\n",
      "742935\n",
      "68238\n",
      "generate data loader using seed\n",
      "torch.Size([64, 224, 9, 9])\n",
      "torch.Size([64])\n",
      "data loader size: 12675\n"
     ]
    },
    {
     "name": "stderr",
     "output_type": "stream",
     "text": [
      "Predicting: 100%|██████████| 12675/12675 [01:49<00:00, 115.29it/s]\n"
     ]
    },
    {
     "name": "stdout",
     "output_type": "stream",
     "text": [
      "correct0 = 741285\n",
      "correct1 = 111\n",
      "Score: 741396/811173\n",
      "{'dataset': 8, 'class0_size': 742935, 'class1_size': 68238, 'correct_0': 741285, 'correct_1': 111, 'correct_total': 741396, 'total': 811173}\n",
      "img shape: (1084, 680, 224)\n",
      "img shape after padding (1092, 688, 224)\n",
      "number of pixel 737120\n",
      "ground truth shape: (1084, 680)\n",
      "indices = 0 shape: (691437, 2)\n",
      "indices = 1 shape: (45683, 2)\n",
      "691437\n",
      "45683\n",
      "generate data loader using seed\n",
      "torch.Size([64, 224, 9, 9])\n",
      "torch.Size([64])\n",
      "data loader size: 11518\n"
     ]
    },
    {
     "name": "stderr",
     "output_type": "stream",
     "text": [
      "Predicting: 100%|██████████| 11518/11518 [01:37<00:00, 118.24it/s]"
     ]
    },
    {
     "name": "stdout",
     "output_type": "stream",
     "text": [
      "correct0 = 637718\n",
      "correct1 = 39443\n",
      "Score: 677161/737120\n",
      "{'dataset': 9, 'class0_size': 691437, 'class1_size': 45683, 'correct_0': 637718, 'correct_1': 39443, 'correct_total': 677161, 'total': 737120}\n"
     ]
    },
    {
     "name": "stderr",
     "output_type": "stream",
     "text": [
      "\n"
     ]
    }
   ],
   "source": [
    "device = torch.device(\"cuda\" if torch.cuda.is_available() else \"cpu\")\n",
    "\n",
    "scores = []\n",
    "groundtruth = []\n",
    "prediction = []\n",
    "y_probs = []\n",
    "\n",
    "\n",
    "timestamp = datetime.now().strftime('%Y%m%d_%H%M%S')\n",
    "os.makedirs(f\"predictions/{timestamp}\", exist_ok=True)\n",
    "for dataset in range(len(datasets)):\n",
    "\n",
    "    score = []\n",
    "    patch_size = 9\n",
    "    half_patch = patch_size // 2\n",
    "\n",
    "    data_sampler = None\n",
    "    batch_size = 64\n",
    "\n",
    "    correct0 = 0\n",
    "    correct1 = 0\n",
    "    matrix = []\n",
    "    gt = []\n",
    "    expected_patch_shape = []\n",
    "    dataset_patches = []\n",
    "    data_loader = []\n",
    "    patch_tensor = []\n",
    "    true_label = [] \n",
    "    x = []\n",
    "    y = []\n",
    "    pred_matrix = []\n",
    "\n",
    "    matrix, gt, indices_0_shape, indices_1_shape = testWithWholeDataset(dataset)\n",
    "    print(indices_0_shape[0])\n",
    "    print(indices_1_shape[0])\n",
    "\n",
    "    expected_patch_shape = (2 * half_patch + 1, 2 * half_patch + 1, matrix.shape[2])\n",
    "    dataset_patches = PatchDataset(matrix, gt, half_patch, expected_patch_shape)\n",
    "\n",
    "    if seeded_run:\n",
    "        g = torch.Generator()\n",
    "        g.manual_seed(seed)\n",
    "\n",
    "        data_loader = DataLoader(\n",
    "            dataset_patches,\n",
    "            batch_size=batch_size,\n",
    "            shuffle=False,  # set to True if needed\n",
    "            num_workers=0,\n",
    "            pin_memory=True,\n",
    "            drop_last=False,\n",
    "            generator=g\n",
    "        )\n",
    "        print(\"generate data loader using seed\")\n",
    "    else:\n",
    "        data_loader = DataLoader(dataset_patches, batch_size=batch_size, shuffle=False, num_workers=0, pin_memory=True, drop_last=False)\n",
    "\n",
    "\n",
    "\n",
    "\n",
    "    patch_tensor, true_label, x, y = next(iter(data_loader))\n",
    "\n",
    "    print(patch_tensor.size())\n",
    "    print(true_label.size())\n",
    "    print(f\"data loader size: {len(data_loader)}\")\n",
    "\n",
    "    pred_matrix = np.full(gt.shape, -1, dtype=np.int32)\n",
    "    correct = 0\n",
    "\n",
    "    for input_batch, label_batch, x_batch, y_batch in tqdm(data_loader, desc=\"Predicting\"):\n",
    "\n",
    "\n",
    "        preds, confs = predict_batch_whole(pipeline, input_batch, device)\n",
    "\n",
    "        prediction.append(preds)\n",
    "        y_probs.append(confs)\n",
    "        \n",
    "        label_batch = label_batch.numpy()\n",
    "        x_batch = x_batch.numpy()\n",
    "        y_batch = y_batch.numpy()\n",
    "\n",
    "        for pred, label, x, y in zip(preds, label_batch, x_batch, y_batch):\n",
    "            groundtruth.append(label)\n",
    "            pred_matrix[x - half_patch, y - half_patch] = pred\n",
    "            if pred == label:\n",
    "                if label == 0:\n",
    "                    correct0 += 1\n",
    "                elif label == 1:\n",
    "                    correct1 += 1\n",
    "                \n",
    "    correct = correct0+correct1\n",
    "    print(f\"correct0 = {correct0}\")\n",
    "    print(f\"correct1 = {correct1}\")\n",
    "    total = gt.shape[0] * gt.shape[1]\n",
    "    print(f\"Score: {correct}/{total}\")\n",
    "\n",
    "    score = {\n",
    "        'dataset': dataset,\n",
    "        'class0_size': indices_0_shape[0],\n",
    "        'class1_size': indices_1_shape[0],\n",
    "        'correct_0': correct0,\n",
    "        'correct_1': correct1,\n",
    "        'correct_total': correct,\n",
    "        'total': total\n",
    "    }\n",
    "    print(score)\n",
    "    scores.append(score)\n",
    "    # Save prediction matrix\n",
    "    # timestamp = datetime.now().strftime('%Y%m%d_%H%M%S')\n",
    "    np.save(f\"predictions/{timestamp}/results {dataset} LR.npy\", pred_matrix)"
   ]
  },
  {
   "cell_type": "code",
   "execution_count": 17,
   "id": "2dbeed29",
   "metadata": {},
   "outputs": [
    {
     "name": "stdout",
     "output_type": "stream",
     "text": [
      "dataset: 0\t 709291/820876\t 24767/29336\t 734058/850212\t\n",
      "dataset: 1\t 338111/1236269\t 12079/12145\t 350190/1248414\t\n",
      "dataset: 2\t 713601/916980\t 38863/39360\t 752464/956340\t\n",
      "dataset: 3\t 888683/959167\t 31376/31849\t 920059/991016\t\n",
      "dataset: 4\t 1236274/1363408\t 52930/58562\t 1289204/1421970\t\n",
      "dataset: 5\t 1300115/1389552\t 30954/53256\t 1331069/1442808\t\n",
      "dataset: 6\t 873300/873365\t 232/93415\t 873532/966780\t\n",
      "dataset: 7\t 824964/824964\t 19/43680\t 824983/868644\t\n",
      "dataset: 8\t 741285/742935\t 111/68238\t 741396/811173\t\n",
      "dataset: 9\t 637718/691437\t 39443/45683\t 677161/737120\t\n",
      "total: \t\t 8263342/4909476.5 \t 230774/237762.0 \t 8494116/10294477\n",
      "acc: 0.8251138935955659\n"
     ]
    }
   ],
   "source": [
    "all_correct = 0\n",
    "all_total = 0\n",
    "all_correct0 = 0\n",
    "all_correct1 = 0\n",
    "class0_total = 0\n",
    "class1_total = 0\n",
    "\n",
    "for score in scores:\n",
    "    dataset = score['dataset']\n",
    "    correct0 = score['correct_0']\n",
    "    correct1 = score['correct_1']\n",
    "    class0_size = score['class0_size']\n",
    "    class1_size = score['class1_size']\n",
    "    correct = score['correct_total']\n",
    "    total = score['total']\n",
    "    print(f\"dataset: {dataset}\\t\", f'{correct0}/{class0_size}\\t', f'{correct1}/{class1_size}\\t', f'{correct}/{total}\\t')\n",
    "\n",
    "    all_correct += correct\n",
    "    all_total += total\n",
    "    all_correct0 += correct0\n",
    "    all_correct1 += correct1\n",
    "    class0_total += class0_size\n",
    "    class1_total += class1_size\n",
    "\n",
    "\n",
    "\n",
    "print(f\"total: \\t\\t {all_correct0}/{class0_total/2} \\t {all_correct1}/{class1_total/2} \\t {all_correct}/{all_total}\")\n",
    "\n",
    "print(f\"acc: {all_correct/all_total}\")"
   ]
  },
  {
   "cell_type": "code",
   "execution_count": 18,
   "id": "e20a3a65",
   "metadata": {},
   "outputs": [],
   "source": [
    "all_total_score = {\n",
    "    'dataset': 'Total Dataset',\n",
    "    'correct_0': all_correct0,\n",
    "    'correct_1': all_correct1,\n",
    "    'class0_total': class0_total,\n",
    "    'class1_total': class1_total,\n",
    "    'correct_total': all_correct,\n",
    "    'total': all_total\n",
    "}\n",
    "\n",
    "scores.append(all_total_score)"
   ]
  },
  {
   "cell_type": "code",
   "execution_count": 19,
   "id": "161987f8",
   "metadata": {},
   "outputs": [
    {
     "name": "stdout",
     "output_type": "stream",
     "text": [
      "10294477\n",
      "10294477\n",
      "10294477\n"
     ]
    }
   ],
   "source": [
    "groundtruths = groundtruth\n",
    "groundtruth_in = []\n",
    "\n",
    "for x in groundtruths:\n",
    "    groundtruth_in.append(x)\n",
    "\n",
    "predictions = prediction\n",
    "prediction_in = []\n",
    "\n",
    "for x in predictions:\n",
    "    for y in x:\n",
    "        prediction_in.append(y)\n",
    "\n",
    "\n",
    "y_prob_in = []\n",
    "\n",
    "for x in y_probs:\n",
    "    for y in x:\n",
    "        y_prob_in.append(y)\n",
    "\n",
    "print(len(groundtruth_in))\n",
    "print(len(prediction_in))\n",
    "print(len(y_prob_in))"
   ]
  },
  {
   "cell_type": "code",
   "execution_count": 20,
   "id": "ca064f58",
   "metadata": {},
   "outputs": [
    {
     "name": "stdout",
     "output_type": "stream",
     "text": [
      "8494116/10294477\n"
     ]
    }
   ],
   "source": [
    "y_test = groundtruth_in\n",
    "y_pred = prediction_in\n",
    "correct = 0\n",
    "total = 0\n",
    "\n",
    "for x, y in zip(y_test, y_pred):\n",
    "    total += 1\n",
    "    if x == y:\n",
    "        correct += 1\n",
    "\n",
    "print(f'{correct}/{total}')"
   ]
  },
  {
   "cell_type": "code",
   "execution_count": 21,
   "id": "0f2f283c",
   "metadata": {},
   "outputs": [
    {
     "name": "stdout",
     "output_type": "stream",
     "text": [
      "Unique values in y_test: [0 1]\n",
      "Sample y_pred values: [np.int64(1), np.int64(1), np.int64(1), np.int64(1), np.int64(1)]\n"
     ]
    }
   ],
   "source": [
    "y_test_np = np.array([label.item() for label in y_test])\n",
    "# Ensure labels are binary (0 and 1)\n",
    "print(\"Unique values in y_test:\", pd.Series(y_test_np).unique())\n",
    "\n",
    "# Check if y_pred is probability (float) or hard prediction (int)\n",
    "print(\"Sample y_pred values:\", y_pred[:5])"
   ]
  },
  {
   "cell_type": "code",
   "execution_count": 22,
   "id": "54f4552d",
   "metadata": {},
   "outputs": [
    {
     "data": {
      "image/png": "[encoded data removed]",
      "text/plain": [
       "<Figure size 700x500 with 1 Axes>"
      ]
     },
     "metadata": {},
     "output_type": "display_data"
    }
   ],
   "source": [
    "test_df = pd.DataFrame(\n",
    "    {'True': y_test_np, 'Model': y_prob_in})\n",
    "\n",
    "plt.figure(figsize=(7, 5))\n",
    "\n",
    "\n",
    "fpr, tpr, _ = roc_curve(test_df['True'], test_df['Model'])\n",
    "roc_auc = auc(fpr, tpr)\n",
    "plt.plot(fpr, tpr, label=f'Model (AUC = {roc_auc:.2f})')\n",
    "\n",
    "plt.plot([0, 1], [0, 1], 'r--', label='Random Guess')\n",
    "\n",
    "plt.xlabel('False Positive Rate')\n",
    "plt.ylabel('True Positive Rate')\n",
    "plt.title('ROC Curves for Two Models')\n",
    "plt.legend()\n",
    "plt.show()"
   ]
  },
  {
   "cell_type": "code",
   "execution_count": 23,
   "id": "2d94b420",
   "metadata": {},
   "outputs": [
    {
     "name": "stdout",
     "output_type": "stream",
     "text": [
      "Precision: 0.5502\n",
      "Recall:    0.6634\n",
      "F1 Score:  0.5529\n",
      "OA:        0.8251\n",
      "AA:        0.6634\n"
     ]
    }
   ],
   "source": [
    "y_true = np.array([int(label) for label in y_test_np])  # true labels\n",
    "y_pred = prediction_in                         # predicted class labels (e.g., from predict_batch)\n",
    "\n",
    "# Precision, Recall, F1\n",
    "precision = precision_score(y_true, y_pred, average='macro')  # Use 'binary' if binary task\n",
    "recall = recall_score(y_true, y_pred, average='macro')\n",
    "f1 = f1_score(y_true, y_pred, average='macro')\n",
    "\n",
    "# Overall Accuracy (OA)\n",
    "oa = accuracy_score(y_true, y_pred)\n",
    "\n",
    "# Average Accuracy (AA) — mean of per-class accuracies\n",
    "cm = confusion_matrix(y_true, y_pred)\n",
    "per_class_acc = cm.diagonal() / cm.sum(axis=1)\n",
    "aa = per_class_acc.mean()\n",
    "\n",
    "# Print all metrics\n",
    "print(f\"Precision: {precision:.4f}\")\n",
    "print(f\"Recall:    {recall:.4f}\")\n",
    "print(f\"F1 Score:  {f1:.4f}\")\n",
    "print(f\"OA:        {oa:.4f}\")\n",
    "print(f\"AA:        {aa:.4f}\")"
   ]
  },
  {
   "cell_type": "code",
   "execution_count": 24,
   "id": "61172db6",
   "metadata": {},
   "outputs": [],
   "source": [
    "performance = {\n",
    "    'AUC': float(roc_auc),\n",
    "    'precision': float(precision),\n",
    "    'recall': float(recall),\n",
    "    'F1 Score': float(f1),\n",
    "    'OA': float(oa),\n",
    "    'AA': float(aa),\n",
    "}\n",
    "result_json = {\n",
    "    'prediction' : scores,\n",
    "    'performance' : performance,\n",
    "}"
   ]
  },
  {
   "cell_type": "code",
   "execution_count": 25,
   "id": "832667d0",
   "metadata": {},
   "outputs": [
    {
     "name": "stdout",
     "output_type": "stream",
     "text": [
      "{'prediction': [{'dataset': 0, 'class0_size': 820876, 'class1_size': 29336, 'correct_0': 709291, 'correct_1': 24767, 'correct_total': 734058, 'total': 850212}, {'dataset': 1, 'class0_size': 1236269, 'class1_size': 12145, 'correct_0': 338111, 'correct_1': 12079, 'correct_total': 350190, 'total': 1248414}, {'dataset': 2, 'class0_size': 916980, 'class1_size': 39360, 'correct_0': 713601, 'correct_1': 38863, 'correct_total': 752464, 'total': 956340}, {'dataset': 3, 'class0_size': 959167, 'class1_size': 31849, 'correct_0': 888683, 'correct_1': 31376, 'correct_total': 920059, 'total': 991016}, {'dataset': 4, 'class0_size': 1363408, 'class1_size': 58562, 'correct_0': 1236274, 'correct_1': 52930, 'correct_total': 1289204, 'total': 1421970}, {'dataset': 5, 'class0_size': 1389552, 'class1_size': 53256, 'correct_0': 1300115, 'correct_1': 30954, 'correct_total': 1331069, 'total': 1442808}, {'dataset': 6, 'class0_size': 873365, 'class1_size': 93415, 'correct_0': 873300, 'correct_1': 232, 'correct_total': 873532, 'total': 966780}, {'dataset': 7, 'class0_size': 824964, 'class1_size': 43680, 'correct_0': 824964, 'correct_1': 19, 'correct_total': 824983, 'total': 868644}, {'dataset': 8, 'class0_size': 742935, 'class1_size': 68238, 'correct_0': 741285, 'correct_1': 111, 'correct_total': 741396, 'total': 811173}, {'dataset': 9, 'class0_size': 691437, 'class1_size': 45683, 'correct_0': 637718, 'correct_1': 39443, 'correct_total': 677161, 'total': 737120}, {'dataset': 'Total Dataset', 'correct_0': 8263342, 'correct_1': 230774, 'class0_total': 9818953, 'class1_total': 475524, 'correct_total': 8494116, 'total': 10294477}], 'performance': {'AUC': 0.6127497855448178, 'precision': 0.5502090932131409, 'recall': 0.6634376076481399, 'F1 Score': 0.5529086069522031, 'OA': 0.8251138935955659, 'AA': 0.6634376076481399}}\n",
      "JSON saved to results.json\n"
     ]
    }
   ],
   "source": [
    "# timestamp = datetime.now().strftime('%Y%m%d_%H%M%S')\n",
    "print(result_json)\n",
    "\n",
    "with open(f\"performance/LR {timestamp}_results.json\", \"w\") as f:\n",
    "    json.dump(result_json, f, indent=2)\n",
    "\n",
    "print(\"JSON saved to results.json\")"
   ]
  },
  {
   "cell_type": "code",
   "execution_count": 26,
   "id": "88deb678",
   "metadata": {},
   "outputs": [
    {
     "name": "stdout",
     "output_type": "stream",
     "text": [
      "Run time: 1500.3419 seconds\n",
      "20250611_140038\n",
      "seet used: 599\n"
     ]
    }
   ],
   "source": [
    "end_time = time.time()\n",
    "print(f\"Run time: {end_time - start_time:.4f} seconds\")\n",
    "\n",
    "print(timestamp)\n",
    "print(f\"seet used: {seed}\")"
   ]
  }
 ],
 "metadata": {
  "kernelspec": {
   "display_name": "fathanvenv",
   "language": "python",
   "name": "python3"
  },
  "language_info": {
   "codemirror_mode": {
    "name": "ipython",
    "version": 3
   },
   "file_extension": ".py",
   "mimetype": "text/x-python",
   "name": "python",
   "nbconvert_exporter": "python",
   "pygments_lexer": "ipython3",
   "version": "3.12.4"
  }
 },
 "nbformat": 4,
 "nbformat_minor": 5
}
