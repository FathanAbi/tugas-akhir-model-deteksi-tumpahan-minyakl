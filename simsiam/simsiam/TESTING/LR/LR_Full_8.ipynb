{
 "cells": [
  {
   "cell_type": "code",
   "execution_count": 1,
   "id": "8ab9c9cc",
   "metadata": {},
   "outputs": [
    {
     "name": "stdout",
     "output_type": "stream",
     "text": [
      "GPU Available: True\n",
      "GPU Name: NVIDIA GeForce RTX 4080 SUPER\n"
     ]
    }
   ],
   "source": [
    "import os\n",
    "import numpy as np\n",
    "import matplotlib.pyplot as plt\n",
    "import pandas as pd\n",
    "from tqdm import tqdm\n",
    "import time\n",
    "import json\n",
    "from datetime import datetime\n",
    "\n",
    "import torch\n",
    "import torch.nn as nn\n",
    "from torch.utils.data import Dataset, DataLoader\n",
    "import torch.nn.functional as F\n",
    "\n",
    "from sklearn.pipeline import make_pipeline\n",
    "from sklearn.preprocessing import StandardScaler\n",
    "from sklearn.linear_model import LogisticRegression\n",
    "from sklearn.model_selection import train_test_split\n",
    "from sklearn.metrics import precision_score, recall_score, f1_score, accuracy_score, confusion_matrix\n",
    "from sklearn.metrics import roc_curve, auc\n",
    "\n",
    "from HSI_class import HSI\n",
    "import zeroPadding\n",
    "import random\n",
    "import createSample as CS\n",
    "import augmentation as aug\n",
    "\n",
    "start_time = time.time()\n",
    "\n",
    "# Check if GPU is available\n",
    "print(\"GPU Available:\", torch.cuda.is_available())\n",
    "\n",
    "# If available, print the GPU name\n",
    "if torch.cuda.is_available():\n",
    "    print(\"GPU Name:\", torch.cuda.get_device_name(0))\n",
    "\n",
    "seeded_run = True\n",
    "seed = 192\n",
    "\n",
    "sample_per_class = 5\n",
    "num_per_category_augment_1 = 10\n",
    "num_per_category_augment_2 = 10\n",
    "epochs = 200\n",
    "\n",
    "batch_size = 64\n",
    "test_size = 0.5\n",
    "\n",
    "random_indices = 0\n",
    "\n"
   ]
  },
  {
   "cell_type": "code",
   "execution_count": 2,
   "id": "9ff64ce3",
   "metadata": {},
   "outputs": [
    {
     "name": "stdout",
     "output_type": "stream",
     "text": [
      "seed has been set\n",
      "seet used: 192\n"
     ]
    }
   ],
   "source": [
    "def set_seed(seed):\n",
    "    random.seed(seed)\n",
    "    np.random.seed(seed)\n",
    "    torch.manual_seed(seed)\n",
    "    torch.cuda.manual_seed_all(seed)\n",
    "\n",
    "    # PyTorch determinism\n",
    "    torch.backends.cudnn.deterministic = True\n",
    "    torch.backends.cudnn.benchmark = False\n",
    "\n",
    "    os.environ['PYTHONHASHSEED'] = str(seed)\n",
    "\n",
    "if seeded_run:\n",
    "    set_seed(seed)\n",
    "    print(\"seed has been set\")\n",
    "    print(f\"seet used: {seed}\")"
   ]
  },
  {
   "cell_type": "code",
   "execution_count": 3,
   "id": "dff90787",
   "metadata": {},
   "outputs": [
    {
     "name": "stdout",
     "output_type": "stream",
     "text": [
      "Processing file: D:\\FathanAbi\\tugas-akhir-model-deteksi-tumpahan-minyakl\\Hyperspectral oil spill detection datasets\\GM01.mat\n",
      "Processing file: D:\\FathanAbi\\tugas-akhir-model-deteksi-tumpahan-minyakl\\Hyperspectral oil spill detection datasets\\GM02.mat\n",
      "Processing file: D:\\FathanAbi\\tugas-akhir-model-deteksi-tumpahan-minyakl\\Hyperspectral oil spill detection datasets\\GM03.mat\n",
      "Processing file: D:\\FathanAbi\\tugas-akhir-model-deteksi-tumpahan-minyakl\\Hyperspectral oil spill detection datasets\\GM04.mat\n",
      "Processing file: D:\\FathanAbi\\tugas-akhir-model-deteksi-tumpahan-minyakl\\Hyperspectral oil spill detection datasets\\GM05.mat\n",
      "Processing file: D:\\FathanAbi\\tugas-akhir-model-deteksi-tumpahan-minyakl\\Hyperspectral oil spill detection datasets\\GM06.mat\n",
      "Processing file: D:\\FathanAbi\\tugas-akhir-model-deteksi-tumpahan-minyakl\\Hyperspectral oil spill detection datasets\\GM07.mat\n",
      "Processing file: D:\\FathanAbi\\tugas-akhir-model-deteksi-tumpahan-minyakl\\Hyperspectral oil spill detection datasets\\GM08.mat\n",
      "Processing file: D:\\FathanAbi\\tugas-akhir-model-deteksi-tumpahan-minyakl\\Hyperspectral oil spill detection datasets\\GM09.mat\n",
      "Processing file: D:\\FathanAbi\\tugas-akhir-model-deteksi-tumpahan-minyakl\\Hyperspectral oil spill detection datasets\\GM10.mat\n"
     ]
    }
   ],
   "source": [
    "dataset_path = r\"D:\\FathanAbi\\tugas-akhir-model-deteksi-tumpahan-minyakl\\Hyperspectral oil spill detection datasets\"\n",
    "\n",
    "datasets = []\n",
    "\n",
    "i = 0\n",
    "for filename in os.listdir(dataset_path):\n",
    "    if i>9:\n",
    "        break\n",
    "    file_path = os.path.join(dataset_path, filename)\n",
    "    if os.path.isfile(file_path):  # Check if it's a file\n",
    "        print(f\"Processing file: {file_path}\")\n",
    "        hsi = HSI(file_path)\n",
    "        datasets.append(hsi)\n",
    "    i += 1"
   ]
  },
  {
   "cell_type": "code",
   "execution_count": 4,
   "id": "e1b63b2c",
   "metadata": {},
   "outputs": [],
   "source": [
    "def testWithDataset(n): \n",
    "    hsi_test = datasets[n]\n",
    "\n",
    "    test_img = hsi_test.img\n",
    "    test_gt = hsi_test.gt\n",
    "\n",
    "    patch_size = 9\n",
    "    half_patch = patch_size // 2\n",
    "\n",
    "    height = test_img.shape[0]\n",
    "    width = test_img.shape[1]\n",
    "\n",
    "    matrix=zeroPadding.zeroPadding_3D(test_img,half_patch) #add 0 in every side of the data\n",
    "    print(f\"img shape: {test_img.shape}\")\n",
    "    print(f\"img shape after padding {matrix.shape}\")\n",
    "    print(f\"number of pixel {width * height}\")\n",
    "\n",
    "    print(f\"ground truth shape: {test_gt.shape}\")\n",
    "\n",
    "    indices0 = np.argwhere(test_gt == 0)\n",
    "    indices1 = np.argwhere(test_gt == 1)\n",
    "\n",
    "    print(f\"indices = 0 shape: {indices0.shape}\")\n",
    "    print(f\"indices = 1 shape: {indices1.shape}\")\n",
    "\n",
    "    num_samples = 50\n",
    "\n",
    "    random_indices0 = indices0[np.random.choice(len(indices0), num_samples, replace=False)]\n",
    "    random_indices1 = indices1[np.random.choice(len(indices1), num_samples, replace=False)]\n",
    "\n",
    "    test_indices = np.vstack((random_indices0, random_indices1))\n",
    "\n",
    "    print(test_indices.shape)\n",
    "\n",
    "    return test_indices, test_gt, matrix"
   ]
  },
  {
   "cell_type": "code",
   "execution_count": 5,
   "id": "e908e9cd",
   "metadata": {},
   "outputs": [],
   "source": [
    "def predict_batch(model, feature_extractor, batch_input, device):\n",
    "    with torch.no_grad():  # Disable gradient computation\n",
    "        test_features = feature_extractor(batch_input)  # shape: (10, 128)\n",
    "        test_features_np = test_features.numpy()     # convert to NumPy\n",
    "\n",
    "    # --- Predict probabilities for class 1 ---\n",
    "    positive_probs = model.predict_proba(test_features_np)[:, 1]\n",
    "\n",
    "    # --- Convert probabilities to class labels using 0.5 threshold ---\n",
    "    predicted_classes = (positive_probs >= 0.5).astype(int)\n",
    "\n",
    "\n",
    "    return predicted_classes, positive_probs\n"
   ]
  },
  {
   "cell_type": "code",
   "execution_count": 6,
   "id": "532b0120",
   "metadata": {},
   "outputs": [
    {
     "name": "stdout",
     "output_type": "stream",
     "text": [
      "random: 0\n",
      "generating random sample\n",
      "hsi shape\n",
      "(1243, 684, 224)\n",
      "creating 5 Randomly chosen 0 indices:\n",
      "creating 5 Randomly chosen 1 indices:\n",
      "indices 0 used: [(np.int64(601), np.int64(498)), (np.int64(482), np.int64(636)), (np.int64(138), np.int64(651)), (np.int64(748), np.int64(323)), (np.int64(495), np.int64(168))]\n",
      "indices 1 used: [(np.int64(360), np.int64(557)), (np.int64(268), np.int64(469)), (np.int64(362), np.int64(211)), (np.int64(216), np.int64(195)), (np.int64(729), np.int64(681))]\n",
      "number of element equal 0 5\n",
      "number of element equal 1 5\n",
      "x_train shape: (10, 9, 9, 224)\n",
      "y_train shape: (10,)\n"
     ]
    }
   ],
   "source": [
    "hsi_ = datasets[0]\n",
    "patch_size = 9\n",
    "\n",
    "\n",
    "indices_0 = []\n",
    "indices_1 = []\n",
    "\n",
    "print(f\"random: {random_indices}\")\n",
    "random_indices = 1\n",
    "if random_indices:\n",
    "    print(\"generating random sample\")\n",
    "    selected_patch_0, selected_patch_1, indices_0, indices_1 = CS.createSample(hsi_, patch_size, sample_per_class)\n",
    "else:\n",
    "    print(\"using generated indices\")\n",
    "    indices_0 = [(np.int64(188), np.int64(124)), (np.int64(523), np.int64(150)), (np.int64(1003), np.int64(474)), (np.int64(616), np.int64(508)), (np.int64(905), np.int64(552))]\n",
    "    indices_1 = [(np.int64(106), np.int64(606)), (np.int64(297), np.int64(468)), (np.int64(926), np.int64(35)), (np.int64(536), np.int64(519)), (np.int64(508), np.int64(442))]\n",
    "\n",
    "    selected_patch_0, selected_patch_1 = CS.getSample(hsi_, patch_size, sample_per_class, indices_0, indices_1)\n",
    "\n",
    "\n",
    "i =0\n",
    "half_patch = patch_size // 2\n",
    "\n",
    "\n",
    "indices = indices_0 +  indices_1\n",
    "\n",
    "# Concatenating along axis 0\n",
    "x_train = np.concatenate((selected_patch_0, selected_patch_1), )\n",
    "\n",
    "y_train = np.array([])\n",
    "\n",
    "gt = hsi_.gt\n",
    "for indice in indices:\n",
    "    # print(gt[indice[0]][indice[1]])\n",
    "    y_train = np.append(y_train, gt[indice[0]][indice[1]])\n",
    "\n",
    "count = np.count_nonzero(y_train == 0)  # Count elements equal to 0\n",
    "print(f'number of element equal 0 {count}')\n",
    "\n",
    "count = np.count_nonzero(y_train == 1)  # Count elements equal to 1\n",
    "print(f'number of element equal 1 {count}')\n",
    "\n",
    "\n",
    "\n",
    "# Print shape to verify\n",
    "print(f\"x_train shape: {x_train.shape}\")  # Expected output: (10, 9, 9, 224)\n",
    "print(f\"y_train shape: {y_train.shape}\") \n"
   ]
  },
  {
   "cell_type": "code",
   "execution_count": 7,
   "id": "edea25c1",
   "metadata": {},
   "outputs": [
    {
     "name": "stdout",
     "output_type": "stream",
     "text": [
      "[-249 -339  388  418  450  578  646  642  631  581  546  489  459  417\n",
      "  387  356  333  307  285  257  230  203  186  148  129  121  111   98\n",
      "   91   82   80   72   67   69   61   48   34   31   22  -20    9   25\n",
      "   33  -10    9   22   14   11    8   -8   -8    1   18   13   13   11\n",
      "   12   -1  -14  -20  -13  -40 -188  -93  -13   -6    5   11   13   12\n",
      "   15    7   11    6    9    7    2    0   -5  -34 -213 -221 -118 -112\n",
      "  -43  -13   -5   -6   -2  -18   -7    0    6    8    4   18    4    0\n",
      "    1   -4   -9  -10  -27  -33  -53  -74    0    0    0    0    0    0\n",
      "    0    0 -285 -198 -105  -62  -35  -82  -17  -14   -5   -6   -3    3\n",
      "    2   -1   -2    3    2   -2   -1    2    3    3    4    0   -2    4\n",
      "    0    0   -1    5    0    2    0   -6  -14  -17  -47 -132    0    0\n",
      "    0    0    0    0    0    0    0    0    0    0    0    0    0    0\n",
      "  -60  -42  -40  -13  -11  -34  -47  -42   -8   -8   -3   -6   -1    0\n",
      "  -10    0   -3   -2   -2   -5    2    0    6   -6   -1    0    4   -3\n",
      "   -2   -1    3    4    1    8    3   -6    5   -4    1   -8   -7  -19\n",
      "   -5  -29  -23   -3  -20  -39  -14   10  -30   -3  -16    7  -18  -21]\n",
      "[-249. -339.  388.  418.  450.  578.  646.  642.  631.  581.  546.  489.\n",
      "  459.  417.  387.  356.  333.  307.  285.  257.  230.  203.  186.  148.\n",
      "  129.  121.  111.   98.   91.   82.   80.   72.   67.   69.   61.   48.\n",
      "   34.   31.   22.  -20.    9.   25.   33.  -10.    9.   22.   14.   11.\n",
      "    8.   -8.   -8.    1.   18.   13.   13.   11.   12.   -1.  -14.  -20.\n",
      "  -13.  -40. -188.  -93.  -13.   -6.    5.   11.   13.   12.   15.    7.\n",
      "   11.    6.    9.    7.    2.    0.   -5.  -34. -213. -221. -118. -112.\n",
      "  -43.  -13.   -5.   -6.   -2.  -18.   -7.    0.    6.    8.    4.   18.\n",
      "    4.    0.    1.   -4.   -9.  -10.  -27.  -33.  -53.  -74.    0.    0.\n",
      "    0.    0.    0.    0.    0.    0. -285. -198. -105.  -62.  -35.  -82.\n",
      "  -17.  -14.   -5.   -6.   -3.    3.    2.   -1.   -2.    3.    2.   -2.\n",
      "   -1.    2.    3.    3.    4.    0.   -2.    4.    0.    0.   -1.    5.\n",
      "    0.    2.    0.   -6.  -14.  -17.  -47. -132.    0.    0.    0.    0.\n",
      "    0.    0.    0.    0.    0.    0.    0.    0.    0.    0.    0.    0.\n",
      "  -60.  -42.  -40.  -13.  -11.  -34.  -47.  -42.   -8.   -8.   -3.   -6.\n",
      "   -1.    0.  -10.    0.   -3.   -2.   -2.   -5.    2.    0.    6.   -6.\n",
      "   -1.    0.    4.   -3.   -2.   -1.    3.    4.    1.    8.    3.   -6.\n",
      "    5.   -4.    1.   -8.   -7.  -19.   -5.  -29.  -23.   -3.  -20.  -39.\n",
      "  -14.   10.  -30.   -3.  -16.    7.  -18.  -21.]\n",
      "[-240 -328  370  394  446  584  643  658  630  594  557  510  469  445\n",
      "  423  403  392  371  350  333  323  308  296  292  288  281  273  270\n",
      "  272  281  282  289  282  279  267  257  251  245  245  251  236  237\n",
      "  243  254  250  251  241  243  255  257  257  259  275  265  270  257\n",
      "  263  246  226  219  217  366  387  383  345  342  326  347  391  398\n",
      "  410  417  414  402  415  402  361  320  306  296  457  425  434  474\n",
      "  292  270  317  351  417  419  464  463  452  455  488  569  525  530\n",
      "  466  418  348  357  393  216  485  473    0    0    0    0    0    0\n",
      "    0    0  -55 -145   59   66  114  166  216  206  225  232  235  192\n",
      "  271  280  282  290  304  294  300  317  305  296  289  276  284  302\n",
      "  306  329  330  294  285  232  231  223  226  218  197  107    0    0\n",
      "    0    0    0    0    0    0    0    0    0    0    0    0    0    0\n",
      "  -60  -42   46   44   55   73  126  106  145  169  183  210  245  268\n",
      "  273  283  303  308  316  319  324  328  334  348  343  344  331  328\n",
      "  322  293  289  276  273  231  214  182  171  150  144  127  139  111\n",
      "  117   95   85   95   56   36   68   55   37    5   38  -11    4    3]\n",
      "[-240. -328.  370.  394.  446.  584.  643.  658.  630.  594.  557.  510.\n",
      "  469.  445.  423.  403.  392.  371.  350.  333.  323.  308.  296.  292.\n",
      "  288.  281.  273.  270.  272.  281.  282.  289.  282.  279.  267.  257.\n",
      "  251.  245.  245.  251.  236.  237.  243.  254.  250.  251.  241.  243.\n",
      "  255.  257.  257.  259.  275.  265.  270.  257.  263.  246.  226.  219.\n",
      "  217.  366.  387.  383.  345.  342.  326.  347.  391.  398.  410.  417.\n",
      "  414.  402.  415.  402.  361.  320.  306.  296.  457.  425.  434.  474.\n",
      "  292.  270.  317.  351.  417.  419.  464.  463.  452.  455.  488.  569.\n",
      "  525.  530.  466.  418.  348.  357.  393.  216.  485.  473.    0.    0.\n",
      "    0.    0.    0.    0.    0.    0.  -55. -145.   59.   66.  114.  166.\n",
      "  216.  206.  225.  232.  235.  192.  271.  280.  282.  290.  304.  294.\n",
      "  300.  317.  305.  296.  289.  276.  284.  302.  306.  329.  330.  294.\n",
      "  285.  232.  231.  223.  226.  218.  197.  107.    0.    0.    0.    0.\n",
      "    0.    0.    0.    0.    0.    0.    0.    0.    0.    0.    0.    0.\n",
      "  -60.  -42.   46.   44.   55.   73.  126.  106.  145.  169.  183.  210.\n",
      "  245.  268.  273.  283.  303.  308.  316.  319.  324.  328.  334.  348.\n",
      "  343.  344.  331.  328.  322.  293.  289.  276.  273.  231.  214.  182.\n",
      "  171.  150.  144.  127.  139.  111.  117.   95.   85.   95.   56.   36.\n",
      "   68.   55.   37.    5.   38.  -11.    4.    3.]\n",
      "[-187 -428  261  347  395  557  627  626  611  583  551  496  458  434\n",
      "  404  375  352  330  311  279  259  231  214  191  166  149  140  129\n",
      "  127  118  118  109  110  100   93   80   67   59   47   13   27   44\n",
      "   50   20   32   40   35   33   28    9   14   25   34   30   33   24\n",
      "   24    9   -1  -10   -8  -84  -96  -78    3   12   21   24   31   33\n",
      "   34   33   33   29   31   26   20   13    4  -27 -106 -107 -115 -115\n",
      "  -33   -2    6    8   13    8   11   14   22   27   31   29   33   14\n",
      "   24   19   19    8    8   25  -38  -53  -85    0    0    0    0    0\n",
      "    0  -88  -37  -73  -75  -52  -74  -71   -4    3    9   15   20   20\n",
      "   22   27   25   30   26   26   24   26   25   24   27   22   29   25\n",
      "   21   27   27   15   21   15    5    6    0  -11  -39  -59  -55    0\n",
      "    0    0    0    0    0    0    0    0    0    0    0    0    0    0\n",
      "  -13  -21    1    2    1   -4    0   21   15   17   24   23   31   27\n",
      "   21   27   27   25   31   30   30   27   26   30   28   21   24   27\n",
      "   24   22   16   27   25   21   29   22   19   13   21    2   -8    0\n",
      "   13  -13  -24    1  -27  -10  -11   -8  -18  -13   -9  -19    0  -21]\n",
      "[-187. -428.  261.  347.  395.  557.  627.  626.  611.  583.  551.  496.\n",
      "  458.  434.  404.  375.  352.  330.  311.  279.  259.  231.  214.  191.\n",
      "  166.  149.  140.  129.  127.  118.  118.  109.  110.  100.   93.   80.\n",
      "   67.   59.   47.   13.   27.   44.   50.   20.   32.   40.   35.   33.\n",
      "   28.    9.   14.   25.   34.   30.   33.   24.   24.    9.   -1.  -10.\n",
      "   -8.  -84.  -96.  -78.    3.   12.   21.   24.   31.   33.   34.   33.\n",
      "   33.   29.   31.   26.   20.   13.    4.  -27. -106. -107. -115. -115.\n",
      "  -33.   -2.    6.    8.   13.    8.   11.   14.   22.   27.   31.   29.\n",
      "   33.   14.   24.   19.   19.    8.    8.   25.  -38.  -53.  -85.    0.\n",
      "    0.    0.    0.    0.    0.  -88.  -37.  -73.  -75.  -52.  -74.  -71.\n",
      "   -4.    3.    9.   15.   20.   20.   22.   27.   25.   30.   26.   26.\n",
      "   24.   26.   25.   24.   27.   22.   29.   25.   21.   27.   27.   15.\n",
      "   21.   15.    5.    6.    0.  -11.  -39.  -59.  -55.    0.    0.    0.\n",
      "    0.    0.    0.    0.    0.    0.    0.    0.    0.    0.    0.    0.\n",
      "  -13.  -21.    1.    2.    1.   -4.    0.   21.   15.   17.   24.   23.\n",
      "   31.   27.   21.   27.   27.   25.   31.   30.   30.   27.   26.   30.\n",
      "   28.   21.   24.   27.   24.   22.   16.   27.   25.   21.   29.   22.\n",
      "   19.   13.   21.    2.   -8.    0.   13.  -13.  -24.    1.  -27.  -10.\n",
      "  -11.   -8.  -18.  -13.   -9.  -19.    0.  -21.]\n",
      "[-207 -275  410  403  431  557  606  628  610  572  531  485  443  411\n",
      "  390  367  347  328  311  299  277  264  254  246  235  231  221  219\n",
      "  218  223  219  220  216  213  209  198  196  191  195  183  186  189\n",
      "  199  192  202  203  201  206  211  209  210  216  223  222  224  219\n",
      "  221  192  178  165  158  205  167  210  215  233  237  265  289  298\n",
      "  311  309  315  302  298  288  258  230  201  174  158   98  195  215\n",
      "  153  165  201  217  265  277  302  298  310  322  333  368  358  327\n",
      "  292  271  219  233  241   91  256  312    0    0    0    0    0    0\n",
      "    0    0  -69  -62   14   -1   45   89  121  128  131  143  160  129\n",
      "  177  180  189  198  203  193  203  210  200  201  191  187  188  194\n",
      "  192  199  197  177  163  142  144  122  118  132  157   -7    0    0\n",
      "    0    0    0    0    0    0    0    0    0    0    0    0    0    0\n",
      "  -54  -23    7   35   35   49   79  110  107  119  141  158  191  186\n",
      "  190  198  201  203  215  211  217  228  238  223  220  228  219  211\n",
      "  203  195  188  172  146  126  114   96   95   65   78   82   69   65\n",
      "   56   46   47   46   48   21   33   38   23    6   12  -28  -18    4]\n",
      "[-207. -275.  410.  403.  431.  557.  606.  628.  610.  572.  531.  485.\n",
      "  443.  411.  390.  367.  347.  328.  311.  299.  277.  264.  254.  246.\n",
      "  235.  231.  221.  219.  218.  223.  219.  220.  216.  213.  209.  198.\n",
      "  196.  191.  195.  183.  186.  189.  199.  192.  202.  203.  201.  206.\n",
      "  211.  209.  210.  216.  223.  222.  224.  219.  221.  192.  178.  165.\n",
      "  158.  205.  167.  210.  215.  233.  237.  265.  289.  298.  311.  309.\n",
      "  315.  302.  298.  288.  258.  230.  201.  174.  158.   98.  195.  215.\n",
      "  153.  165.  201.  217.  265.  277.  302.  298.  310.  322.  333.  368.\n",
      "  358.  327.  292.  271.  219.  233.  241.   91.  256.  312.    0.    0.\n",
      "    0.    0.    0.    0.    0.    0.  -69.  -62.   14.   -1.   45.   89.\n",
      "  121.  128.  131.  143.  160.  129.  177.  180.  189.  198.  203.  193.\n",
      "  203.  210.  200.  201.  191.  187.  188.  194.  192.  199.  197.  177.\n",
      "  163.  142.  144.  122.  118.  132.  157.   -7.    0.    0.    0.    0.\n",
      "    0.    0.    0.    0.    0.    0.    0.    0.    0.    0.    0.    0.\n",
      "  -54.  -23.    7.   35.   35.   49.   79.  110.  107.  119.  141.  158.\n",
      "  191.  186.  190.  198.  201.  203.  215.  211.  217.  228.  238.  223.\n",
      "  220.  228.  219.  211.  203.  195.  188.  172.  146.  126.  114.   96.\n",
      "   95.   65.   78.   82.   69.   65.   56.   46.   47.   46.   48.   21.\n",
      "   33.   38.   23.    6.   12.  -28.  -18.    4.]\n"
     ]
    }
   ],
   "source": [
    "i =1\n",
    "half_patch = patch_size // 2\n",
    "print(hsi_.img[indices_0[i][0]][indices_0[i][1]])\n",
    "print(selected_patch_0[i][half_patch][half_patch])\n",
    "\n",
    "print(hsi_.img[indices_1[i][0]][indices_1[i][1]])\n",
    "print(selected_patch_1[i][half_patch][half_patch])\n",
    "i =4\n",
    "half_patch = patch_size // 2\n",
    "print(hsi_.img[indices_0[i][0]][indices_0[i][1]])\n",
    "print(selected_patch_0[i][half_patch][half_patch])\n",
    "\n",
    "print(hsi_.img[indices_1[i][0]][indices_1[i][1]])\n",
    "print(selected_patch_1[i][half_patch][half_patch])"
   ]
  },
  {
   "cell_type": "code",
   "execution_count": 8,
   "id": "bd9ccef5",
   "metadata": {},
   "outputs": [
    {
     "name": "stdout",
     "output_type": "stream",
     "text": [
      "hasil augmentasi 1 shape: (20, 9, 9, 224)\n",
      "label augmentai 1 shape: (20,)\n",
      "hasil augmentasi 2 shape: (20, 9, 9, 224)\n",
      "label augmentasi 2 shape: (20,)\n",
      "[0 0 0 0 0 0 0 0 0 0 1 1 1 1 1 1 1 1 1 1]\n",
      "[0 0 0 0 0 0 0 0 0 0 1 1 1 1 1 1 1 1 1 1]\n",
      "hasil augmentasi gabungan untuk training: (40, 9, 9, 224)\n",
      "label augmentasi gabungan: (40,)\n",
      "Element 0 occurs 20 times.\n",
      "Element 1 occurs 20 times.\n"
     ]
    }
   ],
   "source": [
    "n_category = 2\n",
    "band_size = 224\n",
    "\n",
    "data_augment1, label_augment1 = aug.Augment_data(x_train, y_train, n_category, patch_size, band_size, num_per_category_augment_1)\n",
    "\n",
    "data_augment2, label_augment2 = aug.Augment_data2(x_train, y_train, n_category, patch_size, band_size, num_per_category_augment_2)\n",
    "\n",
    "print(f\"hasil augmentasi 1 shape: {data_augment1.shape}\")\n",
    "print(f\"label augmentai 1 shape: {label_augment1.shape}\")\n",
    "\n",
    "print(f\"hasil augmentasi 2 shape: {data_augment2.shape}\")\n",
    "print(f\"label augmentasi 2 shape: {label_augment2.shape}\")\n",
    "\n",
    "print(label_augment1)\n",
    "print(label_augment2)\n",
    "\n",
    "data_augment = np.concatenate((data_augment1, data_augment2))\n",
    "label_augment = np.concatenate((label_augment1, label_augment2))\n",
    "\n",
    "print(f\"hasil augmentasi gabungan untuk training: {data_augment.shape}\")\n",
    "print(f\"label augmentasi gabungan: {label_augment.shape}\")\n",
    "\n",
    "\n",
    "# Count occurrences of each unique element\n",
    "counts = np.bincount(label_augment)\n",
    "\n",
    "# Print results\n",
    "for i, count in enumerate(counts):\n",
    "    print(f\"Element {i} occurs {count} times.\")"
   ]
  },
  {
   "cell_type": "code",
   "execution_count": 9,
   "id": "e1e55134",
   "metadata": {},
   "outputs": [],
   "source": [
    "# class ConvTo1D(nn.Module):\n",
    "#     def __init__(self):\n",
    "#         super(ConvTo1D, self).__init__()\n",
    "#         self.conv1 = nn.Conv2d(in_channels=224, out_channels=64, kernel_size=3, padding=1)\n",
    "#         self.conv2 = nn.Conv2d(64, 128, kernel_size=3, padding=1)\n",
    "#         self.pool = nn.AdaptiveAvgPool2d((1, 1))  # (batch_size, 128, 1, 1)\n",
    "#         self.flatten = nn.Flatten()               # (batch_size, 128)\n",
    "\n",
    "#     def forward(self, x):\n",
    "#         x = F.relu(self.conv1(x))\n",
    "#         x = F.relu(self.conv2(x))\n",
    "#         x = self.pool(x)\n",
    "#         x = self.flatten(x)\n",
    "#         return x\n",
    "\n",
    "# feature_extractor = ConvTo1D()"
   ]
  },
  {
   "cell_type": "code",
   "execution_count": 10,
   "id": "59567562",
   "metadata": {},
   "outputs": [
    {
     "name": "stdout",
     "output_type": "stream",
     "text": [
      "(40, 9, 9, 224)\n",
      "(40,)\n",
      "X_train shape: torch.Size([40, 224, 9, 9])\n",
      "torch.Size([40, 18144])\n"
     ]
    }
   ],
   "source": [
    "print(data_augment.shape)\n",
    "print(label_augment.shape)\n",
    "\n",
    "x_data = data_augment \n",
    "y_labels = label_augment\n",
    "\n",
    "x_data = torch.tensor(x_data)\n",
    "x_data = x_data.to(torch.float32)\n",
    "x_data = x_data.permute(0, 3, 1, 2)\n",
    "print(f\"X_train shape: {x_data.shape}\")\n",
    "\n",
    "\n",
    "features_np = torch.flatten(x_data, start_dim=1)\n",
    "\n",
    "print(features_np.shape)\n"
   ]
  },
  {
   "cell_type": "code",
   "execution_count": 11,
   "id": "6e6cab40",
   "metadata": {},
   "outputs": [
    {
     "name": "stdout",
     "output_type": "stream",
     "text": [
      "[1 0 1 0 0 0 0 1 1 1 0 0 0 1 0 0 0 0 0 1]\n",
      "[1 0 1 1 1 0 0 1 1 1 1 1 1 1 0 0 1 0 1 0]\n"
     ]
    }
   ],
   "source": [
    "X = features_np\n",
    "y = y_labels\n",
    "X_train, X_val, y_train, y_val = train_test_split(X, y, test_size=test_size, random_state=seed)\n",
    "\n",
    "print(y_train)\n",
    "print(y_val)"
   ]
  },
  {
   "cell_type": "code",
   "execution_count": 12,
   "id": "2b654b8e",
   "metadata": {},
   "outputs": [
    {
     "name": "stdout",
     "output_type": "stream",
     "text": [
      "Sample 0: Predicted = 1, Prob(class 1) = 1.0000\n",
      "Sample 1: Predicted = 0, Prob(class 1) = 0.0002\n",
      "Sample 2: Predicted = 1, Prob(class 1) = 1.0000\n",
      "Sample 3: Predicted = 1, Prob(class 1) = 1.0000\n",
      "Sample 4: Predicted = 1, Prob(class 1) = 1.0000\n",
      "Sample 5: Predicted = 0, Prob(class 1) = 0.0001\n",
      "Sample 6: Predicted = 0, Prob(class 1) = 0.0014\n",
      "Sample 7: Predicted = 1, Prob(class 1) = 1.0000\n",
      "Sample 8: Predicted = 1, Prob(class 1) = 1.0000\n",
      "Sample 9: Predicted = 1, Prob(class 1) = 1.0000\n",
      "Sample 10: Predicted = 1, Prob(class 1) = 1.0000\n",
      "Sample 11: Predicted = 1, Prob(class 1) = 1.0000\n",
      "Sample 12: Predicted = 1, Prob(class 1) = 0.9860\n",
      "Sample 13: Predicted = 1, Prob(class 1) = 0.9998\n",
      "Sample 14: Predicted = 0, Prob(class 1) = 0.0004\n",
      "Sample 15: Predicted = 0, Prob(class 1) = 0.0004\n",
      "Sample 16: Predicted = 1, Prob(class 1) = 1.0000\n",
      "Sample 17: Predicted = 0, Prob(class 1) = 0.0040\n",
      "Sample 18: Predicted = 1, Prob(class 1) = 1.0000\n",
      "Sample 19: Predicted = 0, Prob(class 1) = 0.0000\n",
      "Validation Accuracy: 1.0000\n"
     ]
    }
   ],
   "source": [
    "pipeline = make_pipeline(\n",
    "    StandardScaler(),\n",
    "    LogisticRegression(random_state=seed, max_iter=1000)  # Set random_state\n",
    ")\n",
    "pipeline.fit(X_train, y_train)\n",
    "\n",
    "# --- Predict probabilities for class 1 ---\n",
    "positive_probs = pipeline.predict_proba(X_val)[:, 1]\n",
    "\n",
    "# --- Convert probabilities to class labels using 0.5 threshold ---\n",
    "predicted_classes = (positive_probs >= 0.5).astype(int)\n",
    "\n",
    "# --- Display predictions with probabilities ---\n",
    "for i, (pred, prob) in enumerate(zip(predicted_classes, positive_probs)):\n",
    "    print(f\"Sample {i}: Predicted = {pred}, Prob(class 1) = {prob:.4f}\")\n",
    "\n",
    "# --- Accuracy ---\n",
    "acc = accuracy_score(y_val, predicted_classes)\n",
    "print(f\"Validation Accuracy: {acc:.4f}\")\n"
   ]
  },
  {
   "cell_type": "code",
   "execution_count": 13,
   "id": "e061b94f",
   "metadata": {},
   "outputs": [],
   "source": [
    "def testWithWholeDataset(n): \n",
    "    hsi_test = datasets[n]\n",
    "\n",
    "    test_img = hsi_test.img\n",
    "    gt= hsi_test.gt\n",
    "\n",
    "    patch_size = 9\n",
    "    half_patch = patch_size // 2\n",
    "\n",
    "    height = test_img.shape[0]\n",
    "    width = test_img.shape[1]\n",
    "\n",
    "    matrix=zeroPadding.zeroPadding_3D(test_img,half_patch) #add 0 in every side of the data\n",
    "    print(f\"img shape: {test_img.shape}\")\n",
    "    print(f\"img shape after padding {matrix.shape}\")\n",
    "    print(f\"number of pixel {width * height}\")\n",
    "\n",
    "    print(f\"ground truth shape: {gt.shape}\")\n",
    "\n",
    "    indices0 = np.argwhere(gt == 0)\n",
    "    indices1 = np.argwhere(gt == 1)\n",
    "\n",
    "    print(f\"indices = 0 shape: {indices0.shape}\")\n",
    "    print(f\"indices = 1 shape: {indices1.shape}\")\n",
    "\n",
    "    return matrix, gt, indices0.shape, indices1.shape"
   ]
  },
  {
   "cell_type": "code",
   "execution_count": 14,
   "id": "04c945c5",
   "metadata": {},
   "outputs": [],
   "source": [
    "def predict_batch_whole(model, batch_input, device):\n",
    "    # convert to NumPy\n",
    "    test_features_np = torch.flatten(batch_input, start_dim=1)  # Flatten all dims except batch\n",
    "\n",
    "    # --- Predict probabilities for class 1 ---\n",
    "    positive_probs = model.predict_proba(test_features_np)[:, 1]\n",
    "\n",
    "    # --- Convert probabilities to class labels using 0.5 threshold ---\n",
    "    predicted_classes = (positive_probs >= 0.5).astype(int)\n",
    "\n",
    "\n",
    "    return predicted_classes, positive_probs\n",
    "   "
   ]
  },
  {
   "cell_type": "code",
   "execution_count": 15,
   "id": "96424ce9",
   "metadata": {},
   "outputs": [],
   "source": [
    "class PatchDataset(Dataset):\n",
    "    def __init__(self, matrix, gt, half_patch, expected_shape):\n",
    "        self.matrix = matrix\n",
    "        self.gt = gt\n",
    "        self.half_patch = half_patch\n",
    "        self.expected_shape = expected_shape\n",
    "        self.size_x, self.size_y = matrix.shape[0], matrix.shape[1]\n",
    "        self.valid_coords = [\n",
    "            (x, y)\n",
    "            for x in range(half_patch, self.size_x - half_patch)\n",
    "            for y in range(half_patch, self.size_y - half_patch)\n",
    "        ]\n",
    "\n",
    "    def __len__(self):\n",
    "        return len(self.valid_coords)\n",
    "\n",
    "    def __getitem__(self, idx):\n",
    "        x, y = self.valid_coords[idx]\n",
    "        true_label = self.gt[x - self.half_patch, y - self.half_patch]\n",
    "\n",
    "        selected_rows = self.matrix[x- self.half_patch:x + 2 * self.half_patch + 1 - self.half_patch, :]\n",
    "        testing_patch = selected_rows[:, y - self.half_patch:y + 2 * self.half_patch + 1 - self.half_patch]\n",
    "\n",
    "        # Verify patch size\n",
    "        if testing_patch.shape != self.expected_shape:\n",
    "            raise ValueError(f\"Patch at ({x},{y}) has wrong shape {testing_patch.shape}\")\n",
    "\n",
    "        patch_tensor = torch.tensor(testing_patch, dtype=torch.float32)\n",
    "        patch_tensor = patch_tensor.permute(2, 0, 1)  # (C, H, W)\n",
    "\n",
    "        return patch_tensor, true_label, x, y  # Also return (x, y) for positioning later"
   ]
  },
  {
   "cell_type": "code",
   "execution_count": 16,
   "id": "b8dbcc00",
   "metadata": {},
   "outputs": [
    {
     "name": "stdout",
     "output_type": "stream",
     "text": [
      "img shape: (1243, 684, 224)\n",
      "img shape after padding (1251, 692, 224)\n",
      "number of pixel 850212\n",
      "ground truth shape: (1243, 684)\n",
      "indices = 0 shape: (820876, 2)\n",
      "indices = 1 shape: (29336, 2)\n",
      "820876\n",
      "29336\n",
      "generate data loader using seed\n",
      "torch.Size([64, 224, 9, 9])\n",
      "torch.Size([64])\n",
      "data loader size: 13285\n"
     ]
    },
    {
     "name": "stderr",
     "output_type": "stream",
     "text": [
      "Predicting: 100%|██████████| 13285/13285 [02:01<00:00, 109.36it/s]\n"
     ]
    },
    {
     "name": "stdout",
     "output_type": "stream",
     "text": [
      "correct0 = 721750\n",
      "correct1 = 26645\n",
      "Score: 748395/850212\n",
      "{'dataset': 0, 'class0_size': 820876, 'class1_size': 29336, 'correct_0': 721750, 'correct_1': 26645, 'correct_total': 748395, 'total': 850212}\n",
      "img shape: (1786, 699, 224)\n",
      "img shape after padding (1794, 707, 224)\n",
      "number of pixel 1248414\n",
      "ground truth shape: (1786, 699)\n",
      "indices = 0 shape: (1236269, 2)\n",
      "indices = 1 shape: (12145, 2)\n",
      "1236269\n",
      "12145\n",
      "generate data loader using seed\n",
      "torch.Size([64, 224, 9, 9])\n",
      "torch.Size([64])\n",
      "data loader size: 19507\n"
     ]
    },
    {
     "name": "stderr",
     "output_type": "stream",
     "text": [
      "Predicting: 100%|██████████| 19507/19507 [03:03<00:00, 106.26it/s]\n"
     ]
    },
    {
     "name": "stdout",
     "output_type": "stream",
     "text": [
      "correct0 = 295998\n",
      "correct1 = 12143\n",
      "Score: 308141/1248414\n",
      "{'dataset': 1, 'class0_size': 1236269, 'class1_size': 12145, 'correct_0': 295998, 'correct_1': 12143, 'correct_total': 308141, 'total': 1248414}\n",
      "img shape: (1386, 690, 224)\n",
      "img shape after padding (1394, 698, 224)\n",
      "number of pixel 956340\n",
      "ground truth shape: (1386, 690)\n",
      "indices = 0 shape: (916980, 2)\n",
      "indices = 1 shape: (39360, 2)\n",
      "916980\n",
      "39360\n",
      "generate data loader using seed\n",
      "torch.Size([64, 224, 9, 9])\n",
      "torch.Size([64])\n",
      "data loader size: 14943\n"
     ]
    },
    {
     "name": "stderr",
     "output_type": "stream",
     "text": [
      "Predicting: 100%|██████████| 14943/14943 [02:18<00:00, 107.93it/s]\n"
     ]
    },
    {
     "name": "stdout",
     "output_type": "stream",
     "text": [
      "correct0 = 662063\n",
      "correct1 = 39178\n",
      "Score: 701241/956340\n",
      "{'dataset': 2, 'class0_size': 916980, 'class1_size': 39360, 'correct_0': 662063, 'correct_1': 39178, 'correct_total': 701241, 'total': 956340}\n",
      "img shape: (1466, 676, 224)\n",
      "img shape after padding (1474, 684, 224)\n",
      "number of pixel 991016\n",
      "ground truth shape: (1466, 676)\n",
      "indices = 0 shape: (959167, 2)\n",
      "indices = 1 shape: (31849, 2)\n",
      "959167\n",
      "31849\n",
      "generate data loader using seed\n",
      "torch.Size([64, 224, 9, 9])\n",
      "torch.Size([64])\n",
      "data loader size: 15485\n"
     ]
    },
    {
     "name": "stderr",
     "output_type": "stream",
     "text": [
      "Predicting: 100%|██████████| 15485/15485 [02:24<00:00, 107.17it/s]\n"
     ]
    },
    {
     "name": "stdout",
     "output_type": "stream",
     "text": [
      "correct0 = 819715\n",
      "correct1 = 31819\n",
      "Score: 851534/991016\n",
      "{'dataset': 3, 'class0_size': 959167, 'class1_size': 31849, 'correct_0': 819715, 'correct_1': 31819, 'correct_total': 851534, 'total': 991016}\n",
      "img shape: (2085, 682, 224)\n",
      "img shape after padding (2093, 690, 224)\n",
      "number of pixel 1421970\n",
      "ground truth shape: (2085, 682)\n",
      "indices = 0 shape: (1363408, 2)\n",
      "indices = 1 shape: (58562, 2)\n",
      "1363408\n",
      "58562\n",
      "generate data loader using seed\n",
      "torch.Size([64, 224, 9, 9])\n",
      "torch.Size([64])\n",
      "data loader size: 22219\n"
     ]
    },
    {
     "name": "stderr",
     "output_type": "stream",
     "text": [
      "Predicting: 100%|██████████| 22219/22219 [03:22<00:00, 109.99it/s]\n"
     ]
    },
    {
     "name": "stdout",
     "output_type": "stream",
     "text": [
      "correct0 = 965438\n",
      "correct1 = 57844\n",
      "Score: 1023282/1421970\n",
      "{'dataset': 4, 'class0_size': 1363408, 'class1_size': 58562, 'correct_0': 965438, 'correct_1': 57844, 'correct_total': 1023282, 'total': 1421970}\n",
      "img shape: (2088, 691, 224)\n",
      "img shape after padding (2096, 699, 224)\n",
      "number of pixel 1442808\n",
      "ground truth shape: (2088, 691)\n",
      "indices = 0 shape: (1389552, 2)\n",
      "indices = 1 shape: (53256, 2)\n",
      "1389552\n",
      "53256\n",
      "generate data loader using seed\n",
      "torch.Size([64, 224, 9, 9])\n",
      "torch.Size([64])\n",
      "data loader size: 22544\n"
     ]
    },
    {
     "name": "stderr",
     "output_type": "stream",
     "text": [
      "Predicting: 100%|██████████| 22544/22544 [03:16<00:00, 114.55it/s]\n"
     ]
    },
    {
     "name": "stdout",
     "output_type": "stream",
     "text": [
      "correct0 = 1209349\n",
      "correct1 = 52340\n",
      "Score: 1261689/1442808\n",
      "{'dataset': 5, 'class0_size': 1389552, 'class1_size': 53256, 'correct_0': 1209349, 'correct_1': 52340, 'correct_total': 1261689, 'total': 1442808}\n",
      "img shape: (1965, 492, 224)\n",
      "img shape after padding (1973, 500, 224)\n",
      "number of pixel 966780\n",
      "ground truth shape: (1965, 492)\n",
      "indices = 0 shape: (873365, 2)\n",
      "indices = 1 shape: (93415, 2)\n",
      "873365\n",
      "93415\n",
      "generate data loader using seed\n",
      "torch.Size([64, 224, 9, 9])\n",
      "torch.Size([64])\n",
      "data loader size: 15106\n"
     ]
    },
    {
     "name": "stderr",
     "output_type": "stream",
     "text": [
      "Predicting: 100%|██████████| 15106/15106 [02:04<00:00, 121.31it/s]\n"
     ]
    },
    {
     "name": "stdout",
     "output_type": "stream",
     "text": [
      "correct0 = 602222\n",
      "correct1 = 84177\n",
      "Score: 686399/966780\n",
      "{'dataset': 6, 'class0_size': 873365, 'class1_size': 93415, 'correct_0': 602222, 'correct_1': 84177, 'correct_total': 686399, 'total': 966780}\n",
      "img shape: (1532, 567, 224)\n",
      "img shape after padding (1540, 575, 224)\n",
      "number of pixel 868644\n",
      "ground truth shape: (1532, 567)\n",
      "indices = 0 shape: (824964, 2)\n",
      "indices = 1 shape: (43680, 2)\n",
      "824964\n",
      "43680\n",
      "generate data loader using seed\n",
      "torch.Size([64, 224, 9, 9])\n",
      "torch.Size([64])\n",
      "data loader size: 13573\n"
     ]
    },
    {
     "name": "stderr",
     "output_type": "stream",
     "text": [
      "Predicting: 100%|██████████| 13573/13573 [01:57<00:00, 115.91it/s]\n"
     ]
    },
    {
     "name": "stdout",
     "output_type": "stream",
     "text": [
      "correct0 = 701931\n",
      "correct1 = 36572\n",
      "Score: 738503/868644\n",
      "{'dataset': 7, 'class0_size': 824964, 'class1_size': 43680, 'correct_0': 701931, 'correct_1': 36572, 'correct_total': 738503, 'total': 868644}\n",
      "img shape: (1569, 517, 224)\n",
      "img shape after padding (1577, 525, 224)\n",
      "number of pixel 811173\n",
      "ground truth shape: (1569, 517)\n",
      "indices = 0 shape: (742935, 2)\n",
      "indices = 1 shape: (68238, 2)\n",
      "742935\n",
      "68238\n",
      "generate data loader using seed\n",
      "torch.Size([64, 224, 9, 9])\n",
      "torch.Size([64])\n",
      "data loader size: 12675\n"
     ]
    },
    {
     "name": "stderr",
     "output_type": "stream",
     "text": [
      "Predicting: 100%|██████████| 12675/12675 [01:44<00:00, 120.94it/s]\n"
     ]
    },
    {
     "name": "stdout",
     "output_type": "stream",
     "text": [
      "correct0 = 574426\n",
      "correct1 = 41155\n",
      "Score: 615581/811173\n",
      "{'dataset': 8, 'class0_size': 742935, 'class1_size': 68238, 'correct_0': 574426, 'correct_1': 41155, 'correct_total': 615581, 'total': 811173}\n",
      "img shape: (1084, 680, 224)\n",
      "img shape after padding (1092, 688, 224)\n",
      "number of pixel 737120\n",
      "ground truth shape: (1084, 680)\n",
      "indices = 0 shape: (691437, 2)\n",
      "indices = 1 shape: (45683, 2)\n",
      "691437\n",
      "45683\n",
      "generate data loader using seed\n",
      "torch.Size([64, 224, 9, 9])\n",
      "torch.Size([64])\n",
      "data loader size: 11518\n"
     ]
    },
    {
     "name": "stderr",
     "output_type": "stream",
     "text": [
      "Predicting: 100%|██████████| 11518/11518 [01:31<00:00, 126.54it/s]"
     ]
    },
    {
     "name": "stdout",
     "output_type": "stream",
     "text": [
      "correct0 = 678808\n",
      "correct1 = 23071\n",
      "Score: 701879/737120\n",
      "{'dataset': 9, 'class0_size': 691437, 'class1_size': 45683, 'correct_0': 678808, 'correct_1': 23071, 'correct_total': 701879, 'total': 737120}\n"
     ]
    },
    {
     "name": "stderr",
     "output_type": "stream",
     "text": [
      "\n"
     ]
    }
   ],
   "source": [
    "device = torch.device(\"cuda\" if torch.cuda.is_available() else \"cpu\")\n",
    "\n",
    "scores = []\n",
    "groundtruth = []\n",
    "prediction = []\n",
    "y_probs = []\n",
    "\n",
    "\n",
    "timestamp = datetime.now().strftime('%Y%m%d_%H%M%S')\n",
    "os.makedirs(f\"predictions/{timestamp}\", exist_ok=True)\n",
    "for dataset in range(len(datasets)):\n",
    "\n",
    "    score = []\n",
    "    patch_size = 9\n",
    "    half_patch = patch_size // 2\n",
    "\n",
    "    data_sampler = None\n",
    "    batch_size = 64\n",
    "\n",
    "    correct0 = 0\n",
    "    correct1 = 0\n",
    "    matrix = []\n",
    "    gt = []\n",
    "    expected_patch_shape = []\n",
    "    dataset_patches = []\n",
    "    data_loader = []\n",
    "    patch_tensor = []\n",
    "    true_label = [] \n",
    "    x = []\n",
    "    y = []\n",
    "    pred_matrix = []\n",
    "\n",
    "    matrix, gt, indices_0_shape, indices_1_shape = testWithWholeDataset(dataset)\n",
    "    print(indices_0_shape[0])\n",
    "    print(indices_1_shape[0])\n",
    "\n",
    "    expected_patch_shape = (2 * half_patch + 1, 2 * half_patch + 1, matrix.shape[2])\n",
    "    dataset_patches = PatchDataset(matrix, gt, half_patch, expected_patch_shape)\n",
    "\n",
    "    if seeded_run:\n",
    "        g = torch.Generator()\n",
    "        g.manual_seed(seed)\n",
    "\n",
    "        data_loader = DataLoader(\n",
    "            dataset_patches,\n",
    "            batch_size=batch_size,\n",
    "            shuffle=False,  # set to True if needed\n",
    "            num_workers=0,\n",
    "            pin_memory=True,\n",
    "            drop_last=False,\n",
    "            generator=g\n",
    "        )\n",
    "        print(\"generate data loader using seed\")\n",
    "    else:\n",
    "        data_loader = DataLoader(dataset_patches, batch_size=batch_size, shuffle=False, num_workers=0, pin_memory=True, drop_last=False)\n",
    "\n",
    "\n",
    "\n",
    "\n",
    "    patch_tensor, true_label, x, y = next(iter(data_loader))\n",
    "\n",
    "    print(patch_tensor.size())\n",
    "    print(true_label.size())\n",
    "    print(f\"data loader size: {len(data_loader)}\")\n",
    "\n",
    "    pred_matrix = np.full(gt.shape, -1, dtype=np.int32)\n",
    "    correct = 0\n",
    "\n",
    "    for input_batch, label_batch, x_batch, y_batch in tqdm(data_loader, desc=\"Predicting\"):\n",
    "\n",
    "\n",
    "        preds, confs = predict_batch_whole(pipeline, input_batch, device)\n",
    "\n",
    "        prediction.append(preds)\n",
    "        y_probs.append(confs)\n",
    "        \n",
    "        label_batch = label_batch.numpy()\n",
    "        x_batch = x_batch.numpy()\n",
    "        y_batch = y_batch.numpy()\n",
    "\n",
    "        for pred, label, x, y in zip(preds, label_batch, x_batch, y_batch):\n",
    "            groundtruth.append(label)\n",
    "            pred_matrix[x - half_patch, y - half_patch] = pred\n",
    "            if pred == label:\n",
    "                if label == 0:\n",
    "                    correct0 += 1\n",
    "                elif label == 1:\n",
    "                    correct1 += 1\n",
    "                \n",
    "    correct = correct0+correct1\n",
    "    print(f\"correct0 = {correct0}\")\n",
    "    print(f\"correct1 = {correct1}\")\n",
    "    total = gt.shape[0] * gt.shape[1]\n",
    "    print(f\"Score: {correct}/{total}\")\n",
    "\n",
    "    score = {\n",
    "        'dataset': dataset,\n",
    "        'class0_size': indices_0_shape[0],\n",
    "        'class1_size': indices_1_shape[0],\n",
    "        'correct_0': correct0,\n",
    "        'correct_1': correct1,\n",
    "        'correct_total': correct,\n",
    "        'total': total\n",
    "    }\n",
    "    print(score)\n",
    "    scores.append(score)\n",
    "    # Save prediction matrix\n",
    "    # timestamp = datetime.now().strftime('%Y%m%d_%H%M%S')\n",
    "    np.save(f\"predictions/{timestamp}/results {dataset} LR.npy\", pred_matrix)"
   ]
  },
  {
   "cell_type": "code",
   "execution_count": 17,
   "id": "2dbeed29",
   "metadata": {},
   "outputs": [
    {
     "name": "stdout",
     "output_type": "stream",
     "text": [
      "dataset: 0\t 721750/820876\t 26645/29336\t 748395/850212\t\n",
      "dataset: 1\t 295998/1236269\t 12143/12145\t 308141/1248414\t\n",
      "dataset: 2\t 662063/916980\t 39178/39360\t 701241/956340\t\n",
      "dataset: 3\t 819715/959167\t 31819/31849\t 851534/991016\t\n",
      "dataset: 4\t 965438/1363408\t 57844/58562\t 1023282/1421970\t\n",
      "dataset: 5\t 1209349/1389552\t 52340/53256\t 1261689/1442808\t\n",
      "dataset: 6\t 602222/873365\t 84177/93415\t 686399/966780\t\n",
      "dataset: 7\t 701931/824964\t 36572/43680\t 738503/868644\t\n",
      "dataset: 8\t 574426/742935\t 41155/68238\t 615581/811173\t\n",
      "dataset: 9\t 678808/691437\t 23071/45683\t 701879/737120\t\n",
      "total: \t\t 7231700/4909476.5 \t 404944/237762.0 \t 7636644/10294477\n",
      "acc: 0.7418195212831113\n"
     ]
    }
   ],
   "source": [
    "all_correct = 0\n",
    "all_total = 0\n",
    "all_correct0 = 0\n",
    "all_correct1 = 0\n",
    "class0_total = 0\n",
    "class1_total = 0\n",
    "\n",
    "for score in scores:\n",
    "    dataset = score['dataset']\n",
    "    correct0 = score['correct_0']\n",
    "    correct1 = score['correct_1']\n",
    "    class0_size = score['class0_size']\n",
    "    class1_size = score['class1_size']\n",
    "    correct = score['correct_total']\n",
    "    total = score['total']\n",
    "    print(f\"dataset: {dataset}\\t\", f'{correct0}/{class0_size}\\t', f'{correct1}/{class1_size}\\t', f'{correct}/{total}\\t')\n",
    "\n",
    "    all_correct += correct\n",
    "    all_total += total\n",
    "    all_correct0 += correct0\n",
    "    all_correct1 += correct1\n",
    "    class0_total += class0_size\n",
    "    class1_total += class1_size\n",
    "\n",
    "\n",
    "\n",
    "print(f\"total: \\t\\t {all_correct0}/{class0_total/2} \\t {all_correct1}/{class1_total/2} \\t {all_correct}/{all_total}\")\n",
    "\n",
    "print(f\"acc: {all_correct/all_total}\")"
   ]
  },
  {
   "cell_type": "code",
   "execution_count": 18,
   "id": "e20a3a65",
   "metadata": {},
   "outputs": [],
   "source": [
    "all_total_score = {\n",
    "    'dataset': 'Total Dataset',\n",
    "    'correct_0': all_correct0,\n",
    "    'correct_1': all_correct1,\n",
    "    'class0_total': class0_total,\n",
    "    'class1_total': class1_total,\n",
    "    'correct_total': all_correct,\n",
    "    'total': all_total\n",
    "}\n",
    "\n",
    "scores.append(all_total_score)"
   ]
  },
  {
   "cell_type": "code",
   "execution_count": 19,
   "id": "161987f8",
   "metadata": {},
   "outputs": [
    {
     "name": "stdout",
     "output_type": "stream",
     "text": [
      "10294477\n",
      "10294477\n",
      "10294477\n"
     ]
    }
   ],
   "source": [
    "groundtruths = groundtruth\n",
    "groundtruth_in = []\n",
    "\n",
    "for x in groundtruths:\n",
    "    groundtruth_in.append(x)\n",
    "\n",
    "predictions = prediction\n",
    "prediction_in = []\n",
    "\n",
    "for x in predictions:\n",
    "    for y in x:\n",
    "        prediction_in.append(y)\n",
    "\n",
    "\n",
    "y_prob_in = []\n",
    "\n",
    "for x in y_probs:\n",
    "    for y in x:\n",
    "        y_prob_in.append(y)\n",
    "\n",
    "print(len(groundtruth_in))\n",
    "print(len(prediction_in))\n",
    "print(len(y_prob_in))"
   ]
  },
  {
   "cell_type": "code",
   "execution_count": 20,
   "id": "ca064f58",
   "metadata": {},
   "outputs": [
    {
     "name": "stdout",
     "output_type": "stream",
     "text": [
      "7636644/10294477\n"
     ]
    }
   ],
   "source": [
    "y_test = groundtruth_in\n",
    "y_pred = prediction_in\n",
    "correct = 0\n",
    "total = 0\n",
    "\n",
    "for x, y in zip(y_test, y_pred):\n",
    "    total += 1\n",
    "    if x == y:\n",
    "        correct += 1\n",
    "\n",
    "print(f'{correct}/{total}')"
   ]
  },
  {
   "cell_type": "code",
   "execution_count": 21,
   "id": "0f2f283c",
   "metadata": {},
   "outputs": [
    {
     "name": "stdout",
     "output_type": "stream",
     "text": [
      "Unique values in y_test: [0 1]\n",
      "Sample y_pred values: [np.int64(0), np.int64(0), np.int64(0), np.int64(1), np.int64(1)]\n"
     ]
    }
   ],
   "source": [
    "y_test_np = np.array([label.item() for label in y_test])\n",
    "# Ensure labels are binary (0 and 1)\n",
    "print(\"Unique values in y_test:\", pd.Series(y_test_np).unique())\n",
    "\n",
    "# Check if y_pred is probability (float) or hard prediction (int)\n",
    "print(\"Sample y_pred values:\", y_pred[:5])"
   ]
  },
  {
   "cell_type": "code",
   "execution_count": 22,
   "id": "54f4552d",
   "metadata": {},
   "outputs": [
    {
     "data": {
      "image/png": "[encoded data removed]",
      "text/plain": [
       "<Figure size 700x500 with 1 Axes>"
      ]
     },
     "metadata": {},
     "output_type": "display_data"
    }
   ],
   "source": [
    "test_df = pd.DataFrame(\n",
    "    {'True': y_test_np, 'Model': y_prob_in})\n",
    "\n",
    "plt.figure(figsize=(7, 5))\n",
    "\n",
    "\n",
    "fpr, tpr, _ = roc_curve(test_df['True'], test_df['Model'])\n",
    "roc_auc = auc(fpr, tpr)\n",
    "plt.plot(fpr, tpr, label=f'Model (AUC = {roc_auc:.2f})')\n",
    "\n",
    "plt.plot([0, 1], [0, 1], 'r--', label='Random Guess')\n",
    "\n",
    "plt.xlabel('False Positive Rate')\n",
    "plt.ylabel('True Positive Rate')\n",
    "plt.title('ROC Curves for Two Models')\n",
    "plt.legend()\n",
    "plt.show()"
   ]
  },
  {
   "cell_type": "code",
   "execution_count": 23,
   "id": "2d94b420",
   "metadata": {},
   "outputs": [
    {
     "name": "stdout",
     "output_type": "stream",
     "text": [
      "Precision: 0.5628\n",
      "Recall:    0.7940\n",
      "F1 Score:  0.5392\n",
      "OA:        0.7418\n",
      "AA:        0.7940\n"
     ]
    }
   ],
   "source": [
    "y_true = np.array([int(label) for label in y_test_np])  # true labels\n",
    "y_pred = prediction_in                         # predicted class labels (e.g., from predict_batch)\n",
    "\n",
    "# Precision, Recall, F1\n",
    "precision = precision_score(y_true, y_pred, average='macro')  # Use 'binary' if binary task\n",
    "recall = recall_score(y_true, y_pred, average='macro')\n",
    "f1 = f1_score(y_true, y_pred, average='macro')\n",
    "\n",
    "# Overall Accuracy (OA)\n",
    "oa = accuracy_score(y_true, y_pred)\n",
    "\n",
    "# Average Accuracy (AA) — mean of per-class accuracies\n",
    "cm = confusion_matrix(y_true, y_pred)\n",
    "per_class_acc = cm.diagonal() / cm.sum(axis=1)\n",
    "aa = per_class_acc.mean()\n",
    "\n",
    "# Print all metrics\n",
    "print(f\"Precision: {precision:.4f}\")\n",
    "print(f\"Recall:    {recall:.4f}\")\n",
    "print(f\"F1 Score:  {f1:.4f}\")\n",
    "print(f\"OA:        {oa:.4f}\")\n",
    "print(f\"AA:        {aa:.4f}\")"
   ]
  },
  {
   "cell_type": "code",
   "execution_count": 24,
   "id": "61172db6",
   "metadata": {},
   "outputs": [],
   "source": [
    "performance = {\n",
    "    'AUC': float(roc_auc),\n",
    "    'precision': float(precision),\n",
    "    'recall': float(recall),\n",
    "    'F1 Score': float(f1),\n",
    "    'OA': float(oa),\n",
    "    'AA': float(aa),\n",
    "}\n",
    "result_json = {\n",
    "    'prediction' : scores,\n",
    "    'performance' : performance,\n",
    "}"
   ]
  },
  {
   "cell_type": "code",
   "execution_count": 25,
   "id": "832667d0",
   "metadata": {},
   "outputs": [
    {
     "name": "stdout",
     "output_type": "stream",
     "text": [
      "{'prediction': [{'dataset': 0, 'class0_size': 820876, 'class1_size': 29336, 'correct_0': 721750, 'correct_1': 26645, 'correct_total': 748395, 'total': 850212}, {'dataset': 1, 'class0_size': 1236269, 'class1_size': 12145, 'correct_0': 295998, 'correct_1': 12143, 'correct_total': 308141, 'total': 1248414}, {'dataset': 2, 'class0_size': 916980, 'class1_size': 39360, 'correct_0': 662063, 'correct_1': 39178, 'correct_total': 701241, 'total': 956340}, {'dataset': 3, 'class0_size': 959167, 'class1_size': 31849, 'correct_0': 819715, 'correct_1': 31819, 'correct_total': 851534, 'total': 991016}, {'dataset': 4, 'class0_size': 1363408, 'class1_size': 58562, 'correct_0': 965438, 'correct_1': 57844, 'correct_total': 1023282, 'total': 1421970}, {'dataset': 5, 'class0_size': 1389552, 'class1_size': 53256, 'correct_0': 1209349, 'correct_1': 52340, 'correct_total': 1261689, 'total': 1442808}, {'dataset': 6, 'class0_size': 873365, 'class1_size': 93415, 'correct_0': 602222, 'correct_1': 84177, 'correct_total': 686399, 'total': 966780}, {'dataset': 7, 'class0_size': 824964, 'class1_size': 43680, 'correct_0': 701931, 'correct_1': 36572, 'correct_total': 738503, 'total': 868644}, {'dataset': 8, 'class0_size': 742935, 'class1_size': 68238, 'correct_0': 574426, 'correct_1': 41155, 'correct_total': 615581, 'total': 811173}, {'dataset': 9, 'class0_size': 691437, 'class1_size': 45683, 'correct_0': 678808, 'correct_1': 23071, 'correct_total': 701879, 'total': 737120}, {'dataset': 'Total Dataset', 'correct_0': 7231700, 'correct_1': 404944, 'class0_total': 9818953, 'class1_total': 475524, 'correct_total': 7636644, 'total': 10294477}], 'performance': {'AUC': 0.8383432839607426, 'precision': 0.5628339304967749, 'recall': 0.7940392253499412, 'F1 Score': 0.5391572166282432, 'OA': 0.7418195212831113, 'AA': 0.7940392253499412}}\n",
      "JSON saved to results.json\n"
     ]
    }
   ],
   "source": [
    "# timestamp = datetime.now().strftime('%Y%m%d_%H%M%S')\n",
    "print(result_json)\n",
    "\n",
    "with open(f\"performance/LR {timestamp}_results.json\", \"w\") as f:\n",
    "    json.dump(result_json, f, indent=2)\n",
    "\n",
    "print(\"JSON saved to results.json\")"
   ]
  },
  {
   "cell_type": "code",
   "execution_count": 26,
   "id": "88deb678",
   "metadata": {},
   "outputs": [
    {
     "name": "stdout",
     "output_type": "stream",
     "text": [
      "Run time: 1459.1552 seconds\n",
      "20250611_132648\n",
      "seet used: 192\n"
     ]
    }
   ],
   "source": [
    "end_time = time.time()\n",
    "print(f\"Run time: {end_time - start_time:.4f} seconds\")\n",
    "\n",
    "print(timestamp)\n",
    "print(f\"seet used: {seed}\")"
   ]
  }
 ],
 "metadata": {
  "kernelspec": {
   "display_name": "fathanvenv",
   "language": "python",
   "name": "python3"
  },
  "language_info": {
   "codemirror_mode": {
    "name": "ipython",
    "version": 3
   },
   "file_extension": ".py",
   "mimetype": "text/x-python",
   "name": "python",
   "nbconvert_exporter": "python",
   "pygments_lexer": "ipython3",
   "version": "3.12.4"
  }
 },
 "nbformat": 4,
 "nbformat_minor": 5
}
